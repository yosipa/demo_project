{
 "cells": [
  {
   "cell_type": "code",
   "execution_count": 124,
   "metadata": {},
   "outputs": [],
   "source": [
    "import pandas as pd\n",
    "import plotly.express as px\n",
    "import plotly.graph_objects as go"
   ]
  },
  {
   "cell_type": "code",
   "execution_count": 125,
   "metadata": {},
   "outputs": [
    {
     "data": {
      "text/html": [
       "<div>\n",
       "<style scoped>\n",
       "    .dataframe tbody tr th:only-of-type {\n",
       "        vertical-align: middle;\n",
       "    }\n",
       "\n",
       "    .dataframe tbody tr th {\n",
       "        vertical-align: top;\n",
       "    }\n",
       "\n",
       "    .dataframe thead th {\n",
       "        text-align: right;\n",
       "    }\n",
       "</style>\n",
       "<table border=\"1\" class=\"dataframe\">\n",
       "  <thead>\n",
       "    <tr style=\"text-align: right;\">\n",
       "      <th></th>\n",
       "      <th>age</th>\n",
       "      <th>job</th>\n",
       "      <th>marital</th>\n",
       "      <th>education</th>\n",
       "      <th>default</th>\n",
       "      <th>housing</th>\n",
       "      <th>loan</th>\n",
       "      <th>contact</th>\n",
       "      <th>month</th>\n",
       "      <th>day_of_week</th>\n",
       "      <th>...</th>\n",
       "      <th>campaign</th>\n",
       "      <th>pdays</th>\n",
       "      <th>previous</th>\n",
       "      <th>poutcome</th>\n",
       "      <th>emp_var_rate</th>\n",
       "      <th>cons_price_idx</th>\n",
       "      <th>cons_conf_idx</th>\n",
       "      <th>euribor3m</th>\n",
       "      <th>nr_employed</th>\n",
       "      <th>y</th>\n",
       "    </tr>\n",
       "  </thead>\n",
       "  <tbody>\n",
       "    <tr>\n",
       "      <th>0</th>\n",
       "      <td>56</td>\n",
       "      <td>housemaid</td>\n",
       "      <td>married</td>\n",
       "      <td>basic.4y</td>\n",
       "      <td>no</td>\n",
       "      <td>no</td>\n",
       "      <td>no</td>\n",
       "      <td>telephone</td>\n",
       "      <td>may</td>\n",
       "      <td>mon</td>\n",
       "      <td>...</td>\n",
       "      <td>1</td>\n",
       "      <td>999</td>\n",
       "      <td>0</td>\n",
       "      <td>nonexistent</td>\n",
       "      <td>1.1</td>\n",
       "      <td>93.994</td>\n",
       "      <td>-36.4</td>\n",
       "      <td>4.857</td>\n",
       "      <td>5191.0</td>\n",
       "      <td>no</td>\n",
       "    </tr>\n",
       "    <tr>\n",
       "      <th>1</th>\n",
       "      <td>57</td>\n",
       "      <td>services</td>\n",
       "      <td>married</td>\n",
       "      <td>high.school</td>\n",
       "      <td>no</td>\n",
       "      <td>no</td>\n",
       "      <td>no</td>\n",
       "      <td>telephone</td>\n",
       "      <td>may</td>\n",
       "      <td>mon</td>\n",
       "      <td>...</td>\n",
       "      <td>1</td>\n",
       "      <td>999</td>\n",
       "      <td>0</td>\n",
       "      <td>nonexistent</td>\n",
       "      <td>1.1</td>\n",
       "      <td>93.994</td>\n",
       "      <td>-36.4</td>\n",
       "      <td>4.857</td>\n",
       "      <td>5191.0</td>\n",
       "      <td>no</td>\n",
       "    </tr>\n",
       "    <tr>\n",
       "      <th>2</th>\n",
       "      <td>37</td>\n",
       "      <td>services</td>\n",
       "      <td>married</td>\n",
       "      <td>high.school</td>\n",
       "      <td>no</td>\n",
       "      <td>yes</td>\n",
       "      <td>no</td>\n",
       "      <td>telephone</td>\n",
       "      <td>may</td>\n",
       "      <td>mon</td>\n",
       "      <td>...</td>\n",
       "      <td>1</td>\n",
       "      <td>999</td>\n",
       "      <td>0</td>\n",
       "      <td>nonexistent</td>\n",
       "      <td>1.1</td>\n",
       "      <td>93.994</td>\n",
       "      <td>-36.4</td>\n",
       "      <td>4.857</td>\n",
       "      <td>5191.0</td>\n",
       "      <td>no</td>\n",
       "    </tr>\n",
       "    <tr>\n",
       "      <th>3</th>\n",
       "      <td>40</td>\n",
       "      <td>admin.</td>\n",
       "      <td>married</td>\n",
       "      <td>basic.6y</td>\n",
       "      <td>no</td>\n",
       "      <td>no</td>\n",
       "      <td>no</td>\n",
       "      <td>telephone</td>\n",
       "      <td>may</td>\n",
       "      <td>mon</td>\n",
       "      <td>...</td>\n",
       "      <td>1</td>\n",
       "      <td>999</td>\n",
       "      <td>0</td>\n",
       "      <td>nonexistent</td>\n",
       "      <td>1.1</td>\n",
       "      <td>93.994</td>\n",
       "      <td>-36.4</td>\n",
       "      <td>4.857</td>\n",
       "      <td>5191.0</td>\n",
       "      <td>no</td>\n",
       "    </tr>\n",
       "    <tr>\n",
       "      <th>4</th>\n",
       "      <td>56</td>\n",
       "      <td>services</td>\n",
       "      <td>married</td>\n",
       "      <td>high.school</td>\n",
       "      <td>no</td>\n",
       "      <td>no</td>\n",
       "      <td>yes</td>\n",
       "      <td>telephone</td>\n",
       "      <td>may</td>\n",
       "      <td>mon</td>\n",
       "      <td>...</td>\n",
       "      <td>1</td>\n",
       "      <td>999</td>\n",
       "      <td>0</td>\n",
       "      <td>nonexistent</td>\n",
       "      <td>1.1</td>\n",
       "      <td>93.994</td>\n",
       "      <td>-36.4</td>\n",
       "      <td>4.857</td>\n",
       "      <td>5191.0</td>\n",
       "      <td>no</td>\n",
       "    </tr>\n",
       "  </tbody>\n",
       "</table>\n",
       "<p>5 rows × 21 columns</p>\n",
       "</div>"
      ],
      "text/plain": [
       "   age        job  marital    education default housing loan    contact month  \\\n",
       "0   56  housemaid  married     basic.4y      no      no   no  telephone   may   \n",
       "1   57   services  married  high.school      no      no   no  telephone   may   \n",
       "2   37   services  married  high.school      no     yes   no  telephone   may   \n",
       "3   40     admin.  married     basic.6y      no      no   no  telephone   may   \n",
       "4   56   services  married  high.school      no      no  yes  telephone   may   \n",
       "\n",
       "  day_of_week  ...  campaign  pdays  previous     poutcome emp_var_rate  \\\n",
       "0         mon  ...         1    999         0  nonexistent          1.1   \n",
       "1         mon  ...         1    999         0  nonexistent          1.1   \n",
       "2         mon  ...         1    999         0  nonexistent          1.1   \n",
       "3         mon  ...         1    999         0  nonexistent          1.1   \n",
       "4         mon  ...         1    999         0  nonexistent          1.1   \n",
       "\n",
       "   cons_price_idx  cons_conf_idx  euribor3m  nr_employed   y  \n",
       "0          93.994          -36.4      4.857       5191.0  no  \n",
       "1          93.994          -36.4      4.857       5191.0  no  \n",
       "2          93.994          -36.4      4.857       5191.0  no  \n",
       "3          93.994          -36.4      4.857       5191.0  no  \n",
       "4          93.994          -36.4      4.857       5191.0  no  \n",
       "\n",
       "[5 rows x 21 columns]"
      ]
     },
     "execution_count": 125,
     "metadata": {},
     "output_type": "execute_result"
    }
   ],
   "source": [
    "df = pd.read_csv(\"../data/clean/bank-additional-clean.csv\")\n",
    "df.head()"
   ]
  },
  {
   "cell_type": "code",
   "execution_count": 126,
   "metadata": {},
   "outputs": [
    {
     "data": {
      "text/plain": [
       "(38234, 21)"
      ]
     },
     "execution_count": 126,
     "metadata": {},
     "output_type": "execute_result"
    }
   ],
   "source": [
    "df.shape"
   ]
  },
  {
   "cell_type": "code",
   "execution_count": 127,
   "metadata": {},
   "outputs": [],
   "source": [
    "colors = {'no': 'red',\n",
    "          'yes': 'lightgreen'}"
   ]
  },
  {
   "cell_type": "code",
   "execution_count": 128,
   "metadata": {},
   "outputs": [],
   "source": [
    "df.insert(21,\"y_count\", df[\"y\"])"
   ]
  },
  {
   "cell_type": "markdown",
   "metadata": {},
   "source": [
    "## Does the day of week affect deposit outcome?"
   ]
  },
  {
   "cell_type": "code",
   "execution_count": 129,
   "metadata": {},
   "outputs": [
    {
     "data": {
      "application/vnd.plotly.v1+json": {
       "config": {
        "plotlyServerURL": "https://plot.ly"
       },
       "data": [
        {
         "alignmentgroup": "True",
         "hovertemplate": "y=no<br>day_of_week=%{x}<br>campaign=%{y}<extra></extra>",
         "legendgroup": "no",
         "marker": {
          "color": "#636efa"
         },
         "name": "no",
         "offsetgroup": "no",
         "orientation": "v",
         "showlegend": true,
         "textposition": "auto",
         "type": "bar",
         "x": [
          "fri",
          "mon",
          "thu",
          "tue",
          "wed"
         ],
         "xaxis": "x",
         "y": [
          6452,
          7139,
          7046,
          6613,
          6727
         ],
         "yaxis": "y"
        },
        {
         "alignmentgroup": "True",
         "hovertemplate": "y=yes<br>day_of_week=%{x}<br>campaign=%{y}<extra></extra>",
         "legendgroup": "yes",
         "marker": {
          "color": "#EF553B"
         },
         "name": "yes",
         "offsetgroup": "yes",
         "orientation": "v",
         "showlegend": true,
         "textposition": "auto",
         "type": "bar",
         "x": [
          "fri",
          "mon",
          "thu",
          "tue",
          "wed"
         ],
         "xaxis": "x",
         "y": [
          771,
          786,
          961,
          864,
          875
         ],
         "yaxis": "y"
        }
       ],
       "layout": {
        "autosize": true,
        "barmode": "group",
        "legend": {
         "title": {
          "text": "y"
         },
         "tracegroupgap": 0
        },
        "margin": {
         "t": 60
        },
        "template": {
         "data": {
          "bar": [
           {
            "error_x": {
             "color": "#2a3f5f"
            },
            "error_y": {
             "color": "#2a3f5f"
            },
            "marker": {
             "line": {
              "color": "#E5ECF6",
              "width": 0.5
             }
            },
            "type": "bar"
           }
          ],
          "barpolar": [
           {
            "marker": {
             "line": {
              "color": "#E5ECF6",
              "width": 0.5
             }
            },
            "type": "barpolar"
           }
          ],
          "carpet": [
           {
            "aaxis": {
             "endlinecolor": "#2a3f5f",
             "gridcolor": "white",
             "linecolor": "white",
             "minorgridcolor": "white",
             "startlinecolor": "#2a3f5f"
            },
            "baxis": {
             "endlinecolor": "#2a3f5f",
             "gridcolor": "white",
             "linecolor": "white",
             "minorgridcolor": "white",
             "startlinecolor": "#2a3f5f"
            },
            "type": "carpet"
           }
          ],
          "choropleth": [
           {
            "colorbar": {
             "outlinewidth": 0,
             "ticks": ""
            },
            "type": "choropleth"
           }
          ],
          "contour": [
           {
            "colorbar": {
             "outlinewidth": 0,
             "ticks": ""
            },
            "colorscale": [
             [
              0,
              "#0d0887"
             ],
             [
              0.1111111111111111,
              "#46039f"
             ],
             [
              0.2222222222222222,
              "#7201a8"
             ],
             [
              0.3333333333333333,
              "#9c179e"
             ],
             [
              0.4444444444444444,
              "#bd3786"
             ],
             [
              0.5555555555555556,
              "#d8576b"
             ],
             [
              0.6666666666666666,
              "#ed7953"
             ],
             [
              0.7777777777777778,
              "#fb9f3a"
             ],
             [
              0.8888888888888888,
              "#fdca26"
             ],
             [
              1,
              "#f0f921"
             ]
            ],
            "type": "contour"
           }
          ],
          "contourcarpet": [
           {
            "colorbar": {
             "outlinewidth": 0,
             "ticks": ""
            },
            "type": "contourcarpet"
           }
          ],
          "heatmap": [
           {
            "colorbar": {
             "outlinewidth": 0,
             "ticks": ""
            },
            "colorscale": [
             [
              0,
              "#0d0887"
             ],
             [
              0.1111111111111111,
              "#46039f"
             ],
             [
              0.2222222222222222,
              "#7201a8"
             ],
             [
              0.3333333333333333,
              "#9c179e"
             ],
             [
              0.4444444444444444,
              "#bd3786"
             ],
             [
              0.5555555555555556,
              "#d8576b"
             ],
             [
              0.6666666666666666,
              "#ed7953"
             ],
             [
              0.7777777777777778,
              "#fb9f3a"
             ],
             [
              0.8888888888888888,
              "#fdca26"
             ],
             [
              1,
              "#f0f921"
             ]
            ],
            "type": "heatmap"
           }
          ],
          "heatmapgl": [
           {
            "colorbar": {
             "outlinewidth": 0,
             "ticks": ""
            },
            "colorscale": [
             [
              0,
              "#0d0887"
             ],
             [
              0.1111111111111111,
              "#46039f"
             ],
             [
              0.2222222222222222,
              "#7201a8"
             ],
             [
              0.3333333333333333,
              "#9c179e"
             ],
             [
              0.4444444444444444,
              "#bd3786"
             ],
             [
              0.5555555555555556,
              "#d8576b"
             ],
             [
              0.6666666666666666,
              "#ed7953"
             ],
             [
              0.7777777777777778,
              "#fb9f3a"
             ],
             [
              0.8888888888888888,
              "#fdca26"
             ],
             [
              1,
              "#f0f921"
             ]
            ],
            "type": "heatmapgl"
           }
          ],
          "histogram": [
           {
            "marker": {
             "colorbar": {
              "outlinewidth": 0,
              "ticks": ""
             }
            },
            "type": "histogram"
           }
          ],
          "histogram2d": [
           {
            "colorbar": {
             "outlinewidth": 0,
             "ticks": ""
            },
            "colorscale": [
             [
              0,
              "#0d0887"
             ],
             [
              0.1111111111111111,
              "#46039f"
             ],
             [
              0.2222222222222222,
              "#7201a8"
             ],
             [
              0.3333333333333333,
              "#9c179e"
             ],
             [
              0.4444444444444444,
              "#bd3786"
             ],
             [
              0.5555555555555556,
              "#d8576b"
             ],
             [
              0.6666666666666666,
              "#ed7953"
             ],
             [
              0.7777777777777778,
              "#fb9f3a"
             ],
             [
              0.8888888888888888,
              "#fdca26"
             ],
             [
              1,
              "#f0f921"
             ]
            ],
            "type": "histogram2d"
           }
          ],
          "histogram2dcontour": [
           {
            "colorbar": {
             "outlinewidth": 0,
             "ticks": ""
            },
            "colorscale": [
             [
              0,
              "#0d0887"
             ],
             [
              0.1111111111111111,
              "#46039f"
             ],
             [
              0.2222222222222222,
              "#7201a8"
             ],
             [
              0.3333333333333333,
              "#9c179e"
             ],
             [
              0.4444444444444444,
              "#bd3786"
             ],
             [
              0.5555555555555556,
              "#d8576b"
             ],
             [
              0.6666666666666666,
              "#ed7953"
             ],
             [
              0.7777777777777778,
              "#fb9f3a"
             ],
             [
              0.8888888888888888,
              "#fdca26"
             ],
             [
              1,
              "#f0f921"
             ]
            ],
            "type": "histogram2dcontour"
           }
          ],
          "mesh3d": [
           {
            "colorbar": {
             "outlinewidth": 0,
             "ticks": ""
            },
            "type": "mesh3d"
           }
          ],
          "parcoords": [
           {
            "line": {
             "colorbar": {
              "outlinewidth": 0,
              "ticks": ""
             }
            },
            "type": "parcoords"
           }
          ],
          "pie": [
           {
            "automargin": true,
            "type": "pie"
           }
          ],
          "scatter": [
           {
            "marker": {
             "colorbar": {
              "outlinewidth": 0,
              "ticks": ""
             }
            },
            "type": "scatter"
           }
          ],
          "scatter3d": [
           {
            "line": {
             "colorbar": {
              "outlinewidth": 0,
              "ticks": ""
             }
            },
            "marker": {
             "colorbar": {
              "outlinewidth": 0,
              "ticks": ""
             }
            },
            "type": "scatter3d"
           }
          ],
          "scattercarpet": [
           {
            "marker": {
             "colorbar": {
              "outlinewidth": 0,
              "ticks": ""
             }
            },
            "type": "scattercarpet"
           }
          ],
          "scattergeo": [
           {
            "marker": {
             "colorbar": {
              "outlinewidth": 0,
              "ticks": ""
             }
            },
            "type": "scattergeo"
           }
          ],
          "scattergl": [
           {
            "marker": {
             "colorbar": {
              "outlinewidth": 0,
              "ticks": ""
             }
            },
            "type": "scattergl"
           }
          ],
          "scattermapbox": [
           {
            "marker": {
             "colorbar": {
              "outlinewidth": 0,
              "ticks": ""
             }
            },
            "type": "scattermapbox"
           }
          ],
          "scatterpolar": [
           {
            "marker": {
             "colorbar": {
              "outlinewidth": 0,
              "ticks": ""
             }
            },
            "type": "scatterpolar"
           }
          ],
          "scatterpolargl": [
           {
            "marker": {
             "colorbar": {
              "outlinewidth": 0,
              "ticks": ""
             }
            },
            "type": "scatterpolargl"
           }
          ],
          "scatterternary": [
           {
            "marker": {
             "colorbar": {
              "outlinewidth": 0,
              "ticks": ""
             }
            },
            "type": "scatterternary"
           }
          ],
          "surface": [
           {
            "colorbar": {
             "outlinewidth": 0,
             "ticks": ""
            },
            "colorscale": [
             [
              0,
              "#0d0887"
             ],
             [
              0.1111111111111111,
              "#46039f"
             ],
             [
              0.2222222222222222,
              "#7201a8"
             ],
             [
              0.3333333333333333,
              "#9c179e"
             ],
             [
              0.4444444444444444,
              "#bd3786"
             ],
             [
              0.5555555555555556,
              "#d8576b"
             ],
             [
              0.6666666666666666,
              "#ed7953"
             ],
             [
              0.7777777777777778,
              "#fb9f3a"
             ],
             [
              0.8888888888888888,
              "#fdca26"
             ],
             [
              1,
              "#f0f921"
             ]
            ],
            "type": "surface"
           }
          ],
          "table": [
           {
            "cells": {
             "fill": {
              "color": "#EBF0F8"
             },
             "line": {
              "color": "white"
             }
            },
            "header": {
             "fill": {
              "color": "#C8D4E3"
             },
             "line": {
              "color": "white"
             }
            },
            "type": "table"
           }
          ]
         },
         "layout": {
          "annotationdefaults": {
           "arrowcolor": "#2a3f5f",
           "arrowhead": 0,
           "arrowwidth": 1
          },
          "coloraxis": {
           "colorbar": {
            "outlinewidth": 0,
            "ticks": ""
           }
          },
          "colorscale": {
           "diverging": [
            [
             0,
             "#8e0152"
            ],
            [
             0.1,
             "#c51b7d"
            ],
            [
             0.2,
             "#de77ae"
            ],
            [
             0.3,
             "#f1b6da"
            ],
            [
             0.4,
             "#fde0ef"
            ],
            [
             0.5,
             "#f7f7f7"
            ],
            [
             0.6,
             "#e6f5d0"
            ],
            [
             0.7,
             "#b8e186"
            ],
            [
             0.8,
             "#7fbc41"
            ],
            [
             0.9,
             "#4d9221"
            ],
            [
             1,
             "#276419"
            ]
           ],
           "sequential": [
            [
             0,
             "#0d0887"
            ],
            [
             0.1111111111111111,
             "#46039f"
            ],
            [
             0.2222222222222222,
             "#7201a8"
            ],
            [
             0.3333333333333333,
             "#9c179e"
            ],
            [
             0.4444444444444444,
             "#bd3786"
            ],
            [
             0.5555555555555556,
             "#d8576b"
            ],
            [
             0.6666666666666666,
             "#ed7953"
            ],
            [
             0.7777777777777778,
             "#fb9f3a"
            ],
            [
             0.8888888888888888,
             "#fdca26"
            ],
            [
             1,
             "#f0f921"
            ]
           ],
           "sequentialminus": [
            [
             0,
             "#0d0887"
            ],
            [
             0.1111111111111111,
             "#46039f"
            ],
            [
             0.2222222222222222,
             "#7201a8"
            ],
            [
             0.3333333333333333,
             "#9c179e"
            ],
            [
             0.4444444444444444,
             "#bd3786"
            ],
            [
             0.5555555555555556,
             "#d8576b"
            ],
            [
             0.6666666666666666,
             "#ed7953"
            ],
            [
             0.7777777777777778,
             "#fb9f3a"
            ],
            [
             0.8888888888888888,
             "#fdca26"
            ],
            [
             1,
             "#f0f921"
            ]
           ]
          },
          "colorway": [
           "#636efa",
           "#EF553B",
           "#00cc96",
           "#ab63fa",
           "#FFA15A",
           "#19d3f3",
           "#FF6692",
           "#B6E880",
           "#FF97FF",
           "#FECB52"
          ],
          "font": {
           "color": "#2a3f5f"
          },
          "geo": {
           "bgcolor": "white",
           "lakecolor": "white",
           "landcolor": "#E5ECF6",
           "showlakes": true,
           "showland": true,
           "subunitcolor": "white"
          },
          "hoverlabel": {
           "align": "left"
          },
          "hovermode": "closest",
          "mapbox": {
           "style": "light"
          },
          "paper_bgcolor": "white",
          "plot_bgcolor": "#E5ECF6",
          "polar": {
           "angularaxis": {
            "gridcolor": "white",
            "linecolor": "white",
            "ticks": ""
           },
           "bgcolor": "#E5ECF6",
           "radialaxis": {
            "gridcolor": "white",
            "linecolor": "white",
            "ticks": ""
           }
          },
          "scene": {
           "xaxis": {
            "backgroundcolor": "#E5ECF6",
            "gridcolor": "white",
            "gridwidth": 2,
            "linecolor": "white",
            "showbackground": true,
            "ticks": "",
            "zerolinecolor": "white"
           },
           "yaxis": {
            "backgroundcolor": "#E5ECF6",
            "gridcolor": "white",
            "gridwidth": 2,
            "linecolor": "white",
            "showbackground": true,
            "ticks": "",
            "zerolinecolor": "white"
           },
           "zaxis": {
            "backgroundcolor": "#E5ECF6",
            "gridcolor": "white",
            "gridwidth": 2,
            "linecolor": "white",
            "showbackground": true,
            "ticks": "",
            "zerolinecolor": "white"
           }
          },
          "shapedefaults": {
           "line": {
            "color": "#2a3f5f"
           }
          },
          "ternary": {
           "aaxis": {
            "gridcolor": "white",
            "linecolor": "white",
            "ticks": ""
           },
           "baxis": {
            "gridcolor": "white",
            "linecolor": "white",
            "ticks": ""
           },
           "bgcolor": "#E5ECF6",
           "caxis": {
            "gridcolor": "white",
            "linecolor": "white",
            "ticks": ""
           }
          },
          "title": {
           "x": 0.05
          },
          "xaxis": {
           "automargin": true,
           "gridcolor": "white",
           "linecolor": "white",
           "ticks": "",
           "title": {
            "standoff": 15
           },
           "zerolinecolor": "white",
           "zerolinewidth": 2
          },
          "yaxis": {
           "automargin": true,
           "gridcolor": "white",
           "linecolor": "white",
           "ticks": "",
           "title": {
            "standoff": 15
           },
           "zerolinecolor": "white",
           "zerolinewidth": 2
          }
         }
        },
        "xaxis": {
         "anchor": "y",
         "autorange": true,
         "domain": [
          0,
          1
         ],
         "range": [
          -0.5,
          4.5
         ],
         "title": {
          "text": "day_of_week"
         },
         "type": "category"
        },
        "yaxis": {
         "anchor": "x",
         "autorange": true,
         "domain": [
          0,
          1
         ],
         "range": [
          0,
          7514.736842105263
         ],
         "title": {
          "text": "campaign"
         },
         "type": "linear"
        }
       }
      },
      "image/png": "[encoded data removed]",
      "text/html": [
       "<div>\n",
       "        \n",
       "        \n",
       "            <div id=\"b1cba5b8-3284-4fb9-b89b-63c672f91d06\" class=\"plotly-graph-div\" style=\"height:525px; width:100%;\"></div>\n",
       "            <script type=\"text/javascript\">\n",
       "                require([\"plotly\"], function(Plotly) {\n",
       "                    window.PLOTLYENV=window.PLOTLYENV || {};\n",
       "                    \n",
       "                if (document.getElementById(\"b1cba5b8-3284-4fb9-b89b-63c672f91d06\")) {\n",
       "                    Plotly.newPlot(\n",
       "                        'b1cba5b8-3284-4fb9-b89b-63c672f91d06',\n",
       "                        [{\"alignmentgroup\": \"True\", \"hovertemplate\": \"y=no<br>day_of_week=%{x}<br>campaign=%{y}<extra></extra>\", \"legendgroup\": \"no\", \"marker\": {\"color\": \"#636efa\"}, \"name\": \"no\", \"offsetgroup\": \"no\", \"orientation\": \"v\", \"showlegend\": true, \"textposition\": \"auto\", \"type\": \"bar\", \"x\": [\"fri\", \"mon\", \"thu\", \"tue\", \"wed\"], \"xaxis\": \"x\", \"y\": [6452, 7139, 7046, 6613, 6727], \"yaxis\": \"y\"}, {\"alignmentgroup\": \"True\", \"hovertemplate\": \"y=yes<br>day_of_week=%{x}<br>campaign=%{y}<extra></extra>\", \"legendgroup\": \"yes\", \"marker\": {\"color\": \"#EF553B\"}, \"name\": \"yes\", \"offsetgroup\": \"yes\", \"orientation\": \"v\", \"showlegend\": true, \"textposition\": \"auto\", \"type\": \"bar\", \"x\": [\"fri\", \"mon\", \"thu\", \"tue\", \"wed\"], \"xaxis\": \"x\", \"y\": [771, 786, 961, 864, 875], \"yaxis\": \"y\"}],\n",
       "                        {\"barmode\": \"group\", \"legend\": {\"title\": {\"text\": \"y\"}, \"tracegroupgap\": 0}, \"margin\": {\"t\": 60}, \"template\": {\"data\": {\"bar\": [{\"error_x\": {\"color\": \"#2a3f5f\"}, \"error_y\": {\"color\": \"#2a3f5f\"}, \"marker\": {\"line\": {\"color\": \"#E5ECF6\", \"width\": 0.5}}, \"type\": \"bar\"}], \"barpolar\": [{\"marker\": {\"line\": {\"color\": \"#E5ECF6\", \"width\": 0.5}}, \"type\": \"barpolar\"}], \"carpet\": [{\"aaxis\": {\"endlinecolor\": \"#2a3f5f\", \"gridcolor\": \"white\", \"linecolor\": \"white\", \"minorgridcolor\": \"white\", \"startlinecolor\": \"#2a3f5f\"}, \"baxis\": {\"endlinecolor\": \"#2a3f5f\", \"gridcolor\": \"white\", \"linecolor\": \"white\", \"minorgridcolor\": \"white\", \"startlinecolor\": \"#2a3f5f\"}, \"type\": \"carpet\"}], \"choropleth\": [{\"colorbar\": {\"outlinewidth\": 0, \"ticks\": \"\"}, \"type\": \"choropleth\"}], \"contour\": [{\"colorbar\": {\"outlinewidth\": 0, \"ticks\": \"\"}, \"colorscale\": [[0.0, \"#0d0887\"], [0.1111111111111111, \"#46039f\"], [0.2222222222222222, \"#7201a8\"], [0.3333333333333333, \"#9c179e\"], [0.4444444444444444, \"#bd3786\"], [0.5555555555555556, \"#d8576b\"], [0.6666666666666666, \"#ed7953\"], [0.7777777777777778, \"#fb9f3a\"], [0.8888888888888888, \"#fdca26\"], [1.0, \"#f0f921\"]], \"type\": \"contour\"}], \"contourcarpet\": [{\"colorbar\": {\"outlinewidth\": 0, \"ticks\": \"\"}, \"type\": \"contourcarpet\"}], \"heatmap\": [{\"colorbar\": {\"outlinewidth\": 0, \"ticks\": \"\"}, \"colorscale\": [[0.0, \"#0d0887\"], [0.1111111111111111, \"#46039f\"], [0.2222222222222222, \"#7201a8\"], [0.3333333333333333, \"#9c179e\"], [0.4444444444444444, \"#bd3786\"], [0.5555555555555556, \"#d8576b\"], [0.6666666666666666, \"#ed7953\"], [0.7777777777777778, \"#fb9f3a\"], [0.8888888888888888, \"#fdca26\"], [1.0, \"#f0f921\"]], \"type\": \"heatmap\"}], \"heatmapgl\": [{\"colorbar\": {\"outlinewidth\": 0, \"ticks\": \"\"}, \"colorscale\": [[0.0, \"#0d0887\"], [0.1111111111111111, \"#46039f\"], [0.2222222222222222, \"#7201a8\"], [0.3333333333333333, \"#9c179e\"], [0.4444444444444444, \"#bd3786\"], [0.5555555555555556, \"#d8576b\"], [0.6666666666666666, \"#ed7953\"], [0.7777777777777778, \"#fb9f3a\"], [0.8888888888888888, \"#fdca26\"], [1.0, \"#f0f921\"]], \"type\": \"heatmapgl\"}], \"histogram\": [{\"marker\": {\"colorbar\": {\"outlinewidth\": 0, \"ticks\": \"\"}}, \"type\": \"histogram\"}], \"histogram2d\": [{\"colorbar\": {\"outlinewidth\": 0, \"ticks\": \"\"}, \"colorscale\": [[0.0, \"#0d0887\"], [0.1111111111111111, \"#46039f\"], [0.2222222222222222, \"#7201a8\"], [0.3333333333333333, \"#9c179e\"], [0.4444444444444444, \"#bd3786\"], [0.5555555555555556, \"#d8576b\"], [0.6666666666666666, \"#ed7953\"], [0.7777777777777778, \"#fb9f3a\"], [0.8888888888888888, \"#fdca26\"], [1.0, \"#f0f921\"]], \"type\": \"histogram2d\"}], \"histogram2dcontour\": [{\"colorbar\": {\"outlinewidth\": 0, \"ticks\": \"\"}, \"colorscale\": [[0.0, \"#0d0887\"], [0.1111111111111111, \"#46039f\"], [0.2222222222222222, \"#7201a8\"], [0.3333333333333333, \"#9c179e\"], [0.4444444444444444, \"#bd3786\"], [0.5555555555555556, \"#d8576b\"], [0.6666666666666666, \"#ed7953\"], [0.7777777777777778, \"#fb9f3a\"], [0.8888888888888888, \"#fdca26\"], [1.0, \"#f0f921\"]], \"type\": \"histogram2dcontour\"}], \"mesh3d\": [{\"colorbar\": {\"outlinewidth\": 0, \"ticks\": \"\"}, \"type\": \"mesh3d\"}], \"parcoords\": [{\"line\": {\"colorbar\": {\"outlinewidth\": 0, \"ticks\": \"\"}}, \"type\": \"parcoords\"}], \"pie\": [{\"automargin\": true, \"type\": \"pie\"}], \"scatter\": [{\"marker\": {\"colorbar\": {\"outlinewidth\": 0, \"ticks\": \"\"}}, \"type\": \"scatter\"}], \"scatter3d\": [{\"line\": {\"colorbar\": {\"outlinewidth\": 0, \"ticks\": \"\"}}, \"marker\": {\"colorbar\": {\"outlinewidth\": 0, \"ticks\": \"\"}}, \"type\": \"scatter3d\"}], \"scattercarpet\": [{\"marker\": {\"colorbar\": {\"outlinewidth\": 0, \"ticks\": \"\"}}, \"type\": \"scattercarpet\"}], \"scattergeo\": [{\"marker\": {\"colorbar\": {\"outlinewidth\": 0, \"ticks\": \"\"}}, \"type\": \"scattergeo\"}], \"scattergl\": [{\"marker\": {\"colorbar\": {\"outlinewidth\": 0, \"ticks\": \"\"}}, \"type\": \"scattergl\"}], \"scattermapbox\": [{\"marker\": {\"colorbar\": {\"outlinewidth\": 0, \"ticks\": \"\"}}, \"type\": \"scattermapbox\"}], \"scatterpolar\": [{\"marker\": {\"colorbar\": {\"outlinewidth\": 0, \"ticks\": \"\"}}, \"type\": \"scatterpolar\"}], \"scatterpolargl\": [{\"marker\": {\"colorbar\": {\"outlinewidth\": 0, \"ticks\": \"\"}}, \"type\": \"scatterpolargl\"}], \"scatterternary\": [{\"marker\": {\"colorbar\": {\"outlinewidth\": 0, \"ticks\": \"\"}}, \"type\": \"scatterternary\"}], \"surface\": [{\"colorbar\": {\"outlinewidth\": 0, \"ticks\": \"\"}, \"colorscale\": [[0.0, \"#0d0887\"], [0.1111111111111111, \"#46039f\"], [0.2222222222222222, \"#7201a8\"], [0.3333333333333333, \"#9c179e\"], [0.4444444444444444, \"#bd3786\"], [0.5555555555555556, \"#d8576b\"], [0.6666666666666666, \"#ed7953\"], [0.7777777777777778, \"#fb9f3a\"], [0.8888888888888888, \"#fdca26\"], [1.0, \"#f0f921\"]], \"type\": \"surface\"}], \"table\": [{\"cells\": {\"fill\": {\"color\": \"#EBF0F8\"}, \"line\": {\"color\": \"white\"}}, \"header\": {\"fill\": {\"color\": \"#C8D4E3\"}, \"line\": {\"color\": \"white\"}}, \"type\": \"table\"}]}, \"layout\": {\"annotationdefaults\": {\"arrowcolor\": \"#2a3f5f\", \"arrowhead\": 0, \"arrowwidth\": 1}, \"coloraxis\": {\"colorbar\": {\"outlinewidth\": 0, \"ticks\": \"\"}}, \"colorscale\": {\"diverging\": [[0, \"#8e0152\"], [0.1, \"#c51b7d\"], [0.2, \"#de77ae\"], [0.3, \"#f1b6da\"], [0.4, \"#fde0ef\"], [0.5, \"#f7f7f7\"], [0.6, \"#e6f5d0\"], [0.7, \"#b8e186\"], [0.8, \"#7fbc41\"], [0.9, \"#4d9221\"], [1, \"#276419\"]], \"sequential\": [[0.0, \"#0d0887\"], [0.1111111111111111, \"#46039f\"], [0.2222222222222222, \"#7201a8\"], [0.3333333333333333, \"#9c179e\"], [0.4444444444444444, \"#bd3786\"], [0.5555555555555556, \"#d8576b\"], [0.6666666666666666, \"#ed7953\"], [0.7777777777777778, \"#fb9f3a\"], [0.8888888888888888, \"#fdca26\"], [1.0, \"#f0f921\"]], \"sequentialminus\": [[0.0, \"#0d0887\"], [0.1111111111111111, \"#46039f\"], [0.2222222222222222, \"#7201a8\"], [0.3333333333333333, \"#9c179e\"], [0.4444444444444444, \"#bd3786\"], [0.5555555555555556, \"#d8576b\"], [0.6666666666666666, \"#ed7953\"], [0.7777777777777778, \"#fb9f3a\"], [0.8888888888888888, \"#fdca26\"], [1.0, \"#f0f921\"]]}, \"colorway\": [\"#636efa\", \"#EF553B\", \"#00cc96\", \"#ab63fa\", \"#FFA15A\", \"#19d3f3\", \"#FF6692\", \"#B6E880\", \"#FF97FF\", \"#FECB52\"], \"font\": {\"color\": \"#2a3f5f\"}, \"geo\": {\"bgcolor\": \"white\", \"lakecolor\": \"white\", \"landcolor\": \"#E5ECF6\", \"showlakes\": true, \"showland\": true, \"subunitcolor\": \"white\"}, \"hoverlabel\": {\"align\": \"left\"}, \"hovermode\": \"closest\", \"mapbox\": {\"style\": \"light\"}, \"paper_bgcolor\": \"white\", \"plot_bgcolor\": \"#E5ECF6\", \"polar\": {\"angularaxis\": {\"gridcolor\": \"white\", \"linecolor\": \"white\", \"ticks\": \"\"}, \"bgcolor\": \"#E5ECF6\", \"radialaxis\": {\"gridcolor\": \"white\", \"linecolor\": \"white\", \"ticks\": \"\"}}, \"scene\": {\"xaxis\": {\"backgroundcolor\": \"#E5ECF6\", \"gridcolor\": \"white\", \"gridwidth\": 2, \"linecolor\": \"white\", \"showbackground\": true, \"ticks\": \"\", \"zerolinecolor\": \"white\"}, \"yaxis\": {\"backgroundcolor\": \"#E5ECF6\", \"gridcolor\": \"white\", \"gridwidth\": 2, \"linecolor\": \"white\", \"showbackground\": true, \"ticks\": \"\", \"zerolinecolor\": \"white\"}, \"zaxis\": {\"backgroundcolor\": \"#E5ECF6\", \"gridcolor\": \"white\", \"gridwidth\": 2, \"linecolor\": \"white\", \"showbackground\": true, \"ticks\": \"\", \"zerolinecolor\": \"white\"}}, \"shapedefaults\": {\"line\": {\"color\": \"#2a3f5f\"}}, \"ternary\": {\"aaxis\": {\"gridcolor\": \"white\", \"linecolor\": \"white\", \"ticks\": \"\"}, \"baxis\": {\"gridcolor\": \"white\", \"linecolor\": \"white\", \"ticks\": \"\"}, \"bgcolor\": \"#E5ECF6\", \"caxis\": {\"gridcolor\": \"white\", \"linecolor\": \"white\", \"ticks\": \"\"}}, \"title\": {\"x\": 0.05}, \"xaxis\": {\"automargin\": true, \"gridcolor\": \"white\", \"linecolor\": \"white\", \"ticks\": \"\", \"title\": {\"standoff\": 15}, \"zerolinecolor\": \"white\", \"zerolinewidth\": 2}, \"yaxis\": {\"automargin\": true, \"gridcolor\": \"white\", \"linecolor\": \"white\", \"ticks\": \"\", \"title\": {\"standoff\": 15}, \"zerolinecolor\": \"white\", \"zerolinewidth\": 2}}}, \"xaxis\": {\"anchor\": \"y\", \"domain\": [0.0, 1.0], \"title\": {\"text\": \"day_of_week\"}}, \"yaxis\": {\"anchor\": \"x\", \"domain\": [0.0, 1.0], \"title\": {\"text\": \"campaign\"}}},\n",
       "                        {\"responsive\": true}\n",
       "                    ).then(function(){\n",
       "                            \n",
       "var gd = document.getElementById('b1cba5b8-3284-4fb9-b89b-63c672f91d06');\n",
       "var x = new MutationObserver(function (mutations, observer) {{\n",
       "        var display = window.getComputedStyle(gd).display;\n",
       "        if (!display || display === 'none') {{\n",
       "            console.log([gd, 'removed!']);\n",
       "            Plotly.purge(gd);\n",
       "            observer.disconnect();\n",
       "        }}\n",
       "}});\n",
       "\n",
       "// Listen for the removal of the full notebook cells\n",
       "var notebookContainer = gd.closest('#notebook-container');\n",
       "if (notebookContainer) {{\n",
       "    x.observe(notebookContainer, {childList: true});\n",
       "}}\n",
       "\n",
       "// Listen for the clearing of the current output cell\n",
       "var outputEl = gd.closest('.output');\n",
       "if (outputEl) {{\n",
       "    x.observe(outputEl, {childList: true});\n",
       "}}\n",
       "\n",
       "                        })\n",
       "                };\n",
       "                });\n",
       "            </script>\n",
       "        </div>"
      ]
     },
     "metadata": {},
     "output_type": "display_data"
    }
   ],
   "source": [
    "df_y = df.groupby([\"day_of_week\", \"y\"]).campaign.count().reset_index()\n",
    "fig = px.bar(df_y, x='day_of_week', y=\"campaign\", color=\"y\", barmode=\"group\")\n",
    "fig.show()"
   ]
  },
  {
   "cell_type": "markdown",
   "metadata": {},
   "source": [
    "## How does age affect positive deposit outcome"
   ]
  },
  {
   "cell_type": "code",
   "execution_count": 130,
   "metadata": {},
   "outputs": [
    {
     "data": {
      "application/vnd.plotly.v1+json": {
       "config": {
        "plotlyServerURL": "https://plot.ly"
       },
       "data": [
        {
         "hovertemplate": "marital=divorced<br>age=%{x}<br>y=%{y}<extra></extra>",
         "legendgroup": "divorced",
         "line": {
          "color": "#636efa",
          "dash": "solid"
         },
         "mode": "lines",
         "name": "divorced",
         "orientation": "v",
         "showlegend": true,
         "type": "scatter",
         "x": [
          24,
          25,
          26,
          27,
          28,
          29,
          30,
          31,
          32,
          33,
          34,
          35,
          36,
          37,
          38,
          39,
          40,
          41,
          42,
          43,
          44,
          45,
          46,
          47,
          48,
          49,
          50,
          51,
          52,
          53,
          54,
          55,
          56,
          57,
          58,
          59,
          60,
          61,
          62,
          63,
          64,
          65,
          66,
          67,
          68,
          69,
          70,
          71,
          72,
          73,
          74,
          75,
          76,
          77,
          78,
          80,
          81,
          82,
          83,
          84,
          85,
          86,
          87,
          88,
          89,
          95
         ],
         "xaxis": "x",
         "y": [
          4,
          16,
          12,
          9,
          21,
          64,
          90,
          134,
          125,
          130,
          124,
          156,
          150,
          152,
          155,
          145,
          143,
          178,
          162,
          103,
          145,
          174,
          150,
          153,
          138,
          131,
          118,
          118,
          134,
          131,
          118,
          114,
          118,
          101,
          95,
          80,
          44,
          5,
          4,
          4,
          4,
          3,
          6,
          4,
          6,
          6,
          11,
          3,
          7,
          8,
          9,
          8,
          4,
          5,
          8,
          13,
          6,
          5,
          7,
          4,
          3,
          1,
          1,
          18,
          2,
          1
         ],
         "yaxis": "y"
        },
        {
         "hovertemplate": "marital=married<br>age=%{x}<br>y=%{y}<extra></extra>",
         "legendgroup": "married",
         "line": {
          "color": "#EF553B",
          "dash": "solid"
         },
         "mode": "lines",
         "name": "married",
         "orientation": "v",
         "showlegend": true,
         "type": "scatter",
         "x": [
          20,
          21,
          22,
          23,
          24,
          25,
          26,
          27,
          28,
          29,
          30,
          31,
          32,
          33,
          34,
          35,
          36,
          37,
          38,
          39,
          40,
          41,
          42,
          43,
          44,
          45,
          46,
          47,
          48,
          49,
          50,
          51,
          52,
          53,
          54,
          55,
          56,
          57,
          58,
          59,
          60,
          61,
          62,
          63,
          64,
          65,
          66,
          67,
          68,
          69,
          70,
          71,
          72,
          73,
          74,
          75,
          76,
          77,
          78,
          79,
          80,
          81,
          82,
          83,
          84,
          85,
          86,
          88,
          91,
          94,
          98
         ],
         "xaxis": "x",
         "y": [
          1,
          7,
          14,
          30,
          69,
          141,
          188,
          242,
          353,
          504,
          712,
          879,
          901,
          994,
          1025,
          1017,
          1070,
          877,
          810,
          930,
          734,
          790,
          748,
          730,
          638,
          699,
          702,
          597,
          699,
          573,
          598,
          540,
          531,
          486,
          483,
          442,
          488,
          433,
          409,
          311,
          196,
          61,
          42,
          38,
          42,
          32,
          32,
          19,
          21,
          24,
          32,
          40,
          22,
          23,
          21,
          13,
          25,
          6,
          12,
          12,
          17,
          11,
          8,
          8,
          2,
          11,
          3,
          4,
          2,
          1,
          2
         ],
         "yaxis": "y"
        },
        {
         "hovertemplate": "marital=single<br>age=%{x}<br>y=%{y}<extra></extra>",
         "legendgroup": "single",
         "line": {
          "color": "#00cc96",
          "dash": "solid"
         },
         "mode": "lines",
         "name": "single",
         "orientation": "v",
         "showlegend": true,
         "type": "scatter",
         "x": [
          17,
          18,
          19,
          20,
          21,
          22,
          23,
          24,
          25,
          26,
          27,
          28,
          29,
          30,
          31,
          32,
          33,
          34,
          35,
          36,
          37,
          38,
          39,
          40,
          41,
          42,
          43,
          44,
          45,
          46,
          47,
          48,
          49,
          50,
          51,
          52,
          53,
          54,
          55,
          56,
          57,
          58,
          59,
          60,
          62,
          65,
          66,
          67,
          68,
          71,
          72,
          73,
          76,
          77,
          82,
          85,
          86
         ],
         "xaxis": "x",
         "y": [
          2,
          15,
          24,
          49,
          79,
          109,
          185,
          342,
          396,
          463,
          545,
          562,
          823,
          810,
          845,
          730,
          618,
          505,
          480,
          458,
          379,
          337,
          278,
          218,
          198,
          147,
          150,
          156,
          109,
          101,
          87,
          86,
          65,
          71,
          41,
          43,
          40,
          30,
          31,
          26,
          49,
          23,
          18,
          8,
          1,
          2,
          5,
          1,
          4,
          3,
          2,
          1,
          1,
          1,
          2,
          1,
          1
         ],
         "yaxis": "y"
        }
       ],
       "layout": {
        "autosize": true,
        "legend": {
         "title": {
          "text": "marital"
         },
         "tracegroupgap": 0
        },
        "template": {
         "data": {
          "bar": [
           {
            "error_x": {
             "color": "#2a3f5f"
            },
            "error_y": {
             "color": "#2a3f5f"
            },
            "marker": {
             "line": {
              "color": "#E5ECF6",
              "width": 0.5
             }
            },
            "type": "bar"
           }
          ],
          "barpolar": [
           {
            "marker": {
             "line": {
              "color": "#E5ECF6",
              "width": 0.5
             }
            },
            "type": "barpolar"
           }
          ],
          "carpet": [
           {
            "aaxis": {
             "endlinecolor": "#2a3f5f",
             "gridcolor": "white",
             "linecolor": "white",
             "minorgridcolor": "white",
             "startlinecolor": "#2a3f5f"
            },
            "baxis": {
             "endlinecolor": "#2a3f5f",
             "gridcolor": "white",
             "linecolor": "white",
             "minorgridcolor": "white",
             "startlinecolor": "#2a3f5f"
            },
            "type": "carpet"
           }
          ],
          "choropleth": [
           {
            "colorbar": {
             "outlinewidth": 0,
             "ticks": ""
            },
            "type": "choropleth"
           }
          ],
          "contour": [
           {
            "colorbar": {
             "outlinewidth": 0,
             "ticks": ""
            },
            "colorscale": [
             [
              0,
              "#0d0887"
             ],
             [
              0.1111111111111111,
              "#46039f"
             ],
             [
              0.2222222222222222,
              "#7201a8"
             ],
             [
              0.3333333333333333,
              "#9c179e"
             ],
             [
              0.4444444444444444,
              "#bd3786"
             ],
             [
              0.5555555555555556,
              "#d8576b"
             ],
             [
              0.6666666666666666,
              "#ed7953"
             ],
             [
              0.7777777777777778,
              "#fb9f3a"
             ],
             [
              0.8888888888888888,
              "#fdca26"
             ],
             [
              1,
              "#f0f921"
             ]
            ],
            "type": "contour"
           }
          ],
          "contourcarpet": [
           {
            "colorbar": {
             "outlinewidth": 0,
             "ticks": ""
            },
            "type": "contourcarpet"
           }
          ],
          "heatmap": [
           {
            "colorbar": {
             "outlinewidth": 0,
             "ticks": ""
            },
            "colorscale": [
             [
              0,
              "#0d0887"
             ],
             [
              0.1111111111111111,
              "#46039f"
             ],
             [
              0.2222222222222222,
              "#7201a8"
             ],
             [
              0.3333333333333333,
              "#9c179e"
             ],
             [
              0.4444444444444444,
              "#bd3786"
             ],
             [
              0.5555555555555556,
              "#d8576b"
             ],
             [
              0.6666666666666666,
              "#ed7953"
             ],
             [
              0.7777777777777778,
              "#fb9f3a"
             ],
             [
              0.8888888888888888,
              "#fdca26"
             ],
             [
              1,
              "#f0f921"
             ]
            ],
            "type": "heatmap"
           }
          ],
          "heatmapgl": [
           {
            "colorbar": {
             "outlinewidth": 0,
             "ticks": ""
            },
            "colorscale": [
             [
              0,
              "#0d0887"
             ],
             [
              0.1111111111111111,
              "#46039f"
             ],
             [
              0.2222222222222222,
              "#7201a8"
             ],
             [
              0.3333333333333333,
              "#9c179e"
             ],
             [
              0.4444444444444444,
              "#bd3786"
             ],
             [
              0.5555555555555556,
              "#d8576b"
             ],
             [
              0.6666666666666666,
              "#ed7953"
             ],
             [
              0.7777777777777778,
              "#fb9f3a"
             ],
             [
              0.8888888888888888,
              "#fdca26"
             ],
             [
              1,
              "#f0f921"
             ]
            ],
            "type": "heatmapgl"
           }
          ],
          "histogram": [
           {
            "marker": {
             "colorbar": {
              "outlinewidth": 0,
              "ticks": ""
             }
            },
            "type": "histogram"
           }
          ],
          "histogram2d": [
           {
            "colorbar": {
             "outlinewidth": 0,
             "ticks": ""
            },
            "colorscale": [
             [
              0,
              "#0d0887"
             ],
             [
              0.1111111111111111,
              "#46039f"
             ],
             [
              0.2222222222222222,
              "#7201a8"
             ],
             [
              0.3333333333333333,
              "#9c179e"
             ],
             [
              0.4444444444444444,
              "#bd3786"
             ],
             [
              0.5555555555555556,
              "#d8576b"
             ],
             [
              0.6666666666666666,
              "#ed7953"
             ],
             [
              0.7777777777777778,
              "#fb9f3a"
             ],
             [
              0.8888888888888888,
              "#fdca26"
             ],
             [
              1,
              "#f0f921"
             ]
            ],
            "type": "histogram2d"
           }
          ],
          "histogram2dcontour": [
           {
            "colorbar": {
             "outlinewidth": 0,
             "ticks": ""
            },
            "colorscale": [
             [
              0,
              "#0d0887"
             ],
             [
              0.1111111111111111,
              "#46039f"
             ],
             [
              0.2222222222222222,
              "#7201a8"
             ],
             [
              0.3333333333333333,
              "#9c179e"
             ],
             [
              0.4444444444444444,
              "#bd3786"
             ],
             [
              0.5555555555555556,
              "#d8576b"
             ],
             [
              0.6666666666666666,
              "#ed7953"
             ],
             [
              0.7777777777777778,
              "#fb9f3a"
             ],
             [
              0.8888888888888888,
              "#fdca26"
             ],
             [
              1,
              "#f0f921"
             ]
            ],
            "type": "histogram2dcontour"
           }
          ],
          "mesh3d": [
           {
            "colorbar": {
             "outlinewidth": 0,
             "ticks": ""
            },
            "type": "mesh3d"
           }
          ],
          "parcoords": [
           {
            "line": {
             "colorbar": {
              "outlinewidth": 0,
              "ticks": ""
             }
            },
            "type": "parcoords"
           }
          ],
          "pie": [
           {
            "automargin": true,
            "type": "pie"
           }
          ],
          "scatter": [
           {
            "marker": {
             "colorbar": {
              "outlinewidth": 0,
              "ticks": ""
             }
            },
            "type": "scatter"
           }
          ],
          "scatter3d": [
           {
            "line": {
             "colorbar": {
              "outlinewidth": 0,
              "ticks": ""
             }
            },
            "marker": {
             "colorbar": {
              "outlinewidth": 0,
              "ticks": ""
             }
            },
            "type": "scatter3d"
           }
          ],
          "scattercarpet": [
           {
            "marker": {
             "colorbar": {
              "outlinewidth": 0,
              "ticks": ""
             }
            },
            "type": "scattercarpet"
           }
          ],
          "scattergeo": [
           {
            "marker": {
             "colorbar": {
              "outlinewidth": 0,
              "ticks": ""
             }
            },
            "type": "scattergeo"
           }
          ],
          "scattergl": [
           {
            "marker": {
             "colorbar": {
              "outlinewidth": 0,
              "ticks": ""
             }
            },
            "type": "scattergl"
           }
          ],
          "scattermapbox": [
           {
            "marker": {
             "colorbar": {
              "outlinewidth": 0,
              "ticks": ""
             }
            },
            "type": "scattermapbox"
           }
          ],
          "scatterpolar": [
           {
            "marker": {
             "colorbar": {
              "outlinewidth": 0,
              "ticks": ""
             }
            },
            "type": "scatterpolar"
           }
          ],
          "scatterpolargl": [
           {
            "marker": {
             "colorbar": {
              "outlinewidth": 0,
              "ticks": ""
             }
            },
            "type": "scatterpolargl"
           }
          ],
          "scatterternary": [
           {
            "marker": {
             "colorbar": {
              "outlinewidth": 0,
              "ticks": ""
             }
            },
            "type": "scatterternary"
           }
          ],
          "surface": [
           {
            "colorbar": {
             "outlinewidth": 0,
             "ticks": ""
            },
            "colorscale": [
             [
              0,
              "#0d0887"
             ],
             [
              0.1111111111111111,
              "#46039f"
             ],
             [
              0.2222222222222222,
              "#7201a8"
             ],
             [
              0.3333333333333333,
              "#9c179e"
             ],
             [
              0.4444444444444444,
              "#bd3786"
             ],
             [
              0.5555555555555556,
              "#d8576b"
             ],
             [
              0.6666666666666666,
              "#ed7953"
             ],
             [
              0.7777777777777778,
              "#fb9f3a"
             ],
             [
              0.8888888888888888,
              "#fdca26"
             ],
             [
              1,
              "#f0f921"
             ]
            ],
            "type": "surface"
           }
          ],
          "table": [
           {
            "cells": {
             "fill": {
              "color": "#EBF0F8"
             },
             "line": {
              "color": "white"
             }
            },
            "header": {
             "fill": {
              "color": "#C8D4E3"
             },
             "line": {
              "color": "white"
             }
            },
            "type": "table"
           }
          ]
         },
         "layout": {
          "annotationdefaults": {
           "arrowcolor": "#2a3f5f",
           "arrowhead": 0,
           "arrowwidth": 1
          },
          "coloraxis": {
           "colorbar": {
            "outlinewidth": 0,
            "ticks": ""
           }
          },
          "colorscale": {
           "diverging": [
            [
             0,
             "#8e0152"
            ],
            [
             0.1,
             "#c51b7d"
            ],
            [
             0.2,
             "#de77ae"
            ],
            [
             0.3,
             "#f1b6da"
            ],
            [
             0.4,
             "#fde0ef"
            ],
            [
             0.5,
             "#f7f7f7"
            ],
            [
             0.6,
             "#e6f5d0"
            ],
            [
             0.7,
             "#b8e186"
            ],
            [
             0.8,
             "#7fbc41"
            ],
            [
             0.9,
             "#4d9221"
            ],
            [
             1,
             "#276419"
            ]
           ],
           "sequential": [
            [
             0,
             "#0d0887"
            ],
            [
             0.1111111111111111,
             "#46039f"
            ],
            [
             0.2222222222222222,
             "#7201a8"
            ],
            [
             0.3333333333333333,
             "#9c179e"
            ],
            [
             0.4444444444444444,
             "#bd3786"
            ],
            [
             0.5555555555555556,
             "#d8576b"
            ],
            [
             0.6666666666666666,
             "#ed7953"
            ],
            [
             0.7777777777777778,
             "#fb9f3a"
            ],
            [
             0.8888888888888888,
             "#fdca26"
            ],
            [
             1,
             "#f0f921"
            ]
           ],
           "sequentialminus": [
            [
             0,
             "#0d0887"
            ],
            [
             0.1111111111111111,
             "#46039f"
            ],
            [
             0.2222222222222222,
             "#7201a8"
            ],
            [
             0.3333333333333333,
             "#9c179e"
            ],
            [
             0.4444444444444444,
             "#bd3786"
            ],
            [
             0.5555555555555556,
             "#d8576b"
            ],
            [
             0.6666666666666666,
             "#ed7953"
            ],
            [
             0.7777777777777778,
             "#fb9f3a"
            ],
            [
             0.8888888888888888,
             "#fdca26"
            ],
            [
             1,
             "#f0f921"
            ]
           ]
          },
          "colorway": [
           "#636efa",
           "#EF553B",
           "#00cc96",
           "#ab63fa",
           "#FFA15A",
           "#19d3f3",
           "#FF6692",
           "#B6E880",
           "#FF97FF",
           "#FECB52"
          ],
          "font": {
           "color": "#2a3f5f"
          },
          "geo": {
           "bgcolor": "white",
           "lakecolor": "white",
           "landcolor": "#E5ECF6",
           "showlakes": true,
           "showland": true,
           "subunitcolor": "white"
          },
          "hoverlabel": {
           "align": "left"
          },
          "hovermode": "closest",
          "mapbox": {
           "style": "light"
          },
          "paper_bgcolor": "white",
          "plot_bgcolor": "#E5ECF6",
          "polar": {
           "angularaxis": {
            "gridcolor": "white",
            "linecolor": "white",
            "ticks": ""
           },
           "bgcolor": "#E5ECF6",
           "radialaxis": {
            "gridcolor": "white",
            "linecolor": "white",
            "ticks": ""
           }
          },
          "scene": {
           "xaxis": {
            "backgroundcolor": "#E5ECF6",
            "gridcolor": "white",
            "gridwidth": 2,
            "linecolor": "white",
            "showbackground": true,
            "ticks": "",
            "zerolinecolor": "white"
           },
           "yaxis": {
            "backgroundcolor": "#E5ECF6",
            "gridcolor": "white",
            "gridwidth": 2,
            "linecolor": "white",
            "showbackground": true,
            "ticks": "",
            "zerolinecolor": "white"
           },
           "zaxis": {
            "backgroundcolor": "#E5ECF6",
            "gridcolor": "white",
            "gridwidth": 2,
            "linecolor": "white",
            "showbackground": true,
            "ticks": "",
            "zerolinecolor": "white"
           }
          },
          "shapedefaults": {
           "line": {
            "color": "#2a3f5f"
           }
          },
          "ternary": {
           "aaxis": {
            "gridcolor": "white",
            "linecolor": "white",
            "ticks": ""
           },
           "baxis": {
            "gridcolor": "white",
            "linecolor": "white",
            "ticks": ""
           },
           "bgcolor": "#E5ECF6",
           "caxis": {
            "gridcolor": "white",
            "linecolor": "white",
            "ticks": ""
           }
          },
          "title": {
           "x": 0.05
          },
          "xaxis": {
           "automargin": true,
           "gridcolor": "white",
           "linecolor": "white",
           "ticks": "",
           "title": {
            "standoff": 15
           },
           "zerolinecolor": "white",
           "zerolinewidth": 2
          },
          "yaxis": {
           "automargin": true,
           "gridcolor": "white",
           "linecolor": "white",
           "ticks": "",
           "title": {
            "standoff": 15
           },
           "zerolinecolor": "white",
           "zerolinewidth": 2
          }
         }
        },
        "title": {
         "text": "Positive deposit outcome"
        },
        "xaxis": {
         "anchor": "y",
         "autorange": true,
         "domain": [
          0,
          1
         ],
         "range": [
          17,
          98
         ],
         "title": {
          "text": "age"
         },
         "type": "linear"
        },
        "yaxis": {
         "anchor": "x",
         "autorange": true,
         "domain": [
          0,
          1
         ],
         "range": [
          -58.38888888888889,
          1129.388888888889
         ],
         "title": {
          "text": "y"
         },
         "type": "linear"
        }
       }
      },
      "image/png": "[encoded data removed]",
      "text/html": [
       "<div>\n",
       "        \n",
       "        \n",
       "            <div id=\"3c1b6102-f57b-48c2-8317-46989b421db5\" class=\"plotly-graph-div\" style=\"height:525px; width:100%;\"></div>\n",
       "            <script type=\"text/javascript\">\n",
       "                require([\"plotly\"], function(Plotly) {\n",
       "                    window.PLOTLYENV=window.PLOTLYENV || {};\n",
       "                    \n",
       "                if (document.getElementById(\"3c1b6102-f57b-48c2-8317-46989b421db5\")) {\n",
       "                    Plotly.newPlot(\n",
       "                        '3c1b6102-f57b-48c2-8317-46989b421db5',\n",
       "                        [{\"hovertemplate\": \"marital=divorced<br>age=%{x}<br>y=%{y}<extra></extra>\", \"legendgroup\": \"divorced\", \"line\": {\"color\": \"#636efa\", \"dash\": \"solid\"}, \"mode\": \"lines\", \"name\": \"divorced\", \"orientation\": \"v\", \"showlegend\": true, \"type\": \"scatter\", \"x\": [24, 25, 26, 27, 28, 29, 30, 31, 32, 33, 34, 35, 36, 37, 38, 39, 40, 41, 42, 43, 44, 45, 46, 47, 48, 49, 50, 51, 52, 53, 54, 55, 56, 57, 58, 59, 60, 61, 62, 63, 64, 65, 66, 67, 68, 69, 70, 71, 72, 73, 74, 75, 76, 77, 78, 80, 81, 82, 83, 84, 85, 86, 87, 88, 89, 95], \"xaxis\": \"x\", \"y\": [4, 16, 12, 9, 21, 64, 90, 134, 125, 130, 124, 156, 150, 152, 155, 145, 143, 178, 162, 103, 145, 174, 150, 153, 138, 131, 118, 118, 134, 131, 118, 114, 118, 101, 95, 80, 44, 5, 4, 4, 4, 3, 6, 4, 6, 6, 11, 3, 7, 8, 9, 8, 4, 5, 8, 13, 6, 5, 7, 4, 3, 1, 1, 18, 2, 1], \"yaxis\": \"y\"}, {\"hovertemplate\": \"marital=married<br>age=%{x}<br>y=%{y}<extra></extra>\", \"legendgroup\": \"married\", \"line\": {\"color\": \"#EF553B\", \"dash\": \"solid\"}, \"mode\": \"lines\", \"name\": \"married\", \"orientation\": \"v\", \"showlegend\": true, \"type\": \"scatter\", \"x\": [20, 21, 22, 23, 24, 25, 26, 27, 28, 29, 30, 31, 32, 33, 34, 35, 36, 37, 38, 39, 40, 41, 42, 43, 44, 45, 46, 47, 48, 49, 50, 51, 52, 53, 54, 55, 56, 57, 58, 59, 60, 61, 62, 63, 64, 65, 66, 67, 68, 69, 70, 71, 72, 73, 74, 75, 76, 77, 78, 79, 80, 81, 82, 83, 84, 85, 86, 88, 91, 94, 98], \"xaxis\": \"x\", \"y\": [1, 7, 14, 30, 69, 141, 188, 242, 353, 504, 712, 879, 901, 994, 1025, 1017, 1070, 877, 810, 930, 734, 790, 748, 730, 638, 699, 702, 597, 699, 573, 598, 540, 531, 486, 483, 442, 488, 433, 409, 311, 196, 61, 42, 38, 42, 32, 32, 19, 21, 24, 32, 40, 22, 23, 21, 13, 25, 6, 12, 12, 17, 11, 8, 8, 2, 11, 3, 4, 2, 1, 2], \"yaxis\": \"y\"}, {\"hovertemplate\": \"marital=single<br>age=%{x}<br>y=%{y}<extra></extra>\", \"legendgroup\": \"single\", \"line\": {\"color\": \"#00cc96\", \"dash\": \"solid\"}, \"mode\": \"lines\", \"name\": \"single\", \"orientation\": \"v\", \"showlegend\": true, \"type\": \"scatter\", \"x\": [17, 18, 19, 20, 21, 22, 23, 24, 25, 26, 27, 28, 29, 30, 31, 32, 33, 34, 35, 36, 37, 38, 39, 40, 41, 42, 43, 44, 45, 46, 47, 48, 49, 50, 51, 52, 53, 54, 55, 56, 57, 58, 59, 60, 62, 65, 66, 67, 68, 71, 72, 73, 76, 77, 82, 85, 86], \"xaxis\": \"x\", \"y\": [2, 15, 24, 49, 79, 109, 185, 342, 396, 463, 545, 562, 823, 810, 845, 730, 618, 505, 480, 458, 379, 337, 278, 218, 198, 147, 150, 156, 109, 101, 87, 86, 65, 71, 41, 43, 40, 30, 31, 26, 49, 23, 18, 8, 1, 2, 5, 1, 4, 3, 2, 1, 1, 1, 2, 1, 1], \"yaxis\": \"y\"}],\n",
       "                        {\"legend\": {\"title\": {\"text\": \"marital\"}, \"tracegroupgap\": 0}, \"template\": {\"data\": {\"bar\": [{\"error_x\": {\"color\": \"#2a3f5f\"}, \"error_y\": {\"color\": \"#2a3f5f\"}, \"marker\": {\"line\": {\"color\": \"#E5ECF6\", \"width\": 0.5}}, \"type\": \"bar\"}], \"barpolar\": [{\"marker\": {\"line\": {\"color\": \"#E5ECF6\", \"width\": 0.5}}, \"type\": \"barpolar\"}], \"carpet\": [{\"aaxis\": {\"endlinecolor\": \"#2a3f5f\", \"gridcolor\": \"white\", \"linecolor\": \"white\", \"minorgridcolor\": \"white\", \"startlinecolor\": \"#2a3f5f\"}, \"baxis\": {\"endlinecolor\": \"#2a3f5f\", \"gridcolor\": \"white\", \"linecolor\": \"white\", \"minorgridcolor\": \"white\", \"startlinecolor\": \"#2a3f5f\"}, \"type\": \"carpet\"}], \"choropleth\": [{\"colorbar\": {\"outlinewidth\": 0, \"ticks\": \"\"}, \"type\": \"choropleth\"}], \"contour\": [{\"colorbar\": {\"outlinewidth\": 0, \"ticks\": \"\"}, \"colorscale\": [[0.0, \"#0d0887\"], [0.1111111111111111, \"#46039f\"], [0.2222222222222222, \"#7201a8\"], [0.3333333333333333, \"#9c179e\"], [0.4444444444444444, \"#bd3786\"], [0.5555555555555556, \"#d8576b\"], [0.6666666666666666, \"#ed7953\"], [0.7777777777777778, \"#fb9f3a\"], [0.8888888888888888, \"#fdca26\"], [1.0, \"#f0f921\"]], \"type\": \"contour\"}], \"contourcarpet\": [{\"colorbar\": {\"outlinewidth\": 0, \"ticks\": \"\"}, \"type\": \"contourcarpet\"}], \"heatmap\": [{\"colorbar\": {\"outlinewidth\": 0, \"ticks\": \"\"}, \"colorscale\": [[0.0, \"#0d0887\"], [0.1111111111111111, \"#46039f\"], [0.2222222222222222, \"#7201a8\"], [0.3333333333333333, \"#9c179e\"], [0.4444444444444444, \"#bd3786\"], [0.5555555555555556, \"#d8576b\"], [0.6666666666666666, \"#ed7953\"], [0.7777777777777778, \"#fb9f3a\"], [0.8888888888888888, \"#fdca26\"], [1.0, \"#f0f921\"]], \"type\": \"heatmap\"}], \"heatmapgl\": [{\"colorbar\": {\"outlinewidth\": 0, \"ticks\": \"\"}, \"colorscale\": [[0.0, \"#0d0887\"], [0.1111111111111111, \"#46039f\"], [0.2222222222222222, \"#7201a8\"], [0.3333333333333333, \"#9c179e\"], [0.4444444444444444, \"#bd3786\"], [0.5555555555555556, \"#d8576b\"], [0.6666666666666666, \"#ed7953\"], [0.7777777777777778, \"#fb9f3a\"], [0.8888888888888888, \"#fdca26\"], [1.0, \"#f0f921\"]], \"type\": \"heatmapgl\"}], \"histogram\": [{\"marker\": {\"colorbar\": {\"outlinewidth\": 0, \"ticks\": \"\"}}, \"type\": \"histogram\"}], \"histogram2d\": [{\"colorbar\": {\"outlinewidth\": 0, \"ticks\": \"\"}, \"colorscale\": [[0.0, \"#0d0887\"], [0.1111111111111111, \"#46039f\"], [0.2222222222222222, \"#7201a8\"], [0.3333333333333333, \"#9c179e\"], [0.4444444444444444, \"#bd3786\"], [0.5555555555555556, \"#d8576b\"], [0.6666666666666666, \"#ed7953\"], [0.7777777777777778, \"#fb9f3a\"], [0.8888888888888888, \"#fdca26\"], [1.0, \"#f0f921\"]], \"type\": \"histogram2d\"}], \"histogram2dcontour\": [{\"colorbar\": {\"outlinewidth\": 0, \"ticks\": \"\"}, \"colorscale\": [[0.0, \"#0d0887\"], [0.1111111111111111, \"#46039f\"], [0.2222222222222222, \"#7201a8\"], [0.3333333333333333, \"#9c179e\"], [0.4444444444444444, \"#bd3786\"], [0.5555555555555556, \"#d8576b\"], [0.6666666666666666, \"#ed7953\"], [0.7777777777777778, \"#fb9f3a\"], [0.8888888888888888, \"#fdca26\"], [1.0, \"#f0f921\"]], \"type\": \"histogram2dcontour\"}], \"mesh3d\": [{\"colorbar\": {\"outlinewidth\": 0, \"ticks\": \"\"}, \"type\": \"mesh3d\"}], \"parcoords\": [{\"line\": {\"colorbar\": {\"outlinewidth\": 0, \"ticks\": \"\"}}, \"type\": \"parcoords\"}], \"pie\": [{\"automargin\": true, \"type\": \"pie\"}], \"scatter\": [{\"marker\": {\"colorbar\": {\"outlinewidth\": 0, \"ticks\": \"\"}}, \"type\": \"scatter\"}], \"scatter3d\": [{\"line\": {\"colorbar\": {\"outlinewidth\": 0, \"ticks\": \"\"}}, \"marker\": {\"colorbar\": {\"outlinewidth\": 0, \"ticks\": \"\"}}, \"type\": \"scatter3d\"}], \"scattercarpet\": [{\"marker\": {\"colorbar\": {\"outlinewidth\": 0, \"ticks\": \"\"}}, \"type\": \"scattercarpet\"}], \"scattergeo\": [{\"marker\": {\"colorbar\": {\"outlinewidth\": 0, \"ticks\": \"\"}}, \"type\": \"scattergeo\"}], \"scattergl\": [{\"marker\": {\"colorbar\": {\"outlinewidth\": 0, \"ticks\": \"\"}}, \"type\": \"scattergl\"}], \"scattermapbox\": [{\"marker\": {\"colorbar\": {\"outlinewidth\": 0, \"ticks\": \"\"}}, \"type\": \"scattermapbox\"}], \"scatterpolar\": [{\"marker\": {\"colorbar\": {\"outlinewidth\": 0, \"ticks\": \"\"}}, \"type\": \"scatterpolar\"}], \"scatterpolargl\": [{\"marker\": {\"colorbar\": {\"outlinewidth\": 0, \"ticks\": \"\"}}, \"type\": \"scatterpolargl\"}], \"scatterternary\": [{\"marker\": {\"colorbar\": {\"outlinewidth\": 0, \"ticks\": \"\"}}, \"type\": \"scatterternary\"}], \"surface\": [{\"colorbar\": {\"outlinewidth\": 0, \"ticks\": \"\"}, \"colorscale\": [[0.0, \"#0d0887\"], [0.1111111111111111, \"#46039f\"], [0.2222222222222222, \"#7201a8\"], [0.3333333333333333, \"#9c179e\"], [0.4444444444444444, \"#bd3786\"], [0.5555555555555556, \"#d8576b\"], [0.6666666666666666, \"#ed7953\"], [0.7777777777777778, \"#fb9f3a\"], [0.8888888888888888, \"#fdca26\"], [1.0, \"#f0f921\"]], \"type\": \"surface\"}], \"table\": [{\"cells\": {\"fill\": {\"color\": \"#EBF0F8\"}, \"line\": {\"color\": \"white\"}}, \"header\": {\"fill\": {\"color\": \"#C8D4E3\"}, \"line\": {\"color\": \"white\"}}, \"type\": \"table\"}]}, \"layout\": {\"annotationdefaults\": {\"arrowcolor\": \"#2a3f5f\", \"arrowhead\": 0, \"arrowwidth\": 1}, \"coloraxis\": {\"colorbar\": {\"outlinewidth\": 0, \"ticks\": \"\"}}, \"colorscale\": {\"diverging\": [[0, \"#8e0152\"], [0.1, \"#c51b7d\"], [0.2, \"#de77ae\"], [0.3, \"#f1b6da\"], [0.4, \"#fde0ef\"], [0.5, \"#f7f7f7\"], [0.6, \"#e6f5d0\"], [0.7, \"#b8e186\"], [0.8, \"#7fbc41\"], [0.9, \"#4d9221\"], [1, \"#276419\"]], \"sequential\": [[0.0, \"#0d0887\"], [0.1111111111111111, \"#46039f\"], [0.2222222222222222, \"#7201a8\"], [0.3333333333333333, \"#9c179e\"], [0.4444444444444444, \"#bd3786\"], [0.5555555555555556, \"#d8576b\"], [0.6666666666666666, \"#ed7953\"], [0.7777777777777778, \"#fb9f3a\"], [0.8888888888888888, \"#fdca26\"], [1.0, \"#f0f921\"]], \"sequentialminus\": [[0.0, \"#0d0887\"], [0.1111111111111111, \"#46039f\"], [0.2222222222222222, \"#7201a8\"], [0.3333333333333333, \"#9c179e\"], [0.4444444444444444, \"#bd3786\"], [0.5555555555555556, \"#d8576b\"], [0.6666666666666666, \"#ed7953\"], [0.7777777777777778, \"#fb9f3a\"], [0.8888888888888888, \"#fdca26\"], [1.0, \"#f0f921\"]]}, \"colorway\": [\"#636efa\", \"#EF553B\", \"#00cc96\", \"#ab63fa\", \"#FFA15A\", \"#19d3f3\", \"#FF6692\", \"#B6E880\", \"#FF97FF\", \"#FECB52\"], \"font\": {\"color\": \"#2a3f5f\"}, \"geo\": {\"bgcolor\": \"white\", \"lakecolor\": \"white\", \"landcolor\": \"#E5ECF6\", \"showlakes\": true, \"showland\": true, \"subunitcolor\": \"white\"}, \"hoverlabel\": {\"align\": \"left\"}, \"hovermode\": \"closest\", \"mapbox\": {\"style\": \"light\"}, \"paper_bgcolor\": \"white\", \"plot_bgcolor\": \"#E5ECF6\", \"polar\": {\"angularaxis\": {\"gridcolor\": \"white\", \"linecolor\": \"white\", \"ticks\": \"\"}, \"bgcolor\": \"#E5ECF6\", \"radialaxis\": {\"gridcolor\": \"white\", \"linecolor\": \"white\", \"ticks\": \"\"}}, \"scene\": {\"xaxis\": {\"backgroundcolor\": \"#E5ECF6\", \"gridcolor\": \"white\", \"gridwidth\": 2, \"linecolor\": \"white\", \"showbackground\": true, \"ticks\": \"\", \"zerolinecolor\": \"white\"}, \"yaxis\": {\"backgroundcolor\": \"#E5ECF6\", \"gridcolor\": \"white\", \"gridwidth\": 2, \"linecolor\": \"white\", \"showbackground\": true, \"ticks\": \"\", \"zerolinecolor\": \"white\"}, \"zaxis\": {\"backgroundcolor\": \"#E5ECF6\", \"gridcolor\": \"white\", \"gridwidth\": 2, \"linecolor\": \"white\", \"showbackground\": true, \"ticks\": \"\", \"zerolinecolor\": \"white\"}}, \"shapedefaults\": {\"line\": {\"color\": \"#2a3f5f\"}}, \"ternary\": {\"aaxis\": {\"gridcolor\": \"white\", \"linecolor\": \"white\", \"ticks\": \"\"}, \"baxis\": {\"gridcolor\": \"white\", \"linecolor\": \"white\", \"ticks\": \"\"}, \"bgcolor\": \"#E5ECF6\", \"caxis\": {\"gridcolor\": \"white\", \"linecolor\": \"white\", \"ticks\": \"\"}}, \"title\": {\"x\": 0.05}, \"xaxis\": {\"automargin\": true, \"gridcolor\": \"white\", \"linecolor\": \"white\", \"ticks\": \"\", \"title\": {\"standoff\": 15}, \"zerolinecolor\": \"white\", \"zerolinewidth\": 2}, \"yaxis\": {\"automargin\": true, \"gridcolor\": \"white\", \"linecolor\": \"white\", \"ticks\": \"\", \"title\": {\"standoff\": 15}, \"zerolinecolor\": \"white\", \"zerolinewidth\": 2}}}, \"title\": {\"text\": \"Positive deposit outcome\"}, \"xaxis\": {\"anchor\": \"y\", \"domain\": [0.0, 1.0], \"title\": {\"text\": \"age\"}}, \"yaxis\": {\"anchor\": \"x\", \"domain\": [0.0, 1.0], \"title\": {\"text\": \"y\"}}},\n",
       "                        {\"responsive\": true}\n",
       "                    ).then(function(){\n",
       "                            \n",
       "var gd = document.getElementById('3c1b6102-f57b-48c2-8317-46989b421db5');\n",
       "var x = new MutationObserver(function (mutations, observer) {{\n",
       "        var display = window.getComputedStyle(gd).display;\n",
       "        if (!display || display === 'none') {{\n",
       "            console.log([gd, 'removed!']);\n",
       "            Plotly.purge(gd);\n",
       "            observer.disconnect();\n",
       "        }}\n",
       "}});\n",
       "\n",
       "// Listen for the removal of the full notebook cells\n",
       "var notebookContainer = gd.closest('#notebook-container');\n",
       "if (notebookContainer) {{\n",
       "    x.observe(notebookContainer, {childList: true});\n",
       "}}\n",
       "\n",
       "// Listen for the clearing of the current output cell\n",
       "var outputEl = gd.closest('.output');\n",
       "if (outputEl) {{\n",
       "    x.observe(outputEl, {childList: true});\n",
       "}}\n",
       "\n",
       "                        })\n",
       "                };\n",
       "                });\n",
       "            </script>\n",
       "        </div>"
      ]
     },
     "metadata": {},
     "output_type": "display_data"
    }
   ],
   "source": [
    "df_yes = df[df.y==\"yes\"]\n",
    "df_age_yes = df.groupby(['marital', 'age']).y.count().reset_index()\n",
    "fig = px.line(df_age_yes, x=\"age\", y=\"y\", color=\"marital\", title=\"Positive deposit outcome\")\n",
    "fig.show()"
   ]
  },
  {
   "cell_type": "markdown",
   "metadata": {},
   "source": [
    "## What are the jobs of the people willing to deposit?"
   ]
  },
  {
   "cell_type": "code",
   "execution_count": 131,
   "metadata": {},
   "outputs": [
    {
     "data": {
      "application/vnd.plotly.v1+json": {
       "config": {
        "plotlyServerURL": "https://plot.ly"
       },
       "data": [
        {
         "alignmentgroup": "True",
         "bingroup": "x",
         "hovertemplate": "job=%{x}<br>count=%{y}<extra></extra>",
         "legendgroup": "",
         "marker": {
          "color": "#636efa"
         },
         "name": "",
         "offsetgroup": "",
         "orientation": "v",
         "showlegend": false,
         "type": "histogram",
         "x": [
          "blue-collar",
          "entrepreneur",
          "technician",
          "technician",
          "blue-collar",
          "blue-collar",
          "housemaid",
          "services",
          "technician",
          "management",
          "services",
          "blue-collar",
          "housemaid",
          "admin.",
          "student",
          "entrepreneur",
          "blue-collar",
          "blue-collar",
          "entrepreneur",
          "admin.",
          "services",
          "blue-collar",
          "blue-collar",
          "technician",
          "admin.",
          "technician",
          "services",
          "blue-collar",
          "entrepreneur",
          "services",
          "services",
          "management",
          "housemaid",
          "blue-collar",
          "blue-collar",
          "blue-collar",
          "services",
          "admin.",
          "admin.",
          "blue-collar",
          "management",
          "services",
          "admin.",
          "blue-collar",
          "admin.",
          "management",
          "management",
          "admin.",
          "blue-collar",
          "blue-collar",
          "technician",
          "technician",
          "admin.",
          "services",
          "technician",
          "admin.",
          "services",
          "entrepreneur",
          "admin.",
          "blue-collar",
          "technician",
          "admin.",
          "blue-collar",
          "unemployed",
          "blue-collar",
          "student",
          "blue-collar",
          "blue-collar",
          "technician",
          "housemaid",
          "services",
          "services",
          "admin.",
          "services",
          "blue-collar",
          "self-employed",
          "blue-collar",
          "blue-collar",
          "admin.",
          "technician",
          "management",
          "blue-collar",
          "services",
          "blue-collar",
          "admin.",
          "entrepreneur",
          "admin.",
          "blue-collar",
          "management",
          "blue-collar",
          "technician",
          "blue-collar",
          "entrepreneur",
          "admin.",
          "admin.",
          "blue-collar",
          "admin.",
          "blue-collar",
          "services",
          "admin.",
          "student",
          "services",
          "blue-collar",
          "management",
          "technician",
          "blue-collar",
          "services",
          "services",
          "blue-collar",
          "services",
          "services",
          "technician",
          "services",
          "blue-collar",
          "blue-collar",
          "services",
          "retired",
          "blue-collar",
          "admin.",
          "technician",
          "housemaid",
          "admin.",
          "admin.",
          "retired",
          "blue-collar",
          "technician",
          "admin.",
          "technician",
          "blue-collar",
          "admin.",
          "housemaid",
          "technician",
          "blue-collar",
          "admin.",
          "entrepreneur",
          "admin.",
          "blue-collar",
          "services",
          "admin.",
          "services",
          "technician",
          "technician",
          "blue-collar",
          "blue-collar",
          "retired",
          "technician",
          "admin.",
          "services",
          "retired",
          "blue-collar",
          "technician",
          "services",
          "blue-collar",
          "blue-collar",
          "admin.",
          "management",
          "student",
          "services",
          "admin.",
          "entrepreneur",
          "unemployed",
          "management",
          "blue-collar",
          "self-employed",
          "blue-collar",
          "entrepreneur",
          "admin.",
          "services",
          "technician",
          "blue-collar",
          "admin.",
          "blue-collar",
          "management",
          "management",
          "self-employed",
          "blue-collar",
          "admin.",
          "blue-collar",
          "blue-collar",
          "blue-collar",
          "admin.",
          "services",
          "blue-collar",
          "unemployed",
          "technician",
          "admin.",
          "management",
          "technician",
          "retired",
          "management",
          "retired",
          "admin.",
          "technician",
          "entrepreneur",
          "technician",
          "services",
          "unemployed",
          "admin.",
          "blue-collar",
          "admin.",
          "admin.",
          "admin.",
          "admin.",
          "admin.",
          "technician",
          "retired",
          "housemaid",
          "services",
          "blue-collar",
          "admin.",
          "blue-collar",
          "blue-collar",
          "admin.",
          "blue-collar",
          "technician",
          "services",
          "entrepreneur",
          "blue-collar",
          "blue-collar",
          "blue-collar",
          "technician",
          "blue-collar",
          "services",
          "admin.",
          "blue-collar",
          "admin.",
          "unemployed",
          "services",
          "admin.",
          "unemployed",
          "management",
          "services",
          "services",
          "blue-collar",
          "services",
          "blue-collar",
          "services",
          "technician",
          "blue-collar",
          "student",
          "retired",
          "technician",
          "technician",
          "blue-collar",
          "blue-collar",
          "management",
          "management",
          "admin.",
          "blue-collar",
          "blue-collar",
          "admin.",
          "unemployed",
          "blue-collar",
          "blue-collar",
          "blue-collar",
          "admin.",
          "technician",
          "retired",
          "student",
          "admin.",
          "admin.",
          "admin.",
          "admin.",
          "blue-collar",
          "blue-collar",
          "admin.",
          "unemployed",
          "housemaid",
          "blue-collar",
          "blue-collar",
          "blue-collar",
          "blue-collar",
          "blue-collar",
          "technician",
          "blue-collar",
          "blue-collar",
          "entrepreneur",
          "technician",
          "technician",
          "services",
          "blue-collar",
          "services",
          "blue-collar",
          "self-employed",
          "blue-collar",
          "admin.",
          "blue-collar",
          "blue-collar",
          "self-employed",
          "admin.",
          "blue-collar",
          "admin.",
          "services",
          "admin.",
          "blue-collar",
          "student",
          "services",
          "admin.",
          "technician",
          "technician",
          "entrepreneur",
          "technician",
          "services",
          "admin.",
          "management",
          "admin.",
          "self-employed",
          "blue-collar",
          "admin.",
          "entrepreneur",
          "blue-collar",
          "blue-collar",
          "admin.",
          "technician",
          "blue-collar",
          "technician",
          "blue-collar",
          "management",
          "technician",
          "blue-collar",
          "blue-collar",
          "entrepreneur",
          "entrepreneur",
          "admin.",
          "admin.",
          "entrepreneur",
          "admin.",
          "management",
          "technician",
          "blue-collar",
          "self-employed",
          "entrepreneur",
          "management",
          "blue-collar",
          "blue-collar",
          "admin.",
          "blue-collar",
          "entrepreneur",
          "management",
          "blue-collar",
          "services",
          "blue-collar",
          "entrepreneur",
          "self-employed",
          "blue-collar",
          "technician",
          "technician",
          "blue-collar",
          "management",
          "blue-collar",
          "management",
          "technician",
          "retired",
          "blue-collar",
          "management",
          "blue-collar",
          "admin.",
          "student",
          "admin.",
          "blue-collar",
          "blue-collar",
          "blue-collar",
          "admin.",
          "admin.",
          "blue-collar",
          "housemaid",
          "technician",
          "retired",
          "admin.",
          "admin.",
          "blue-collar",
          "self-employed",
          "blue-collar",
          "blue-collar",
          "technician",
          "blue-collar",
          "technician",
          "blue-collar",
          "blue-collar",
          "technician",
          "blue-collar",
          "admin.",
          "admin.",
          "blue-collar",
          "technician",
          "blue-collar",
          "admin.",
          "entrepreneur",
          "retired",
          "blue-collar",
          "admin.",
          "management",
          "blue-collar",
          "blue-collar",
          "blue-collar",
          "blue-collar",
          "retired",
          "services",
          "blue-collar",
          "self-employed",
          "technician",
          "services",
          "blue-collar",
          "management",
          "admin.",
          "services",
          "management",
          "retired",
          "admin.",
          "entrepreneur",
          "management",
          "services",
          "retired",
          "blue-collar",
          "technician",
          "blue-collar",
          "blue-collar",
          "services",
          "admin.",
          "management",
          "admin.",
          "entrepreneur",
          "technician",
          "admin.",
          "services",
          "technician",
          "services",
          "management",
          "blue-collar",
          "blue-collar",
          "technician",
          "management",
          "admin.",
          "admin.",
          "services",
          "admin.",
          "technician",
          "blue-collar",
          "admin.",
          "admin.",
          "entrepreneur",
          "admin.",
          "admin.",
          "blue-collar",
          "blue-collar",
          "admin.",
          "services",
          "admin.",
          "admin.",
          "services",
          "services",
          "self-employed",
          "admin.",
          "technician",
          "management",
          "blue-collar",
          "technician",
          "technician",
          "blue-collar",
          "admin.",
          "blue-collar",
          "blue-collar",
          "blue-collar",
          "admin.",
          "admin.",
          "retired",
          "blue-collar",
          "blue-collar",
          "admin.",
          "services",
          "unemployed",
          "technician",
          "blue-collar",
          "technician",
          "admin.",
          "technician",
          "blue-collar",
          "management",
          "blue-collar",
          "admin.",
          "blue-collar",
          "admin.",
          "management",
          "admin.",
          "admin.",
          "blue-collar",
          "blue-collar",
          "blue-collar",
          "technician",
          "blue-collar",
          "blue-collar",
          "technician",
          "services",
          "technician",
          "services",
          "admin.",
          "retired",
          "services",
          "admin.",
          "retired",
          "blue-collar",
          "blue-collar",
          "admin.",
          "management",
          "self-employed",
          "blue-collar",
          "technician",
          "housemaid",
          "admin.",
          "blue-collar",
          "services",
          "management",
          "blue-collar",
          "admin.",
          "entrepreneur",
          "blue-collar",
          "blue-collar",
          "retired",
          "admin.",
          "admin.",
          "services",
          "technician",
          "management",
          "services",
          "technician",
          "blue-collar",
          "retired",
          "self-employed",
          "technician",
          "entrepreneur",
          "services",
          "blue-collar",
          "housemaid",
          "blue-collar",
          "admin.",
          "services",
          "admin.",
          "technician",
          "management",
          "admin.",
          "technician",
          "technician",
          "technician",
          "blue-collar",
          "admin.",
          "management",
          "blue-collar",
          "admin.",
          "retired",
          "blue-collar",
          "blue-collar",
          "technician",
          "blue-collar",
          "retired",
          "admin.",
          "blue-collar",
          "blue-collar",
          "admin.",
          "retired",
          "housemaid",
          "admin.",
          "technician",
          "blue-collar",
          "blue-collar",
          "blue-collar",
          "blue-collar",
          "admin.",
          "services",
          "services",
          "blue-collar",
          "unemployed",
          "management",
          "housemaid",
          "admin.",
          "management",
          "blue-collar",
          "admin.",
          "technician",
          "blue-collar",
          "blue-collar",
          "technician",
          "self-employed",
          "admin.",
          "services",
          "blue-collar",
          "technician",
          "blue-collar",
          "blue-collar",
          "blue-collar",
          "admin.",
          "admin.",
          "admin.",
          "admin.",
          "management",
          "blue-collar",
          "admin.",
          "services",
          "blue-collar",
          "blue-collar",
          "services",
          "housemaid",
          "entrepreneur",
          "retired",
          "blue-collar",
          "blue-collar",
          "management",
          "admin.",
          "blue-collar",
          "blue-collar",
          "technician",
          "services",
          "blue-collar",
          "blue-collar",
          "admin.",
          "admin.",
          "admin.",
          "management",
          "admin.",
          "admin.",
          "technician",
          "technician",
          "blue-collar",
          "blue-collar",
          "admin.",
          "admin.",
          "blue-collar",
          "admin.",
          "technician",
          "technician",
          "services",
          "services",
          "services",
          "services",
          "blue-collar",
          "blue-collar",
          "admin.",
          "admin.",
          "services",
          "technician",
          "blue-collar",
          "admin.",
          "technician",
          "management",
          "admin.",
          "admin.",
          "blue-collar",
          "services",
          "blue-collar",
          "blue-collar",
          "services",
          "blue-collar",
          "blue-collar",
          "services",
          "blue-collar",
          "blue-collar",
          "services",
          "admin.",
          "blue-collar",
          "technician",
          "blue-collar",
          "admin.",
          "blue-collar",
          "retired",
          "admin.",
          "unemployed",
          "admin.",
          "admin.",
          "blue-collar",
          "admin.",
          "management",
          "admin.",
          "admin.",
          "blue-collar",
          "self-employed",
          "admin.",
          "technician",
          "entrepreneur",
          "blue-collar",
          "self-employed",
          "self-employed",
          "services",
          "self-employed",
          "student",
          "entrepreneur",
          "self-employed",
          "blue-collar",
          "admin.",
          "admin.",
          "technician",
          "management",
          "unemployed",
          "blue-collar",
          "unemployed",
          "admin.",
          "blue-collar",
          "technician",
          "admin.",
          "services",
          "technician",
          "retired",
          "services",
          "technician",
          "retired",
          "admin.",
          "blue-collar",
          "retired",
          "technician",
          "retired",
          "services",
          "retired",
          "admin.",
          "blue-collar",
          "admin.",
          "blue-collar",
          "management",
          "technician",
          "retired",
          "blue-collar",
          "admin.",
          "admin.",
          "management",
          "services",
          "blue-collar",
          "admin.",
          "services",
          "admin.",
          "technician",
          "admin.",
          "admin.",
          "admin.",
          "blue-collar",
          "self-employed",
          "admin.",
          "admin.",
          "blue-collar",
          "entrepreneur",
          "retired",
          "entrepreneur",
          "admin.",
          "retired",
          "unemployed",
          "technician",
          "admin.",
          "technician",
          "blue-collar",
          "services",
          "services",
          "services",
          "unemployed",
          "admin.",
          "blue-collar",
          "admin.",
          "admin.",
          "blue-collar",
          "services",
          "admin.",
          "self-employed",
          "blue-collar",
          "self-employed",
          "admin.",
          "admin.",
          "self-employed",
          "services",
          "admin.",
          "management",
          "services",
          "management",
          "blue-collar",
          "entrepreneur",
          "services",
          "self-employed",
          "blue-collar",
          "blue-collar",
          "admin.",
          "admin.",
          "admin.",
          "services",
          "admin.",
          "services",
          "technician",
          "unemployed",
          "admin.",
          "services",
          "blue-collar",
          "student",
          "technician",
          "management",
          "entrepreneur",
          "entrepreneur",
          "admin.",
          "admin.",
          "technician",
          "services",
          "technician",
          "technician",
          "blue-collar",
          "blue-collar",
          "technician",
          "admin.",
          "admin.",
          "admin.",
          "admin.",
          "admin.",
          "admin.",
          "admin.",
          "admin.",
          "blue-collar",
          "technician",
          "services",
          "management",
          "housemaid",
          "technician",
          "technician",
          "unemployed",
          "technician",
          "management",
          "admin.",
          "blue-collar",
          "admin.",
          "technician",
          "admin.",
          "blue-collar",
          "admin.",
          "management",
          "technician",
          "admin.",
          "admin.",
          "blue-collar",
          "admin.",
          "retired",
          "admin.",
          "technician",
          "technician",
          "management",
          "self-employed",
          "self-employed",
          "admin.",
          "blue-collar",
          "admin.",
          "technician",
          "technician",
          "entrepreneur",
          "technician",
          "blue-collar",
          "blue-collar",
          "technician",
          "blue-collar",
          "blue-collar",
          "technician",
          "technician",
          "admin.",
          "self-employed",
          "technician",
          "blue-collar",
          "technician",
          "technician",
          "self-employed",
          "technician",
          "self-employed",
          "admin.",
          "unemployed",
          "admin.",
          "retired",
          "technician",
          "admin.",
          "admin.",
          "admin.",
          "management",
          "blue-collar",
          "services",
          "admin.",
          "admin.",
          "management",
          "admin.",
          "technician",
          "technician",
          "technician",
          "technician",
          "admin.",
          "technician",
          "admin.",
          "technician",
          "housemaid",
          "entrepreneur",
          "technician",
          "technician",
          "technician",
          "admin.",
          "technician",
          "admin.",
          "management",
          "technician",
          "technician",
          "technician",
          "technician",
          "technician",
          "technician",
          "admin.",
          "services",
          "technician",
          "blue-collar",
          "technician",
          "admin.",
          "technician",
          "management",
          "technician",
          "technician",
          "admin.",
          "blue-collar",
          "admin.",
          "technician",
          "admin.",
          "technician",
          "admin.",
          "admin.",
          "technician",
          "admin.",
          "admin.",
          "technician",
          "retired",
          "services",
          "admin.",
          "management",
          "admin.",
          "management",
          "management",
          "technician",
          "technician",
          "self-employed",
          "technician",
          "admin.",
          "admin.",
          "services",
          "self-employed",
          "housemaid",
          "admin.",
          "self-employed",
          "self-employed",
          "admin.",
          "admin.",
          "services",
          "technician",
          "technician",
          "technician",
          "services",
          "technician",
          "blue-collar",
          "admin.",
          "admin.",
          "admin.",
          "admin.",
          "technician",
          "retired",
          "admin.",
          "technician",
          "services",
          "management",
          "blue-collar",
          "admin.",
          "technician",
          "admin.",
          "housemaid",
          "admin.",
          "admin.",
          "unemployed",
          "admin.",
          "admin.",
          "admin.",
          "technician",
          "blue-collar",
          "retired",
          "services",
          "admin.",
          "management",
          "blue-collar",
          "technician",
          "services",
          "admin.",
          "admin.",
          "self-employed",
          "admin.",
          "blue-collar",
          "technician",
          "technician",
          "technician",
          "admin.",
          "admin.",
          "technician",
          "admin.",
          "technician",
          "services",
          "self-employed",
          "blue-collar",
          "admin.",
          "self-employed",
          "management",
          "blue-collar",
          "blue-collar",
          "management",
          "self-employed",
          "management",
          "admin.",
          "technician",
          "admin.",
          "technician",
          "technician",
          "technician",
          "technician",
          "management",
          "admin.",
          "technician",
          "admin.",
          "retired",
          "retired",
          "services",
          "services",
          "retired",
          "technician",
          "admin.",
          "technician",
          "admin.",
          "technician",
          "technician",
          "technician",
          "admin.",
          "technician",
          "housemaid",
          "technician",
          "admin.",
          "technician",
          "technician",
          "technician",
          "admin.",
          "admin.",
          "housemaid",
          "admin.",
          "admin.",
          "admin.",
          "blue-collar",
          "entrepreneur",
          "self-employed",
          "admin.",
          "admin.",
          "technician",
          "admin.",
          "admin.",
          "housemaid",
          "admin.",
          "services",
          "student",
          "technician",
          "technician",
          "self-employed",
          "admin.",
          "admin.",
          "services",
          "technician",
          "blue-collar",
          "admin.",
          "admin.",
          "technician",
          "admin.",
          "admin.",
          "admin.",
          "technician",
          "blue-collar",
          "admin.",
          "admin.",
          "entrepreneur",
          "technician",
          "admin.",
          "blue-collar",
          "self-employed",
          "technician",
          "technician",
          "blue-collar",
          "entrepreneur",
          "management",
          "technician",
          "blue-collar",
          "entrepreneur",
          "management",
          "management",
          "self-employed",
          "admin.",
          "technician",
          "blue-collar",
          "admin.",
          "retired",
          "unemployed",
          "services",
          "admin.",
          "management",
          "admin.",
          "admin.",
          "technician",
          "management",
          "blue-collar",
          "blue-collar",
          "blue-collar",
          "admin.",
          "admin.",
          "admin.",
          "entrepreneur",
          "blue-collar",
          "technician",
          "admin.",
          "blue-collar",
          "blue-collar",
          "management",
          "entrepreneur",
          "blue-collar",
          "retired",
          "entrepreneur",
          "services",
          "entrepreneur",
          "admin.",
          "technician",
          "management",
          "entrepreneur",
          "technician",
          "unemployed",
          "admin.",
          "management",
          "management",
          "entrepreneur",
          "technician",
          "self-employed",
          "housemaid",
          "blue-collar",
          "admin.",
          "entrepreneur",
          "technician",
          "technician",
          "admin.",
          "management",
          "technician",
          "admin.",
          "technician",
          "admin.",
          "admin.",
          "housemaid",
          "housemaid",
          "blue-collar",
          "management",
          "services",
          "entrepreneur",
          "services",
          "self-employed",
          "technician",
          "admin.",
          "admin.",
          "management",
          "entrepreneur",
          "entrepreneur",
          "management",
          "blue-collar",
          "services",
          "blue-collar",
          "admin.",
          "technician",
          "admin.",
          "admin.",
          "admin.",
          "admin.",
          "blue-collar",
          "services",
          "management",
          "admin.",
          "management",
          "entrepreneur",
          "technician",
          "entrepreneur",
          "technician",
          "management",
          "retired",
          "blue-collar",
          "student",
          "technician",
          "technician",
          "blue-collar",
          "management",
          "entrepreneur",
          "blue-collar",
          "technician",
          "unemployed",
          "management",
          "management",
          "admin.",
          "services",
          "blue-collar",
          "admin.",
          "technician",
          "entrepreneur",
          "blue-collar",
          "admin.",
          "admin.",
          "blue-collar",
          "retired",
          "management",
          "blue-collar",
          "self-employed",
          "unemployed",
          "admin.",
          "technician",
          "admin.",
          "admin.",
          "management",
          "management",
          "management",
          "self-employed",
          "blue-collar",
          "blue-collar",
          "housemaid",
          "services",
          "admin.",
          "management",
          "admin.",
          "management",
          "admin.",
          "admin.",
          "services",
          "blue-collar",
          "self-employed",
          "management",
          "admin.",
          "self-employed",
          "admin.",
          "technician",
          "services",
          "technician",
          "admin.",
          "admin.",
          "technician",
          "management",
          "technician",
          "technician",
          "services",
          "management",
          "blue-collar",
          "technician",
          "technician",
          "admin.",
          "technician",
          "admin.",
          "housemaid",
          "admin.",
          "admin.",
          "self-employed",
          "management",
          "retired",
          "admin.",
          "management",
          "technician",
          "admin.",
          "admin.",
          "management",
          "admin.",
          "blue-collar",
          "student",
          "admin.",
          "admin.",
          "management",
          "admin.",
          "blue-collar",
          "admin.",
          "technician",
          "student",
          "retired",
          "admin.",
          "student",
          "admin.",
          "technician",
          "management",
          "admin.",
          "student",
          "student",
          "admin.",
          "blue-collar",
          "student",
          "services",
          "services",
          "technician",
          "management",
          "technician",
          "technician",
          "technician",
          "technician",
          "technician",
          "technician",
          "technician",
          "technician",
          "technician",
          "technician",
          "technician",
          "technician",
          "technician",
          "management",
          "technician",
          "technician",
          "management",
          "blue-collar",
          "management",
          "technician",
          "admin.",
          "technician",
          "admin.",
          "management",
          "retired",
          "self-employed",
          "retired",
          "self-employed",
          "retired",
          "retired",
          "retired",
          "retired",
          "retired",
          "retired",
          "student",
          "management",
          "retired",
          "technician",
          "management",
          "student",
          "student",
          "self-employed",
          "self-employed",
          "technician",
          "admin.",
          "student",
          "unemployed",
          "admin.",
          "technician",
          "admin.",
          "blue-collar",
          "management",
          "admin.",
          "retired",
          "blue-collar",
          "management",
          "admin.",
          "admin.",
          "admin.",
          "admin.",
          "admin.",
          "student",
          "technician",
          "technician",
          "admin.",
          "admin.",
          "management",
          "admin.",
          "admin.",
          "admin.",
          "admin.",
          "admin.",
          "management",
          "student",
          "student",
          "retired",
          "admin.",
          "admin.",
          "admin.",
          "blue-collar",
          "technician",
          "admin.",
          "retired",
          "technician",
          "housemaid",
          "admin.",
          "admin.",
          "admin.",
          "admin.",
          "technician",
          "admin.",
          "admin.",
          "admin.",
          "admin.",
          "blue-collar",
          "management",
          "blue-collar",
          "blue-collar",
          "admin.",
          "management",
          "blue-collar",
          "retired",
          "admin.",
          "admin.",
          "admin.",
          "blue-collar",
          "blue-collar",
          "blue-collar",
          "blue-collar",
          "entrepreneur",
          "blue-collar",
          "admin.",
          "management",
          "blue-collar",
          "retired",
          "housemaid",
          "blue-collar",
          "technician",
          "blue-collar",
          "retired",
          "blue-collar",
          "admin.",
          "admin.",
          "technician",
          "student",
          "blue-collar",
          "services",
          "student",
          "student",
          "admin.",
          "blue-collar",
          "technician",
          "blue-collar",
          "admin.",
          "admin.",
          "services",
          "admin.",
          "admin.",
          "technician",
          "services",
          "admin.",
          "unemployed",
          "admin.",
          "admin.",
          "self-employed",
          "admin.",
          "technician",
          "technician",
          "self-employed",
          "self-employed",
          "self-employed",
          "blue-collar",
          "self-employed",
          "self-employed",
          "self-employed",
          "admin.",
          "blue-collar",
          "blue-collar",
          "technician",
          "retired",
          "admin.",
          "admin.",
          "admin.",
          "unemployed",
          "services",
          "retired",
          "services",
          "services",
          "admin.",
          "self-employed",
          "unemployed",
          "unemployed",
          "technician",
          "admin.",
          "admin.",
          "admin.",
          "blue-collar",
          "self-employed",
          "technician",
          "admin.",
          "retired",
          "retired",
          "unemployed",
          "admin.",
          "retired",
          "unemployed",
          "retired",
          "management",
          "student",
          "admin.",
          "retired",
          "management",
          "unemployed",
          "blue-collar",
          "technician",
          "admin.",
          "retired",
          "retired",
          "admin.",
          "admin.",
          "admin.",
          "admin.",
          "retired",
          "admin.",
          "student",
          "admin.",
          "retired",
          "services",
          "management",
          "entrepreneur",
          "blue-collar",
          "admin.",
          "blue-collar",
          "blue-collar",
          "technician",
          "admin.",
          "blue-collar",
          "services",
          "admin.",
          "admin.",
          "admin.",
          "self-employed",
          "technician",
          "technician",
          "admin.",
          "admin.",
          "blue-collar",
          "admin.",
          "blue-collar",
          "services",
          "student",
          "admin.",
          "management",
          "technician",
          "technician",
          "retired",
          "admin.",
          "blue-collar",
          "blue-collar",
          "admin.",
          "admin.",
          "admin.",
          "admin.",
          "technician",
          "technician",
          "blue-collar",
          "entrepreneur",
          "blue-collar",
          "unemployed",
          "admin.",
          "admin.",
          "admin.",
          "admin.",
          "technician",
          "entrepreneur",
          "technician",
          "management",
          "admin.",
          "admin.",
          "technician",
          "management",
          "admin.",
          "retired",
          "housemaid",
          "services",
          "services",
          "services",
          "self-employed",
          "self-employed",
          "blue-collar",
          "admin.",
          "admin.",
          "admin.",
          "admin.",
          "student",
          "management",
          "retired",
          "admin.",
          "entrepreneur",
          "blue-collar",
          "services",
          "blue-collar",
          "technician",
          "retired",
          "housemaid",
          "retired",
          "entrepreneur",
          "housemaid",
          "admin.",
          "technician",
          "self-employed",
          "self-employed",
          "self-employed",
          "management",
          "blue-collar",
          "admin.",
          "technician",
          "management",
          "admin.",
          "services",
          "admin.",
          "admin.",
          "retired",
          "admin.",
          "blue-collar",
          "admin.",
          "retired",
          "technician",
          "self-employed",
          "retired",
          "retired",
          "technician",
          "retired",
          "housemaid",
          "management",
          "management",
          "admin.",
          "retired",
          "admin.",
          "technician",
          "housemaid",
          "retired",
          "retired",
          "retired",
          "services",
          "admin.",
          "unemployed",
          "admin.",
          "admin.",
          "blue-collar",
          "admin.",
          "admin.",
          "retired",
          "admin.",
          "admin.",
          "services",
          "admin.",
          "admin.",
          "technician",
          "retired",
          "retired",
          "technician",
          "blue-collar",
          "retired",
          "blue-collar",
          "student",
          "admin.",
          "admin.",
          "blue-collar",
          "admin.",
          "technician",
          "admin.",
          "technician",
          "admin.",
          "student",
          "admin.",
          "management",
          "student",
          "technician",
          "unemployed",
          "admin.",
          "management",
          "admin.",
          "management",
          "admin.",
          "admin.",
          "services",
          "admin.",
          "admin.",
          "retired",
          "admin.",
          "retired",
          "retired",
          "technician",
          "technician",
          "admin.",
          "admin.",
          "admin.",
          "admin.",
          "admin.",
          "services",
          "admin.",
          "services",
          "admin.",
          "entrepreneur",
          "management",
          "technician",
          "entrepreneur",
          "management",
          "student",
          "admin.",
          "blue-collar",
          "management",
          "admin.",
          "technician",
          "admin.",
          "admin.",
          "technician",
          "admin.",
          "management",
          "entrepreneur",
          "self-employed",
          "admin.",
          "admin.",
          "admin.",
          "housemaid",
          "technician",
          "self-employed",
          "services",
          "admin.",
          "retired",
          "entrepreneur",
          "management",
          "self-employed",
          "blue-collar",
          "technician",
          "technician",
          "technician",
          "technician",
          "technician",
          "technician",
          "services",
          "technician",
          "technician",
          "technician",
          "services",
          "technician",
          "admin.",
          "admin.",
          "admin.",
          "technician",
          "blue-collar",
          "technician",
          "student",
          "entrepreneur",
          "unemployed",
          "services",
          "admin.",
          "blue-collar",
          "admin.",
          "blue-collar",
          "retired",
          "admin.",
          "technician",
          "admin.",
          "technician",
          "admin.",
          "admin.",
          "unemployed",
          "retired",
          "admin.",
          "technician",
          "blue-collar",
          "admin.",
          "blue-collar",
          "admin.",
          "student",
          "technician",
          "admin.",
          "technician",
          "management",
          "student",
          "admin.",
          "self-employed",
          "technician",
          "blue-collar",
          "technician",
          "admin.",
          "retired",
          "technician",
          "technician",
          "management",
          "technician",
          "management",
          "entrepreneur",
          "admin.",
          "unemployed",
          "blue-collar",
          "admin.",
          "admin.",
          "admin.",
          "technician",
          "admin.",
          "admin.",
          "admin.",
          "admin.",
          "retired",
          "student",
          "unemployed",
          "blue-collar",
          "services",
          "admin.",
          "entrepreneur",
          "admin.",
          "self-employed",
          "student",
          "services",
          "entrepreneur",
          "blue-collar",
          "housemaid",
          "entrepreneur",
          "admin.",
          "services",
          "blue-collar",
          "management",
          "admin.",
          "services",
          "management",
          "admin.",
          "admin.",
          "unemployed",
          "admin.",
          "management",
          "admin.",
          "unemployed",
          "blue-collar",
          "services",
          "admin.",
          "admin.",
          "technician",
          "admin.",
          "admin.",
          "unemployed",
          "retired",
          "admin.",
          "services",
          "technician",
          "technician",
          "admin.",
          "self-employed",
          "blue-collar",
          "admin.",
          "self-employed",
          "admin.",
          "student",
          "technician",
          "student",
          "admin.",
          "retired",
          "technician",
          "blue-collar",
          "blue-collar",
          "technician",
          "admin.",
          "management",
          "entrepreneur",
          "entrepreneur",
          "self-employed",
          "technician",
          "services",
          "self-employed",
          "admin.",
          "retired",
          "admin.",
          "blue-collar",
          "blue-collar",
          "blue-collar",
          "admin.",
          "blue-collar",
          "self-employed",
          "blue-collar",
          "blue-collar",
          "admin.",
          "blue-collar",
          "admin.",
          "entrepreneur",
          "technician",
          "services",
          "blue-collar",
          "blue-collar",
          "technician",
          "blue-collar",
          "admin.",
          "blue-collar",
          "blue-collar",
          "blue-collar",
          "management",
          "admin.",
          "technician",
          "blue-collar",
          "entrepreneur",
          "blue-collar",
          "blue-collar",
          "admin.",
          "technician",
          "blue-collar",
          "technician",
          "services",
          "services",
          "management",
          "blue-collar",
          "blue-collar",
          "services",
          "technician",
          "technician",
          "blue-collar",
          "technician",
          "blue-collar",
          "technician",
          "self-employed",
          "entrepreneur",
          "services",
          "technician",
          "blue-collar",
          "entrepreneur",
          "blue-collar",
          "blue-collar",
          "technician",
          "admin.",
          "blue-collar",
          "admin.",
          "admin.",
          "technician",
          "blue-collar",
          "technician",
          "management",
          "blue-collar",
          "admin.",
          "admin.",
          "services",
          "blue-collar",
          "admin.",
          "blue-collar",
          "blue-collar",
          "services",
          "technician",
          "admin.",
          "technician",
          "admin.",
          "admin.",
          "blue-collar",
          "admin.",
          "blue-collar",
          "blue-collar",
          "blue-collar",
          "technician",
          "self-employed",
          "blue-collar",
          "management",
          "management",
          "services",
          "technician",
          "technician",
          "blue-collar",
          "self-employed",
          "blue-collar",
          "services",
          "management",
          "blue-collar",
          "admin.",
          "admin.",
          "admin.",
          "blue-collar",
          "admin.",
          "blue-collar",
          "blue-collar",
          "blue-collar",
          "management",
          "admin.",
          "admin.",
          "blue-collar",
          "admin.",
          "blue-collar",
          "blue-collar",
          "admin.",
          "technician",
          "student",
          "technician",
          "technician",
          "technician",
          "blue-collar",
          "technician",
          "blue-collar",
          "blue-collar",
          "admin.",
          "blue-collar",
          "blue-collar",
          "services",
          "housemaid",
          "admin.",
          "blue-collar",
          "management",
          "blue-collar",
          "blue-collar",
          "blue-collar",
          "admin.",
          "services",
          "blue-collar",
          "management",
          "technician",
          "services",
          "technician",
          "blue-collar",
          "blue-collar",
          "services",
          "entrepreneur",
          "blue-collar",
          "blue-collar",
          "admin.",
          "admin.",
          "blue-collar",
          "admin.",
          "blue-collar",
          "blue-collar",
          "management",
          "blue-collar",
          "admin.",
          "technician",
          "management",
          "admin.",
          "technician",
          "technician",
          "blue-collar",
          "blue-collar",
          "blue-collar",
          "blue-collar",
          "management",
          "admin.",
          "blue-collar",
          "services",
          "services",
          "services",
          "student",
          "services",
          "services",
          "blue-collar",
          "blue-collar",
          "self-employed",
          "admin.",
          "technician",
          "admin.",
          "retired",
          "blue-collar",
          "unemployed",
          "blue-collar",
          "entrepreneur",
          "blue-collar",
          "blue-collar",
          "student",
          "housemaid",
          "blue-collar",
          "admin.",
          "technician",
          "services",
          "blue-collar",
          "blue-collar",
          "services",
          "services",
          "admin.",
          "blue-collar",
          "services",
          "blue-collar",
          "blue-collar",
          "technician",
          "blue-collar",
          "admin.",
          "blue-collar",
          "services",
          "blue-collar",
          "blue-collar",
          "unemployed",
          "unemployed",
          "blue-collar",
          "self-employed",
          "admin.",
          "services",
          "admin.",
          "admin.",
          "blue-collar",
          "services",
          "technician",
          "blue-collar",
          "housemaid",
          "blue-collar",
          "housemaid",
          "admin.",
          "self-employed",
          "admin.",
          "blue-collar",
          "services",
          "blue-collar",
          "services",
          "blue-collar",
          "management",
          "management",
          "self-employed",
          "technician",
          "services",
          "services",
          "blue-collar",
          "services",
          "blue-collar",
          "management",
          "services",
          "entrepreneur",
          "blue-collar",
          "blue-collar",
          "blue-collar",
          "blue-collar",
          "services",
          "admin.",
          "admin.",
          "admin.",
          "services",
          "technician",
          "technician",
          "blue-collar",
          "blue-collar",
          "blue-collar",
          "blue-collar",
          "blue-collar",
          "technician",
          "admin.",
          "blue-collar",
          "technician",
          "admin.",
          "admin.",
          "admin.",
          "student",
          "blue-collar",
          "admin.",
          "blue-collar",
          "admin.",
          "blue-collar",
          "student",
          "blue-collar",
          "technician",
          "blue-collar",
          "admin.",
          "admin.",
          "services",
          "blue-collar",
          "technician",
          "entrepreneur",
          "blue-collar",
          "technician",
          "admin.",
          "admin.",
          "admin.",
          "self-employed",
          "entrepreneur",
          "management",
          "blue-collar",
          "blue-collar",
          "blue-collar",
          "admin.",
          "services",
          "blue-collar",
          "technician",
          "technician",
          "management",
          "technician",
          "services",
          "admin.",
          "technician",
          "self-employed",
          "management",
          "blue-collar",
          "services",
          "unemployed",
          "blue-collar",
          "admin.",
          "blue-collar",
          "blue-collar",
          "services",
          "blue-collar",
          "student",
          "self-employed",
          "blue-collar",
          "blue-collar",
          "admin.",
          "admin.",
          "admin.",
          "blue-collar",
          "blue-collar",
          "blue-collar",
          "admin.",
          "blue-collar",
          "entrepreneur",
          "technician",
          "admin.",
          "admin.",
          "technician",
          "admin.",
          "blue-collar",
          "admin.",
          "services",
          "admin.",
          "services",
          "admin.",
          "technician",
          "admin.",
          "blue-collar",
          "management",
          "admin.",
          "admin.",
          "admin.",
          "technician",
          "services",
          "management",
          "services",
          "unemployed",
          "technician",
          "technician",
          "admin.",
          "technician",
          "admin.",
          "blue-collar",
          "blue-collar",
          "admin.",
          "entrepreneur",
          "services",
          "technician",
          "management",
          "admin.",
          "services",
          "services",
          "admin.",
          "technician",
          "services",
          "admin.",
          "technician",
          "technician",
          "entrepreneur",
          "student",
          "admin.",
          "student",
          "entrepreneur",
          "admin.",
          "technician",
          "student",
          "technician",
          "services",
          "technician",
          "admin.",
          "admin.",
          "housemaid",
          "services",
          "technician",
          "admin.",
          "management",
          "unemployed",
          "admin.",
          "admin.",
          "admin.",
          "admin.",
          "blue-collar",
          "technician",
          "admin.",
          "admin.",
          "admin.",
          "technician",
          "admin.",
          "services",
          "self-employed",
          "self-employed",
          "technician",
          "retired",
          "admin.",
          "management",
          "blue-collar",
          "student",
          "admin.",
          "technician",
          "admin.",
          "admin.",
          "admin.",
          "student",
          "blue-collar",
          "services",
          "technician",
          "admin.",
          "student",
          "services",
          "blue-collar",
          "blue-collar",
          "technician",
          "technician",
          "admin.",
          "unemployed",
          "admin.",
          "blue-collar",
          "admin.",
          "technician",
          "management",
          "self-employed",
          "admin.",
          "blue-collar",
          "self-employed",
          "admin.",
          "management",
          "retired",
          "student",
          "services",
          "management",
          "management",
          "technician",
          "admin.",
          "admin.",
          "blue-collar",
          "admin.",
          "admin.",
          "entrepreneur",
          "unemployed",
          "technician",
          "admin.",
          "technician",
          "retired",
          "admin.",
          "admin.",
          "services",
          "services",
          "retired",
          "technician",
          "admin.",
          "admin.",
          "blue-collar",
          "retired",
          "management",
          "student",
          "admin.",
          "admin.",
          "management",
          "unemployed",
          "self-employed",
          "admin.",
          "student",
          "technician",
          "admin.",
          "admin.",
          "admin.",
          "technician",
          "blue-collar",
          "admin.",
          "student",
          "retired",
          "admin.",
          "admin.",
          "unemployed",
          "admin.",
          "admin.",
          "admin.",
          "technician",
          "entrepreneur",
          "technician",
          "blue-collar",
          "technician",
          "admin.",
          "technician",
          "technician",
          "unemployed",
          "admin.",
          "admin.",
          "admin.",
          "admin.",
          "admin.",
          "unemployed",
          "student",
          "admin.",
          "admin.",
          "technician",
          "admin.",
          "management",
          "admin.",
          "unemployed",
          "blue-collar",
          "management",
          "technician",
          "admin.",
          "technician",
          "admin.",
          "admin.",
          "blue-collar",
          "blue-collar",
          "admin.",
          "services",
          "retired",
          "admin.",
          "technician",
          "admin.",
          "blue-collar",
          "management",
          "blue-collar",
          "self-employed",
          "student",
          "technician",
          "admin.",
          "technician",
          "technician",
          "blue-collar",
          "services",
          "services",
          "admin.",
          "admin.",
          "admin.",
          "technician",
          "admin.",
          "admin.",
          "management",
          "admin.",
          "self-employed",
          "student",
          "services",
          "entrepreneur",
          "services",
          "entrepreneur",
          "admin.",
          "entrepreneur",
          "admin.",
          "admin.",
          "management",
          "admin.",
          "blue-collar",
          "unemployed",
          "unemployed",
          "admin.",
          "admin.",
          "admin.",
          "student",
          "services",
          "admin.",
          "admin.",
          "services",
          "admin.",
          "technician",
          "services",
          "management",
          "management",
          "admin.",
          "student",
          "admin.",
          "self-employed",
          "admin.",
          "admin.",
          "housemaid",
          "admin.",
          "admin.",
          "technician",
          "management",
          "services",
          "blue-collar",
          "blue-collar",
          "student",
          "blue-collar",
          "technician",
          "housemaid",
          "admin.",
          "admin.",
          "admin.",
          "admin.",
          "admin.",
          "admin.",
          "technician",
          "technician",
          "student",
          "admin.",
          "self-employed",
          "student",
          "technician",
          "technician",
          "technician",
          "admin.",
          "technician",
          "admin.",
          "student",
          "technician",
          "technician",
          "student",
          "technician",
          "admin.",
          "admin.",
          "technician",
          "technician",
          "management",
          "technician",
          "management",
          "blue-collar",
          "retired",
          "admin.",
          "blue-collar",
          "admin.",
          "management",
          "blue-collar",
          "self-employed",
          "services",
          "admin.",
          "technician",
          "unemployed",
          "entrepreneur",
          "blue-collar",
          "blue-collar",
          "retired",
          "self-employed",
          "technician",
          "admin.",
          "unemployed",
          "admin.",
          "technician",
          "admin.",
          "entrepreneur",
          "admin.",
          "admin.",
          "self-employed",
          "admin.",
          "blue-collar",
          "retired",
          "services",
          "unemployed",
          "unemployed",
          "admin.",
          "self-employed",
          "admin.",
          "admin.",
          "technician",
          "management",
          "housemaid",
          "housemaid",
          "unemployed",
          "management",
          "retired",
          "technician",
          "unemployed",
          "student",
          "admin.",
          "admin.",
          "admin.",
          "student",
          "technician",
          "management",
          "blue-collar",
          "admin.",
          "admin.",
          "services",
          "technician",
          "entrepreneur",
          "management",
          "housemaid",
          "admin.",
          "management",
          "admin.",
          "admin.",
          "admin.",
          "admin.",
          "admin.",
          "blue-collar",
          "blue-collar",
          "technician",
          "admin.",
          "entrepreneur",
          "self-employed",
          "self-employed",
          "admin.",
          "housemaid",
          "technician",
          "admin.",
          "retired",
          "unemployed",
          "admin.",
          "blue-collar",
          "technician",
          "admin.",
          "admin.",
          "admin.",
          "retired",
          "admin.",
          "student",
          "admin.",
          "services",
          "admin.",
          "management",
          "services",
          "student",
          "services",
          "student",
          "admin.",
          "admin.",
          "admin.",
          "technician",
          "admin.",
          "technician",
          "student",
          "admin.",
          "admin.",
          "admin.",
          "student",
          "blue-collar",
          "technician",
          "management",
          "entrepreneur",
          "admin.",
          "student",
          "admin.",
          "admin.",
          "management",
          "admin.",
          "admin.",
          "retired",
          "student",
          "admin.",
          "management",
          "management",
          "technician",
          "admin.",
          "technician",
          "technician",
          "technician",
          "admin.",
          "student",
          "services",
          "admin.",
          "blue-collar",
          "admin.",
          "technician",
          "retired",
          "technician",
          "retired",
          "student",
          "admin.",
          "retired",
          "technician",
          "admin.",
          "technician",
          "admin.",
          "retired",
          "retired",
          "housemaid",
          "blue-collar",
          "admin.",
          "retired",
          "admin.",
          "technician",
          "retired",
          "student",
          "services",
          "services",
          "admin.",
          "retired",
          "entrepreneur",
          "admin.",
          "services",
          "services",
          "admin.",
          "retired",
          "admin.",
          "admin.",
          "admin.",
          "management",
          "technician",
          "admin.",
          "admin.",
          "admin.",
          "technician",
          "retired",
          "admin.",
          "housemaid",
          "admin.",
          "technician",
          "admin.",
          "blue-collar",
          "technician",
          "admin.",
          "technician",
          "admin.",
          "student",
          "entrepreneur",
          "management",
          "management",
          "retired",
          "admin.",
          "admin.",
          "admin.",
          "retired",
          "admin.",
          "management",
          "technician",
          "admin.",
          "admin.",
          "admin.",
          "admin.",
          "admin.",
          "student",
          "admin.",
          "student",
          "student",
          "admin.",
          "retired",
          "technician",
          "retired",
          "admin.",
          "admin.",
          "technician",
          "entrepreneur",
          "student",
          "student",
          "services",
          "admin.",
          "admin.",
          "admin.",
          "admin.",
          "student",
          "unemployed",
          "student",
          "admin.",
          "blue-collar",
          "services",
          "admin.",
          "blue-collar",
          "admin.",
          "unemployed",
          "technician",
          "student",
          "services",
          "admin.",
          "retired",
          "services",
          "blue-collar",
          "admin.",
          "management",
          "unemployed",
          "student",
          "technician",
          "technician",
          "management",
          "management",
          "admin.",
          "blue-collar",
          "retired",
          "retired",
          "retired",
          "unemployed",
          "technician",
          "technician",
          "admin.",
          "self-employed",
          "unemployed",
          "admin.",
          "blue-collar",
          "entrepreneur",
          "management",
          "retired",
          "retired",
          "retired",
          "retired",
          "admin.",
          "admin.",
          "technician",
          "admin.",
          "technician",
          "admin.",
          "technician",
          "admin.",
          "admin.",
          "retired",
          "student",
          "retired",
          "admin.",
          "retired",
          "admin.",
          "admin.",
          "admin.",
          "admin.",
          "admin.",
          "technician",
          "management",
          "blue-collar",
          "student",
          "retired",
          "technician",
          "retired",
          "technician",
          "admin.",
          "admin.",
          "technician",
          "admin.",
          "retired",
          "retired",
          "admin.",
          "admin.",
          "admin.",
          "retired",
          "technician",
          "admin.",
          "blue-collar",
          "management",
          "retired",
          "admin.",
          "student",
          "technician",
          "technician",
          "management",
          "retired",
          "retired",
          "retired",
          "admin.",
          "student",
          "unemployed",
          "admin.",
          "admin.",
          "housemaid",
          "blue-collar",
          "admin.",
          "admin.",
          "retired",
          "housemaid",
          "unemployed",
          "retired",
          "housemaid",
          "admin.",
          "retired",
          "housemaid",
          "retired",
          "retired",
          "retired",
          "services",
          "admin.",
          "admin.",
          "retired",
          "technician",
          "retired",
          "admin.",
          "admin.",
          "admin.",
          "admin.",
          "retired",
          "admin.",
          "admin.",
          "entrepreneur",
          "student",
          "retired",
          "student",
          "student",
          "student",
          "admin.",
          "admin.",
          "management",
          "entrepreneur",
          "admin.",
          "retired",
          "entrepreneur",
          "admin.",
          "technician",
          "technician",
          "admin.",
          "admin.",
          "retired",
          "admin.",
          "management",
          "technician",
          "technician",
          "blue-collar",
          "retired",
          "student",
          "admin.",
          "housemaid",
          "retired",
          "housemaid",
          "technician",
          "admin.",
          "admin.",
          "admin.",
          "admin.",
          "self-employed",
          "technician",
          "admin.",
          "retired",
          "management",
          "self-employed",
          "self-employed",
          "self-employed",
          "technician",
          "self-employed",
          "technician",
          "admin.",
          "retired",
          "services",
          "admin.",
          "admin.",
          "admin.",
          "retired",
          "admin.",
          "management",
          "admin.",
          "management",
          "retired",
          "admin.",
          "admin.",
          "admin.",
          "admin.",
          "unemployed",
          "admin.",
          "admin.",
          "admin.",
          "management",
          "entrepreneur",
          "entrepreneur",
          "retired",
          "retired",
          "admin.",
          "admin.",
          "admin.",
          "technician",
          "admin.",
          "admin.",
          "admin.",
          "technician",
          "admin.",
          "self-employed",
          "unemployed",
          "unemployed",
          "admin.",
          "self-employed",
          "unemployed",
          "admin.",
          "technician",
          "services",
          "self-employed",
          "technician",
          "services",
          "services",
          "housemaid",
          "retired",
          "retired",
          "admin.",
          "services",
          "management",
          "retired",
          "admin.",
          "management",
          "admin.",
          "admin.",
          "unemployed",
          "retired",
          "retired",
          "retired",
          "retired",
          "retired",
          "retired",
          "housemaid",
          "admin.",
          "self-employed",
          "management",
          "management",
          "retired",
          "management",
          "technician",
          "management",
          "management",
          "management",
          "technician",
          "management",
          "admin.",
          "management",
          "retired",
          "admin.",
          "management",
          "student",
          "management",
          "retired",
          "admin.",
          "student",
          "unemployed",
          "blue-collar",
          "student",
          "technician",
          "admin.",
          "technician",
          "management",
          "admin.",
          "services",
          "retired",
          "blue-collar",
          "admin.",
          "management",
          "admin.",
          "services",
          "services",
          "student",
          "technician",
          "technician",
          "admin.",
          "admin.",
          "admin.",
          "admin.",
          "technician",
          "management",
          "retired",
          "admin.",
          "admin.",
          "retired",
          "retired",
          "services",
          "student",
          "management",
          "admin.",
          "services",
          "admin.",
          "technician",
          "housemaid",
          "technician",
          "management",
          "admin.",
          "admin.",
          "admin.",
          "admin.",
          "admin.",
          "admin.",
          "retired",
          "admin.",
          "admin.",
          "blue-collar",
          "blue-collar",
          "blue-collar",
          "unemployed",
          "technician",
          "unemployed",
          "unemployed",
          "technician",
          "services",
          "management",
          "retired",
          "technician",
          "admin.",
          "technician",
          "services",
          "admin.",
          "unemployed",
          "management",
          "student",
          "admin.",
          "technician",
          "student",
          "retired",
          "admin.",
          "retired",
          "student",
          "student",
          "admin.",
          "admin.",
          "admin.",
          "admin.",
          "admin.",
          "management",
          "unemployed",
          "admin.",
          "retired",
          "technician",
          "housemaid",
          "retired",
          "services",
          "services",
          "management",
          "technician",
          "management",
          "retired",
          "retired",
          "student",
          "technician",
          "retired",
          "unemployed",
          "admin.",
          "admin.",
          "retired",
          "retired",
          "student",
          "retired",
          "admin.",
          "retired",
          "admin.",
          "admin.",
          "technician",
          "retired",
          "retired",
          "admin.",
          "admin.",
          "technician",
          "technician",
          "technician",
          "technician",
          "retired",
          "technician",
          "admin.",
          "blue-collar",
          "retired",
          "retired",
          "retired",
          "student",
          "technician",
          "technician",
          "technician",
          "self-employed",
          "technician",
          "student",
          "retired",
          "student",
          "admin.",
          "admin.",
          "admin.",
          "self-employed",
          "technician",
          "blue-collar",
          "management",
          "retired",
          "admin.",
          "admin.",
          "retired",
          "housemaid",
          "unemployed",
          "blue-collar",
          "admin.",
          "admin.",
          "technician",
          "self-employed",
          "admin.",
          "technician",
          "retired",
          "technician",
          "retired",
          "retired",
          "unemployed",
          "admin.",
          "admin.",
          "management",
          "technician",
          "retired",
          "admin.",
          "student",
          "admin.",
          "admin.",
          "unemployed",
          "housemaid",
          "student",
          "management",
          "retired",
          "admin.",
          "blue-collar",
          "housemaid",
          "admin.",
          "technician",
          "management",
          "management",
          "admin.",
          "admin.",
          "admin.",
          "admin.",
          "admin.",
          "admin.",
          "admin.",
          "retired",
          "admin.",
          "technician",
          "retired",
          "admin.",
          "management",
          "services",
          "retired",
          "student",
          "management",
          "retired",
          "student",
          "student",
          "management",
          "retired",
          "admin.",
          "student",
          "admin.",
          "housemaid",
          "admin.",
          "services",
          "student",
          "student",
          "retired",
          "management",
          "retired",
          "admin.",
          "admin.",
          "retired",
          "self-employed",
          "unemployed",
          "admin.",
          "admin.",
          "admin.",
          "blue-collar",
          "self-employed",
          "retired",
          "technician",
          "self-employed",
          "unemployed",
          "admin.",
          "admin.",
          "admin.",
          "student",
          "blue-collar",
          "admin.",
          "admin.",
          "admin.",
          "admin.",
          "retired",
          "technician",
          "technician",
          "technician",
          "management",
          "services",
          "blue-collar",
          "retired",
          "student",
          "technician",
          "admin.",
          "retired",
          "retired",
          "retired",
          "admin.",
          "admin.",
          "blue-collar",
          "retired",
          "retired",
          "retired",
          "technician",
          "technician",
          "retired",
          "self-employed",
          "management",
          "management",
          "retired",
          "management",
          "admin.",
          "admin.",
          "housemaid",
          "admin.",
          "admin.",
          "retired",
          "retired",
          "management",
          "retired",
          "technician",
          "admin.",
          "retired",
          "retired",
          "retired",
          "management",
          "housemaid",
          "technician",
          "technician",
          "technician",
          "technician",
          "retired",
          "retired",
          "admin.",
          "technician",
          "unemployed",
          "technician",
          "technician",
          "technician",
          "retired",
          "retired",
          "admin.",
          "admin.",
          "retired",
          "technician",
          "blue-collar",
          "admin.",
          "housemaid",
          "technician",
          "technician",
          "admin.",
          "services",
          "self-employed",
          "admin.",
          "retired",
          "admin.",
          "housemaid",
          "retired",
          "admin.",
          "unemployed",
          "housemaid",
          "housemaid",
          "retired",
          "housemaid",
          "retired",
          "retired",
          "retired",
          "retired",
          "admin.",
          "blue-collar",
          "services",
          "retired",
          "retired",
          "student",
          "retired",
          "student",
          "retired",
          "unemployed",
          "student",
          "technician",
          "entrepreneur",
          "technician",
          "admin.",
          "technician",
          "student",
          "student",
          "admin.",
          "technician",
          "retired",
          "admin.",
          "admin.",
          "admin.",
          "admin.",
          "technician",
          "technician",
          "admin.",
          "unemployed",
          "unemployed",
          "admin.",
          "self-employed",
          "management",
          "self-employed",
          "retired",
          "blue-collar",
          "technician",
          "technician",
          "admin.",
          "admin.",
          "retired",
          "blue-collar",
          "admin.",
          "blue-collar",
          "retired",
          "retired",
          "retired",
          "blue-collar",
          "technician",
          "retired",
          "technician",
          "student",
          "admin.",
          "blue-collar",
          "services",
          "technician",
          "admin.",
          "student",
          "blue-collar",
          "blue-collar",
          "admin.",
          "blue-collar",
          "admin.",
          "student",
          "management",
          "technician",
          "technician",
          "services",
          "technician",
          "management",
          "admin.",
          "blue-collar",
          "admin.",
          "blue-collar",
          "admin.",
          "unemployed",
          "retired",
          "entrepreneur",
          "technician",
          "student",
          "technician",
          "admin.",
          "technician",
          "admin.",
          "admin.",
          "self-employed",
          "blue-collar",
          "services",
          "blue-collar",
          "blue-collar",
          "self-employed",
          "admin.",
          "blue-collar",
          "retired",
          "admin.",
          "blue-collar",
          "admin.",
          "blue-collar",
          "admin.",
          "admin.",
          "admin.",
          "admin.",
          "unemployed",
          "admin.",
          "admin.",
          "retired",
          "admin.",
          "admin.",
          "blue-collar",
          "blue-collar",
          "unemployed",
          "self-employed",
          "admin.",
          "admin.",
          "admin.",
          "services",
          "self-employed",
          "student",
          "housemaid",
          "student",
          "services",
          "services",
          "retired",
          "admin.",
          "admin.",
          "retired",
          "admin.",
          "self-employed",
          "technician",
          "admin.",
          "unemployed",
          "self-employed",
          "unemployed",
          "technician",
          "unemployed",
          "admin.",
          "admin.",
          "student",
          "technician",
          "admin.",
          "admin.",
          "admin.",
          "admin.",
          "technician",
          "admin.",
          "retired",
          "unemployed",
          "admin.",
          "technician",
          "technician",
          "admin.",
          "admin.",
          "retired",
          "technician",
          "housemaid",
          "housemaid",
          "self-employed",
          "services",
          "management",
          "blue-collar",
          "retired",
          "admin.",
          "admin.",
          "self-employed",
          "admin.",
          "technician",
          "retired",
          "unemployed",
          "unemployed",
          "admin.",
          "admin.",
          "admin.",
          "housemaid",
          "admin.",
          "admin.",
          "admin.",
          "admin.",
          "admin.",
          "admin.",
          "technician",
          "admin.",
          "admin.",
          "retired",
          "management",
          "housemaid",
          "unemployed",
          "retired",
          "technician",
          "admin.",
          "admin.",
          "blue-collar",
          "admin.",
          "technician",
          "admin.",
          "housemaid",
          "admin.",
          "student",
          "student",
          "entrepreneur",
          "admin.",
          "admin.",
          "retired",
          "admin.",
          "admin.",
          "admin.",
          "admin.",
          "services",
          "admin.",
          "retired",
          "technician",
          "retired",
          "retired",
          "retired",
          "retired",
          "housemaid",
          "housemaid",
          "retired",
          "housemaid",
          "retired",
          "housemaid",
          "retired",
          "retired",
          "retired",
          "housemaid",
          "unemployed",
          "housemaid",
          "retired",
          "retired",
          "retired",
          "admin.",
          "admin.",
          "admin.",
          "retired",
          "student",
          "admin.",
          "management",
          "technician",
          "technician",
          "student",
          "retired",
          "management",
          "admin.",
          "admin.",
          "services",
          "technician",
          "admin.",
          "admin.",
          "admin.",
          "self-employed",
          "technician",
          "admin.",
          "admin.",
          "admin.",
          "admin.",
          "admin.",
          "student",
          "student",
          "admin.",
          "blue-collar",
          "technician",
          "admin.",
          "student",
          "technician",
          "services",
          "student",
          "student",
          "admin.",
          "admin.",
          "retired",
          "technician",
          "services",
          "admin.",
          "admin.",
          "admin.",
          "technician",
          "management",
          "technician",
          "student",
          "student",
          "admin.",
          "entrepreneur",
          "technician",
          "admin.",
          "admin.",
          "admin.",
          "retired",
          "management",
          "unemployed",
          "unemployed",
          "technician",
          "unemployed",
          "retired",
          "blue-collar",
          "management",
          "admin.",
          "unemployed",
          "admin.",
          "admin.",
          "services",
          "retired",
          "admin.",
          "admin.",
          "admin.",
          "management",
          "admin.",
          "retired",
          "technician",
          "retired",
          "admin.",
          "management",
          "admin.",
          "admin.",
          "student",
          "admin.",
          "blue-collar",
          "retired",
          "technician",
          "retired",
          "services",
          "unemployed",
          "self-employed",
          "student",
          "retired",
          "admin.",
          "admin.",
          "management",
          "admin.",
          "services",
          "blue-collar",
          "admin.",
          "self-employed",
          "unemployed",
          "retired",
          "unemployed",
          "retired",
          "technician",
          "admin.",
          "admin.",
          "retired",
          "student",
          "blue-collar",
          "retired",
          "technician",
          "admin.",
          "admin.",
          "retired",
          "services",
          "retired",
          "technician",
          "admin.",
          "student",
          "technician",
          "admin.",
          "student",
          "student",
          "services",
          "technician",
          "admin.",
          "unemployed",
          "student",
          "admin.",
          "housemaid",
          "admin.",
          "housemaid",
          "technician",
          "technician",
          "admin.",
          "admin.",
          "technician",
          "admin.",
          "unemployed",
          "admin.",
          "technician",
          "technician",
          "admin.",
          "admin.",
          "admin.",
          "technician",
          "technician",
          "services",
          "admin.",
          "management",
          "management",
          "student",
          "technician",
          "retired",
          "self-employed",
          "student",
          "self-employed",
          "self-employed",
          "technician",
          "unemployed",
          "admin.",
          "student",
          "self-employed",
          "student",
          "technician",
          "admin.",
          "management",
          "housemaid",
          "technician",
          "technician",
          "admin.",
          "admin.",
          "student",
          "management",
          "management",
          "blue-collar",
          "management",
          "student",
          "blue-collar",
          "admin.",
          "management",
          "management",
          "admin.",
          "admin.",
          "blue-collar",
          "admin.",
          "blue-collar",
          "admin.",
          "technician",
          "self-employed",
          "retired",
          "technician",
          "student",
          "retired",
          "admin.",
          "unemployed",
          "admin.",
          "admin.",
          "management",
          "blue-collar",
          "admin.",
          "blue-collar",
          "self-employed",
          "unemployed",
          "blue-collar",
          "technician",
          "management",
          "unemployed",
          "retired",
          "retired",
          "retired",
          "retired",
          "admin.",
          "student",
          "entrepreneur",
          "admin.",
          "unemployed",
          "admin.",
          "technician",
          "services",
          "retired",
          "retired",
          "student",
          "admin.",
          "retired",
          "admin.",
          "management",
          "admin.",
          "admin.",
          "services",
          "admin.",
          "admin.",
          "admin.",
          "blue-collar",
          "admin.",
          "technician",
          "admin.",
          "admin.",
          "student",
          "admin.",
          "admin.",
          "admin.",
          "admin.",
          "self-employed",
          "housemaid",
          "admin.",
          "admin.",
          "admin.",
          "services",
          "admin.",
          "retired",
          "admin.",
          "services",
          "admin.",
          "admin.",
          "self-employed",
          "admin.",
          "retired",
          "unemployed",
          "admin.",
          "retired",
          "admin.",
          "retired",
          "admin.",
          "technician",
          "admin.",
          "admin.",
          "student",
          "retired",
          "student",
          "retired",
          "admin.",
          "services",
          "retired",
          "retired",
          "retired",
          "retired",
          "unemployed",
          "technician",
          "technician",
          "services",
          "technician",
          "admin.",
          "blue-collar",
          "student",
          "technician",
          "blue-collar",
          "management",
          "technician",
          "admin.",
          "services",
          "blue-collar",
          "admin.",
          "blue-collar",
          "technician",
          "management",
          "services",
          "services",
          "admin.",
          "student",
          "retired",
          "retired",
          "admin.",
          "blue-collar",
          "self-employed",
          "admin.",
          "admin.",
          "admin.",
          "admin.",
          "admin.",
          "technician",
          "technician",
          "admin.",
          "technician",
          "technician",
          "retired",
          "retired",
          "retired",
          "technician",
          "unemployed",
          "retired",
          "retired",
          "admin.",
          "technician",
          "technician",
          "retired",
          "housemaid",
          "housemaid",
          "retired",
          "unemployed",
          "technician",
          "admin.",
          "services",
          "technician",
          "admin.",
          "management",
          "management",
          "admin.",
          "admin.",
          "services",
          "student",
          "management",
          "student",
          "technician",
          "admin.",
          "admin.",
          "admin.",
          "blue-collar",
          "technician",
          "management",
          "retired",
          "retired",
          "technician",
          "retired",
          "admin.",
          "admin.",
          "admin.",
          "housemaid",
          "retired",
          "student",
          "blue-collar",
          "student",
          "retired",
          "housemaid",
          "housemaid",
          "technician",
          "retired",
          "admin.",
          "housemaid",
          "entrepreneur",
          "technician",
          "admin.",
          "technician",
          "blue-collar",
          "retired",
          "technician",
          "admin.",
          "services",
          "management",
          "admin.",
          "retired",
          "management",
          "admin.",
          "management",
          "services",
          "retired",
          "retired",
          "admin.",
          "retired",
          "technician",
          "admin.",
          "unemployed",
          "student",
          "admin.",
          "student",
          "student",
          "blue-collar",
          "admin.",
          "technician",
          "technician",
          "student",
          "student",
          "retired",
          "student",
          "student",
          "blue-collar",
          "admin.",
          "admin.",
          "admin.",
          "admin.",
          "services",
          "blue-collar",
          "admin.",
          "unemployed",
          "unemployed",
          "admin.",
          "admin.",
          "admin.",
          "retired",
          "entrepreneur",
          "entrepreneur",
          "management",
          "technician",
          "admin.",
          "admin.",
          "retired",
          "admin.",
          "admin.",
          "retired",
          "admin.",
          "admin.",
          "technician",
          "admin.",
          "admin.",
          "unemployed",
          "services",
          "technician",
          "admin.",
          "admin.",
          "management",
          "admin.",
          "management",
          "blue-collar",
          "admin.",
          "retired",
          "admin.",
          "retired",
          "admin.",
          "admin.",
          "technician",
          "admin.",
          "student",
          "blue-collar",
          "retired",
          "admin.",
          "admin.",
          "admin.",
          "technician",
          "housemaid",
          "management",
          "admin.",
          "technician",
          "retired",
          "admin.",
          "admin.",
          "management",
          "blue-collar",
          "student",
          "self-employed",
          "entrepreneur",
          "services",
          "services",
          "admin.",
          "technician",
          "admin.",
          "admin.",
          "technician",
          "retired",
          "student",
          "self-employed",
          "admin.",
          "blue-collar",
          "retired",
          "retired",
          "retired",
          "admin.",
          "retired",
          "retired",
          "technician",
          "admin.",
          "admin.",
          "admin.",
          "blue-collar",
          "admin.",
          "student",
          "management",
          "retired",
          "management",
          "management",
          "retired",
          "management",
          "retired",
          "services",
          "admin.",
          "unemployed",
          "management",
          "admin.",
          "admin.",
          "technician",
          "admin.",
          "admin.",
          "entrepreneur",
          "admin.",
          "admin.",
          "retired",
          "retired",
          "admin.",
          "management",
          "management",
          "admin.",
          "retired",
          "admin.",
          "management",
          "services",
          "blue-collar",
          "management",
          "blue-collar",
          "unemployed",
          "technician",
          "admin.",
          "admin.",
          "unemployed",
          "unemployed",
          "technician",
          "technician",
          "technician",
          "admin.",
          "admin.",
          "technician",
          "admin.",
          "admin.",
          "technician",
          "retired",
          "technician",
          "retired",
          "services",
          "student",
          "technician",
          "retired",
          "admin.",
          "management",
          "housemaid",
          "technician",
          "admin.",
          "admin.",
          "admin.",
          "management",
          "student",
          "admin.",
          "retired",
          "student",
          "student",
          "retired",
          "admin.",
          "entrepreneur",
          "technician",
          "student",
          "student",
          "admin.",
          "unemployed",
          "retired",
          "student",
          "admin.",
          "technician",
          "admin.",
          "admin.",
          "admin.",
          "retired",
          "student",
          "student",
          "technician",
          "technician",
          "technician",
          "technician",
          "management",
          "technician",
          "technician",
          "technician",
          "services",
          "student",
          "blue-collar",
          "unemployed",
          "admin.",
          "admin.",
          "technician",
          "technician",
          "technician",
          "unemployed",
          "admin.",
          "admin.",
          "admin.",
          "student",
          "technician",
          "technician",
          "admin.",
          "admin.",
          "technician",
          "admin.",
          "technician",
          "technician",
          "admin.",
          "services",
          "admin.",
          "unemployed",
          "student",
          "admin.",
          "management",
          "admin.",
          "admin.",
          "technician",
          "technician",
          "technician",
          "blue-collar",
          "technician",
          "technician",
          "technician",
          "self-employed",
          "admin.",
          "admin.",
          "retired",
          "technician",
          "admin.",
          "technician",
          "retired",
          "unemployed",
          "technician",
          "technician",
          "admin.",
          "services",
          "retired",
          "services",
          "technician",
          "student",
          "blue-collar",
          "retired",
          "blue-collar",
          "admin.",
          "retired",
          "admin.",
          "admin.",
          "retired",
          "admin.",
          "technician",
          "blue-collar",
          "admin.",
          "admin.",
          "retired",
          "admin.",
          "retired",
          "technician",
          "technician",
          "technician",
          "admin.",
          "admin.",
          "retired",
          "admin.",
          "technician",
          "entrepreneur",
          "services",
          "retired",
          "services",
          "management",
          "retired",
          "housemaid",
          "housemaid",
          "blue-collar",
          "admin.",
          "housemaid",
          "admin.",
          "management",
          "admin.",
          "unemployed",
          "student",
          "student",
          "student",
          "student",
          "retired",
          "services",
          "admin.",
          "unemployed",
          "admin.",
          "services",
          "technician",
          "student",
          "admin.",
          "technician",
          "student",
          "admin.",
          "admin.",
          "admin.",
          "student",
          "management",
          "retired",
          "student",
          "technician",
          "management",
          "retired",
          "management",
          "admin.",
          "technician",
          "blue-collar",
          "blue-collar",
          "admin.",
          "technician",
          "admin.",
          "student",
          "blue-collar",
          "admin.",
          "student",
          "admin.",
          "admin.",
          "retired",
          "blue-collar",
          "technician",
          "blue-collar",
          "blue-collar",
          "technician",
          "technician",
          "admin.",
          "admin.",
          "admin.",
          "admin.",
          "unemployed",
          "student",
          "unemployed",
          "management",
          "admin.",
          "admin.",
          "admin.",
          "admin.",
          "technician",
          "admin.",
          "technician",
          "housemaid",
          "technician",
          "technician",
          "technician",
          "admin.",
          "technician",
          "admin.",
          "housemaid",
          "admin.",
          "student",
          "admin.",
          "retired",
          "retired",
          "retired",
          "admin.",
          "retired",
          "technician"
         ],
         "xaxis": "x",
         "yaxis": "y"
        }
       ],
       "layout": {
        "autosize": true,
        "barmode": "relative",
        "legend": {
         "tracegroupgap": 0
        },
        "margin": {
         "t": 60
        },
        "template": {
         "data": {
          "bar": [
           {
            "error_x": {
             "color": "#2a3f5f"
            },
            "error_y": {
             "color": "#2a3f5f"
            },
            "marker": {
             "line": {
              "color": "#E5ECF6",
              "width": 0.5
             }
            },
            "type": "bar"
           }
          ],
          "barpolar": [
           {
            "marker": {
             "line": {
              "color": "#E5ECF6",
              "width": 0.5
             }
            },
            "type": "barpolar"
           }
          ],
          "carpet": [
           {
            "aaxis": {
             "endlinecolor": "#2a3f5f",
             "gridcolor": "white",
             "linecolor": "white",
             "minorgridcolor": "white",
             "startlinecolor": "#2a3f5f"
            },
            "baxis": {
             "endlinecolor": "#2a3f5f",
             "gridcolor": "white",
             "linecolor": "white",
             "minorgridcolor": "white",
             "startlinecolor": "#2a3f5f"
            },
            "type": "carpet"
           }
          ],
          "choropleth": [
           {
            "colorbar": {
             "outlinewidth": 0,
             "ticks": ""
            },
            "type": "choropleth"
           }
          ],
          "contour": [
           {
            "colorbar": {
             "outlinewidth": 0,
             "ticks": ""
            },
            "colorscale": [
             [
              0,
              "#0d0887"
             ],
             [
              0.1111111111111111,
              "#46039f"
             ],
             [
              0.2222222222222222,
              "#7201a8"
             ],
             [
              0.3333333333333333,
              "#9c179e"
             ],
             [
              0.4444444444444444,
              "#bd3786"
             ],
             [
              0.5555555555555556,
              "#d8576b"
             ],
             [
              0.6666666666666666,
              "#ed7953"
             ],
             [
              0.7777777777777778,
              "#fb9f3a"
             ],
             [
              0.8888888888888888,
              "#fdca26"
             ],
             [
              1,
              "#f0f921"
             ]
            ],
            "type": "contour"
           }
          ],
          "contourcarpet": [
           {
            "colorbar": {
             "outlinewidth": 0,
             "ticks": ""
            },
            "type": "contourcarpet"
           }
          ],
          "heatmap": [
           {
            "colorbar": {
             "outlinewidth": 0,
             "ticks": ""
            },
            "colorscale": [
             [
              0,
              "#0d0887"
             ],
             [
              0.1111111111111111,
              "#46039f"
             ],
             [
              0.2222222222222222,
              "#7201a8"
             ],
             [
              0.3333333333333333,
              "#9c179e"
             ],
             [
              0.4444444444444444,
              "#bd3786"
             ],
             [
              0.5555555555555556,
              "#d8576b"
             ],
             [
              0.6666666666666666,
              "#ed7953"
             ],
             [
              0.7777777777777778,
              "#fb9f3a"
             ],
             [
              0.8888888888888888,
              "#fdca26"
             ],
             [
              1,
              "#f0f921"
             ]
            ],
            "type": "heatmap"
           }
          ],
          "heatmapgl": [
           {
            "colorbar": {
             "outlinewidth": 0,
             "ticks": ""
            },
            "colorscale": [
             [
              0,
              "#0d0887"
             ],
             [
              0.1111111111111111,
              "#46039f"
             ],
             [
              0.2222222222222222,
              "#7201a8"
             ],
             [
              0.3333333333333333,
              "#9c179e"
             ],
             [
              0.4444444444444444,
              "#bd3786"
             ],
             [
              0.5555555555555556,
              "#d8576b"
             ],
             [
              0.6666666666666666,
              "#ed7953"
             ],
             [
              0.7777777777777778,
              "#fb9f3a"
             ],
             [
              0.8888888888888888,
              "#fdca26"
             ],
             [
              1,
              "#f0f921"
             ]
            ],
            "type": "heatmapgl"
           }
          ],
          "histogram": [
           {
            "marker": {
             "colorbar": {
              "outlinewidth": 0,
              "ticks": ""
             }
            },
            "type": "histogram"
           }
          ],
          "histogram2d": [
           {
            "colorbar": {
             "outlinewidth": 0,
             "ticks": ""
            },
            "colorscale": [
             [
              0,
              "#0d0887"
             ],
             [
              0.1111111111111111,
              "#46039f"
             ],
             [
              0.2222222222222222,
              "#7201a8"
             ],
             [
              0.3333333333333333,
              "#9c179e"
             ],
             [
              0.4444444444444444,
              "#bd3786"
             ],
             [
              0.5555555555555556,
              "#d8576b"
             ],
             [
              0.6666666666666666,
              "#ed7953"
             ],
             [
              0.7777777777777778,
              "#fb9f3a"
             ],
             [
              0.8888888888888888,
              "#fdca26"
             ],
             [
              1,
              "#f0f921"
             ]
            ],
            "type": "histogram2d"
           }
          ],
          "histogram2dcontour": [
           {
            "colorbar": {
             "outlinewidth": 0,
             "ticks": ""
            },
            "colorscale": [
             [
              0,
              "#0d0887"
             ],
             [
              0.1111111111111111,
              "#46039f"
             ],
             [
              0.2222222222222222,
              "#7201a8"
             ],
             [
              0.3333333333333333,
              "#9c179e"
             ],
             [
              0.4444444444444444,
              "#bd3786"
             ],
             [
              0.5555555555555556,
              "#d8576b"
             ],
             [
              0.6666666666666666,
              "#ed7953"
             ],
             [
              0.7777777777777778,
              "#fb9f3a"
             ],
             [
              0.8888888888888888,
              "#fdca26"
             ],
             [
              1,
              "#f0f921"
             ]
            ],
            "type": "histogram2dcontour"
           }
          ],
          "mesh3d": [
           {
            "colorbar": {
             "outlinewidth": 0,
             "ticks": ""
            },
            "type": "mesh3d"
           }
          ],
          "parcoords": [
           {
            "line": {
             "colorbar": {
              "outlinewidth": 0,
              "ticks": ""
             }
            },
            "type": "parcoords"
           }
          ],
          "pie": [
           {
            "automargin": true,
            "type": "pie"
           }
          ],
          "scatter": [
           {
            "marker": {
             "colorbar": {
              "outlinewidth": 0,
              "ticks": ""
             }
            },
            "type": "scatter"
           }
          ],
          "scatter3d": [
           {
            "line": {
             "colorbar": {
              "outlinewidth": 0,
              "ticks": ""
             }
            },
            "marker": {
             "colorbar": {
              "outlinewidth": 0,
              "ticks": ""
             }
            },
            "type": "scatter3d"
           }
          ],
          "scattercarpet": [
           {
            "marker": {
             "colorbar": {
              "outlinewidth": 0,
              "ticks": ""
             }
            },
            "type": "scattercarpet"
           }
          ],
          "scattergeo": [
           {
            "marker": {
             "colorbar": {
              "outlinewidth": 0,
              "ticks": ""
             }
            },
            "type": "scattergeo"
           }
          ],
          "scattergl": [
           {
            "marker": {
             "colorbar": {
              "outlinewidth": 0,
              "ticks": ""
             }
            },
            "type": "scattergl"
           }
          ],
          "scattermapbox": [
           {
            "marker": {
             "colorbar": {
              "outlinewidth": 0,
              "ticks": ""
             }
            },
            "type": "scattermapbox"
           }
          ],
          "scatterpolar": [
           {
            "marker": {
             "colorbar": {
              "outlinewidth": 0,
              "ticks": ""
             }
            },
            "type": "scatterpolar"
           }
          ],
          "scatterpolargl": [
           {
            "marker": {
             "colorbar": {
              "outlinewidth": 0,
              "ticks": ""
             }
            },
            "type": "scatterpolargl"
           }
          ],
          "scatterternary": [
           {
            "marker": {
             "colorbar": {
              "outlinewidth": 0,
              "ticks": ""
             }
            },
            "type": "scatterternary"
           }
          ],
          "surface": [
           {
            "colorbar": {
             "outlinewidth": 0,
             "ticks": ""
            },
            "colorscale": [
             [
              0,
              "#0d0887"
             ],
             [
              0.1111111111111111,
              "#46039f"
             ],
             [
              0.2222222222222222,
              "#7201a8"
             ],
             [
              0.3333333333333333,
              "#9c179e"
             ],
             [
              0.4444444444444444,
              "#bd3786"
             ],
             [
              0.5555555555555556,
              "#d8576b"
             ],
             [
              0.6666666666666666,
              "#ed7953"
             ],
             [
              0.7777777777777778,
              "#fb9f3a"
             ],
             [
              0.8888888888888888,
              "#fdca26"
             ],
             [
              1,
              "#f0f921"
             ]
            ],
            "type": "surface"
           }
          ],
          "table": [
           {
            "cells": {
             "fill": {
              "color": "#EBF0F8"
             },
             "line": {
              "color": "white"
             }
            },
            "header": {
             "fill": {
              "color": "#C8D4E3"
             },
             "line": {
              "color": "white"
             }
            },
            "type": "table"
           }
          ]
         },
         "layout": {
          "annotationdefaults": {
           "arrowcolor": "#2a3f5f",
           "arrowhead": 0,
           "arrowwidth": 1
          },
          "coloraxis": {
           "colorbar": {
            "outlinewidth": 0,
            "ticks": ""
           }
          },
          "colorscale": {
           "diverging": [
            [
             0,
             "#8e0152"
            ],
            [
             0.1,
             "#c51b7d"
            ],
            [
             0.2,
             "#de77ae"
            ],
            [
             0.3,
             "#f1b6da"
            ],
            [
             0.4,
             "#fde0ef"
            ],
            [
             0.5,
             "#f7f7f7"
            ],
            [
             0.6,
             "#e6f5d0"
            ],
            [
             0.7,
             "#b8e186"
            ],
            [
             0.8,
             "#7fbc41"
            ],
            [
             0.9,
             "#4d9221"
            ],
            [
             1,
             "#276419"
            ]
           ],
           "sequential": [
            [
             0,
             "#0d0887"
            ],
            [
             0.1111111111111111,
             "#46039f"
            ],
            [
             0.2222222222222222,
             "#7201a8"
            ],
            [
             0.3333333333333333,
             "#9c179e"
            ],
            [
             0.4444444444444444,
             "#bd3786"
            ],
            [
             0.5555555555555556,
             "#d8576b"
            ],
            [
             0.6666666666666666,
             "#ed7953"
            ],
            [
             0.7777777777777778,
             "#fb9f3a"
            ],
            [
             0.8888888888888888,
             "#fdca26"
            ],
            [
             1,
             "#f0f921"
            ]
           ],
           "sequentialminus": [
            [
             0,
             "#0d0887"
            ],
            [
             0.1111111111111111,
             "#46039f"
            ],
            [
             0.2222222222222222,
             "#7201a8"
            ],
            [
             0.3333333333333333,
             "#9c179e"
            ],
            [
             0.4444444444444444,
             "#bd3786"
            ],
            [
             0.5555555555555556,
             "#d8576b"
            ],
            [
             0.6666666666666666,
             "#ed7953"
            ],
            [
             0.7777777777777778,
             "#fb9f3a"
            ],
            [
             0.8888888888888888,
             "#fdca26"
            ],
            [
             1,
             "#f0f921"
            ]
           ]
          },
          "colorway": [
           "#636efa",
           "#EF553B",
           "#00cc96",
           "#ab63fa",
           "#FFA15A",
           "#19d3f3",
           "#FF6692",
           "#B6E880",
           "#FF97FF",
           "#FECB52"
          ],
          "font": {
           "color": "#2a3f5f"
          },
          "geo": {
           "bgcolor": "white",
           "lakecolor": "white",
           "landcolor": "#E5ECF6",
           "showlakes": true,
           "showland": true,
           "subunitcolor": "white"
          },
          "hoverlabel": {
           "align": "left"
          },
          "hovermode": "closest",
          "mapbox": {
           "style": "light"
          },
          "paper_bgcolor": "white",
          "plot_bgcolor": "#E5ECF6",
          "polar": {
           "angularaxis": {
            "gridcolor": "white",
            "linecolor": "white",
            "ticks": ""
           },
           "bgcolor": "#E5ECF6",
           "radialaxis": {
            "gridcolor": "white",
            "linecolor": "white",
            "ticks": ""
           }
          },
          "scene": {
           "xaxis": {
            "backgroundcolor": "#E5ECF6",
            "gridcolor": "white",
            "gridwidth": 2,
            "linecolor": "white",
            "showbackground": true,
            "ticks": "",
            "zerolinecolor": "white"
           },
           "yaxis": {
            "backgroundcolor": "#E5ECF6",
            "gridcolor": "white",
            "gridwidth": 2,
            "linecolor": "white",
            "showbackground": true,
            "ticks": "",
            "zerolinecolor": "white"
           },
           "zaxis": {
            "backgroundcolor": "#E5ECF6",
            "gridcolor": "white",
            "gridwidth": 2,
            "linecolor": "white",
            "showbackground": true,
            "ticks": "",
            "zerolinecolor": "white"
           }
          },
          "shapedefaults": {
           "line": {
            "color": "#2a3f5f"
           }
          },
          "ternary": {
           "aaxis": {
            "gridcolor": "white",
            "linecolor": "white",
            "ticks": ""
           },
           "baxis": {
            "gridcolor": "white",
            "linecolor": "white",
            "ticks": ""
           },
           "bgcolor": "#E5ECF6",
           "caxis": {
            "gridcolor": "white",
            "linecolor": "white",
            "ticks": ""
           }
          },
          "title": {
           "x": 0.05
          },
          "xaxis": {
           "automargin": true,
           "gridcolor": "white",
           "linecolor": "white",
           "ticks": "",
           "title": {
            "standoff": 15
           },
           "zerolinecolor": "white",
           "zerolinewidth": 2
          },
          "yaxis": {
           "automargin": true,
           "gridcolor": "white",
           "linecolor": "white",
           "ticks": "",
           "title": {
            "standoff": 15
           },
           "zerolinecolor": "white",
           "zerolinewidth": 2
          }
         }
        },
        "xaxis": {
         "anchor": "y",
         "autorange": true,
         "domain": [
          0,
          1
         ],
         "range": [
          -0.5,
          10.5
         ],
         "title": {
          "text": "job"
         },
         "type": "category"
        },
        "yaxis": {
         "anchor": "x",
         "autorange": true,
         "domain": [
          0,
          1
         ],
         "range": [
          0,
          1349.4736842105262
         ],
         "title": {
          "text": "count"
         }
        }
       }
      },
      "image/png": "[encoded data removed]",
      "text/html": [
       "<div>\n",
       "        \n",
       "        \n",
       "            <div id=\"934f5a47-0ef7-4d15-ad9c-d7bdb1ec3a92\" class=\"plotly-graph-div\" style=\"height:525px; width:100%;\"></div>\n",
       "            <script type=\"text/javascript\">\n",
       "                require([\"plotly\"], function(Plotly) {\n",
       "                    window.PLOTLYENV=window.PLOTLYENV || {};\n",
       "                    \n",
       "                if (document.getElementById(\"934f5a47-0ef7-4d15-ad9c-d7bdb1ec3a92\")) {\n",
       "                    Plotly.newPlot(\n",
       "                        '934f5a47-0ef7-4d15-ad9c-d7bdb1ec3a92',\n",
       "                        [{\"alignmentgroup\": \"True\", \"bingroup\": \"x\", \"hovertemplate\": \"job=%{x}<br>count=%{y}<extra></extra>\", \"legendgroup\": \"\", \"marker\": {\"color\": \"#636efa\"}, \"name\": \"\", \"offsetgroup\": \"\", \"orientation\": \"v\", \"showlegend\": false, \"type\": \"histogram\", \"x\": [\"blue-collar\", \"entrepreneur\", \"technician\", \"technician\", \"blue-collar\", \"blue-collar\", \"housemaid\", \"services\", \"technician\", \"management\", \"services\", \"blue-collar\", \"housemaid\", \"admin.\", \"student\", \"entrepreneur\", \"blue-collar\", \"blue-collar\", \"entrepreneur\", \"admin.\", \"services\", \"blue-collar\", \"blue-collar\", \"technician\", \"admin.\", \"technician\", \"services\", \"blue-collar\", \"entrepreneur\", \"services\", \"services\", \"management\", \"housemaid\", \"blue-collar\", \"blue-collar\", \"blue-collar\", \"services\", \"admin.\", \"admin.\", \"blue-collar\", \"management\", \"services\", \"admin.\", \"blue-collar\", \"admin.\", \"management\", \"management\", \"admin.\", \"blue-collar\", \"blue-collar\", \"technician\", \"technician\", \"admin.\", \"services\", \"technician\", \"admin.\", \"services\", \"entrepreneur\", \"admin.\", \"blue-collar\", \"technician\", \"admin.\", \"blue-collar\", \"unemployed\", \"blue-collar\", \"student\", \"blue-collar\", \"blue-collar\", \"technician\", \"housemaid\", \"services\", \"services\", \"admin.\", \"services\", \"blue-collar\", \"self-employed\", \"blue-collar\", \"blue-collar\", \"admin.\", \"technician\", \"management\", \"blue-collar\", \"services\", \"blue-collar\", \"admin.\", \"entrepreneur\", \"admin.\", \"blue-collar\", \"management\", \"blue-collar\", \"technician\", \"blue-collar\", \"entrepreneur\", \"admin.\", \"admin.\", \"blue-collar\", \"admin.\", \"blue-collar\", \"services\", \"admin.\", \"student\", \"services\", \"blue-collar\", \"management\", \"technician\", \"blue-collar\", \"services\", \"services\", \"blue-collar\", \"services\", \"services\", \"technician\", \"services\", \"blue-collar\", \"blue-collar\", \"services\", \"retired\", \"blue-collar\", \"admin.\", \"technician\", \"housemaid\", \"admin.\", \"admin.\", \"retired\", \"blue-collar\", \"technician\", \"admin.\", \"technician\", \"blue-collar\", \"admin.\", \"housemaid\", \"technician\", \"blue-collar\", \"admin.\", \"entrepreneur\", \"admin.\", \"blue-collar\", \"services\", \"admin.\", \"services\", \"technician\", \"technician\", \"blue-collar\", \"blue-collar\", \"retired\", \"technician\", \"admin.\", \"services\", \"retired\", \"blue-collar\", \"technician\", \"services\", \"blue-collar\", \"blue-collar\", \"admin.\", \"management\", \"student\", \"services\", \"admin.\", \"entrepreneur\", \"unemployed\", \"management\", \"blue-collar\", \"self-employed\", \"blue-collar\", \"entrepreneur\", \"admin.\", \"services\", \"technician\", \"blue-collar\", \"admin.\", \"blue-collar\", \"management\", \"management\", \"self-employed\", \"blue-collar\", \"admin.\", \"blue-collar\", \"blue-collar\", \"blue-collar\", \"admin.\", \"services\", \"blue-collar\", \"unemployed\", \"technician\", \"admin.\", \"management\", \"technician\", \"retired\", \"management\", \"retired\", \"admin.\", \"technician\", \"entrepreneur\", \"technician\", \"services\", \"unemployed\", \"admin.\", \"blue-collar\", \"admin.\", \"admin.\", \"admin.\", \"admin.\", \"admin.\", \"technician\", \"retired\", \"housemaid\", \"services\", \"blue-collar\", \"admin.\", \"blue-collar\", \"blue-collar\", \"admin.\", \"blue-collar\", \"technician\", \"services\", \"entrepreneur\", \"blue-collar\", \"blue-collar\", \"blue-collar\", \"technician\", \"blue-collar\", \"services\", \"admin.\", \"blue-collar\", \"admin.\", \"unemployed\", \"services\", \"admin.\", \"unemployed\", \"management\", \"services\", \"services\", \"blue-collar\", \"services\", \"blue-collar\", \"services\", \"technician\", \"blue-collar\", \"student\", \"retired\", \"technician\", \"technician\", \"blue-collar\", \"blue-collar\", \"management\", \"management\", \"admin.\", \"blue-collar\", \"blue-collar\", \"admin.\", \"unemployed\", \"blue-collar\", \"blue-collar\", \"blue-collar\", \"admin.\", \"technician\", \"retired\", \"student\", \"admin.\", \"admin.\", \"admin.\", \"admin.\", \"blue-collar\", \"blue-collar\", \"admin.\", \"unemployed\", \"housemaid\", \"blue-collar\", \"blue-collar\", \"blue-collar\", \"blue-collar\", \"blue-collar\", \"technician\", \"blue-collar\", \"blue-collar\", \"entrepreneur\", \"technician\", \"technician\", \"services\", \"blue-collar\", \"services\", \"blue-collar\", \"self-employed\", \"blue-collar\", \"admin.\", \"blue-collar\", \"blue-collar\", \"self-employed\", \"admin.\", \"blue-collar\", \"admin.\", \"services\", \"admin.\", \"blue-collar\", \"student\", \"services\", \"admin.\", \"technician\", \"technician\", \"entrepreneur\", \"technician\", \"services\", \"admin.\", \"management\", \"admin.\", \"self-employed\", \"blue-collar\", \"admin.\", \"entrepreneur\", \"blue-collar\", \"blue-collar\", \"admin.\", \"technician\", \"blue-collar\", \"technician\", \"blue-collar\", \"management\", \"technician\", \"blue-collar\", \"blue-collar\", \"entrepreneur\", \"entrepreneur\", \"admin.\", \"admin.\", \"entrepreneur\", \"admin.\", \"management\", \"technician\", \"blue-collar\", \"self-employed\", \"entrepreneur\", \"management\", \"blue-collar\", \"blue-collar\", \"admin.\", \"blue-collar\", \"entrepreneur\", \"management\", \"blue-collar\", \"services\", \"blue-collar\", \"entrepreneur\", \"self-employed\", \"blue-collar\", \"technician\", \"technician\", \"blue-collar\", \"management\", \"blue-collar\", \"management\", \"technician\", \"retired\", \"blue-collar\", \"management\", \"blue-collar\", \"admin.\", \"student\", \"admin.\", \"blue-collar\", \"blue-collar\", \"blue-collar\", \"admin.\", \"admin.\", \"blue-collar\", \"housemaid\", \"technician\", \"retired\", \"admin.\", \"admin.\", \"blue-collar\", \"self-employed\", \"blue-collar\", \"blue-collar\", \"technician\", \"blue-collar\", \"technician\", \"blue-collar\", \"blue-collar\", \"technician\", \"blue-collar\", \"admin.\", \"admin.\", \"blue-collar\", \"technician\", \"blue-collar\", \"admin.\", \"entrepreneur\", \"retired\", \"blue-collar\", \"admin.\", \"management\", \"blue-collar\", \"blue-collar\", \"blue-collar\", \"blue-collar\", \"retired\", \"services\", \"blue-collar\", \"self-employed\", \"technician\", \"services\", \"blue-collar\", \"management\", \"admin.\", \"services\", \"management\", \"retired\", \"admin.\", \"entrepreneur\", \"management\", \"services\", \"retired\", \"blue-collar\", \"technician\", \"blue-collar\", \"blue-collar\", \"services\", \"admin.\", \"management\", \"admin.\", \"entrepreneur\", \"technician\", \"admin.\", \"services\", \"technician\", \"services\", \"management\", \"blue-collar\", \"blue-collar\", \"technician\", \"management\", \"admin.\", \"admin.\", \"services\", \"admin.\", \"technician\", \"blue-collar\", \"admin.\", \"admin.\", \"entrepreneur\", \"admin.\", \"admin.\", \"blue-collar\", \"blue-collar\", \"admin.\", \"services\", \"admin.\", \"admin.\", \"services\", \"services\", \"self-employed\", \"admin.\", \"technician\", \"management\", \"blue-collar\", \"technician\", \"technician\", \"blue-collar\", \"admin.\", \"blue-collar\", \"blue-collar\", \"blue-collar\", \"admin.\", \"admin.\", \"retired\", \"blue-collar\", \"blue-collar\", \"admin.\", \"services\", \"unemployed\", \"technician\", \"blue-collar\", \"technician\", \"admin.\", \"technician\", \"blue-collar\", \"management\", \"blue-collar\", \"admin.\", \"blue-collar\", \"admin.\", \"management\", \"admin.\", \"admin.\", \"blue-collar\", \"blue-collar\", \"blue-collar\", \"technician\", \"blue-collar\", \"blue-collar\", \"technician\", \"services\", \"technician\", \"services\", \"admin.\", \"retired\", \"services\", \"admin.\", \"retired\", \"blue-collar\", \"blue-collar\", \"admin.\", \"management\", \"self-employed\", \"blue-collar\", \"technician\", \"housemaid\", \"admin.\", \"blue-collar\", \"services\", \"management\", \"blue-collar\", \"admin.\", \"entrepreneur\", \"blue-collar\", \"blue-collar\", \"retired\", \"admin.\", \"admin.\", \"services\", \"technician\", \"management\", \"services\", \"technician\", \"blue-collar\", \"retired\", \"self-employed\", \"technician\", \"entrepreneur\", \"services\", \"blue-collar\", \"housemaid\", \"blue-collar\", \"admin.\", \"services\", \"admin.\", \"technician\", \"management\", \"admin.\", \"technician\", \"technician\", \"technician\", \"blue-collar\", \"admin.\", \"management\", \"blue-collar\", \"admin.\", \"retired\", \"blue-collar\", \"blue-collar\", \"technician\", \"blue-collar\", \"retired\", \"admin.\", \"blue-collar\", \"blue-collar\", \"admin.\", \"retired\", \"housemaid\", \"admin.\", \"technician\", \"blue-collar\", \"blue-collar\", \"blue-collar\", \"blue-collar\", \"admin.\", \"services\", \"services\", \"blue-collar\", \"unemployed\", \"management\", \"housemaid\", \"admin.\", \"management\", \"blue-collar\", \"admin.\", \"technician\", \"blue-collar\", \"blue-collar\", \"technician\", \"self-employed\", \"admin.\", \"services\", \"blue-collar\", \"technician\", \"blue-collar\", \"blue-collar\", \"blue-collar\", \"admin.\", \"admin.\", \"admin.\", \"admin.\", \"management\", \"blue-collar\", \"admin.\", \"services\", \"blue-collar\", \"blue-collar\", \"services\", \"housemaid\", \"entrepreneur\", \"retired\", \"blue-collar\", \"blue-collar\", \"management\", \"admin.\", \"blue-collar\", \"blue-collar\", \"technician\", \"services\", \"blue-collar\", \"blue-collar\", \"admin.\", \"admin.\", \"admin.\", \"management\", \"admin.\", \"admin.\", \"technician\", \"technician\", \"blue-collar\", \"blue-collar\", \"admin.\", \"admin.\", \"blue-collar\", \"admin.\", \"technician\", \"technician\", \"services\", \"services\", \"services\", \"services\", \"blue-collar\", \"blue-collar\", \"admin.\", \"admin.\", \"services\", \"technician\", \"blue-collar\", \"admin.\", \"technician\", \"management\", \"admin.\", \"admin.\", \"blue-collar\", \"services\", \"blue-collar\", \"blue-collar\", \"services\", \"blue-collar\", \"blue-collar\", \"services\", \"blue-collar\", \"blue-collar\", \"services\", \"admin.\", \"blue-collar\", \"technician\", \"blue-collar\", \"admin.\", \"blue-collar\", \"retired\", \"admin.\", \"unemployed\", \"admin.\", \"admin.\", \"blue-collar\", \"admin.\", \"management\", \"admin.\", \"admin.\", \"blue-collar\", \"self-employed\", \"admin.\", \"technician\", \"entrepreneur\", \"blue-collar\", \"self-employed\", \"self-employed\", \"services\", \"self-employed\", \"student\", \"entrepreneur\", \"self-employed\", \"blue-collar\", \"admin.\", \"admin.\", \"technician\", \"management\", \"unemployed\", \"blue-collar\", \"unemployed\", \"admin.\", \"blue-collar\", \"technician\", \"admin.\", \"services\", \"technician\", \"retired\", \"services\", \"technician\", \"retired\", \"admin.\", \"blue-collar\", \"retired\", \"technician\", \"retired\", \"services\", \"retired\", \"admin.\", \"blue-collar\", \"admin.\", \"blue-collar\", \"management\", \"technician\", \"retired\", \"blue-collar\", \"admin.\", \"admin.\", \"management\", \"services\", \"blue-collar\", \"admin.\", \"services\", \"admin.\", \"technician\", \"admin.\", \"admin.\", \"admin.\", \"blue-collar\", \"self-employed\", \"admin.\", \"admin.\", \"blue-collar\", \"entrepreneur\", \"retired\", \"entrepreneur\", \"admin.\", \"retired\", \"unemployed\", \"technician\", \"admin.\", \"technician\", \"blue-collar\", \"services\", \"services\", \"services\", \"unemployed\", \"admin.\", \"blue-collar\", \"admin.\", \"admin.\", \"blue-collar\", \"services\", \"admin.\", \"self-employed\", \"blue-collar\", \"self-employed\", \"admin.\", \"admin.\", \"self-employed\", \"services\", \"admin.\", \"management\", \"services\", \"management\", \"blue-collar\", \"entrepreneur\", \"services\", \"self-employed\", \"blue-collar\", \"blue-collar\", \"admin.\", \"admin.\", \"admin.\", \"services\", \"admin.\", \"services\", \"technician\", \"unemployed\", \"admin.\", \"services\", \"blue-collar\", \"student\", \"technician\", \"management\", \"entrepreneur\", \"entrepreneur\", \"admin.\", \"admin.\", \"technician\", \"services\", \"technician\", \"technician\", \"blue-collar\", \"blue-collar\", \"technician\", \"admin.\", \"admin.\", \"admin.\", \"admin.\", \"admin.\", \"admin.\", \"admin.\", \"admin.\", \"blue-collar\", \"technician\", \"services\", \"management\", \"housemaid\", \"technician\", \"technician\", \"unemployed\", \"technician\", \"management\", \"admin.\", \"blue-collar\", \"admin.\", \"technician\", \"admin.\", \"blue-collar\", \"admin.\", \"management\", \"technician\", \"admin.\", \"admin.\", \"blue-collar\", \"admin.\", \"retired\", \"admin.\", \"technician\", \"technician\", \"management\", \"self-employed\", \"self-employed\", \"admin.\", \"blue-collar\", \"admin.\", \"technician\", \"technician\", \"entrepreneur\", \"technician\", \"blue-collar\", \"blue-collar\", \"technician\", \"blue-collar\", \"blue-collar\", \"technician\", \"technician\", \"admin.\", \"self-employed\", \"technician\", \"blue-collar\", \"technician\", \"technician\", \"self-employed\", \"technician\", \"self-employed\", \"admin.\", \"unemployed\", \"admin.\", \"retired\", \"technician\", \"admin.\", \"admin.\", \"admin.\", \"management\", \"blue-collar\", \"services\", \"admin.\", \"admin.\", \"management\", \"admin.\", \"technician\", \"technician\", \"technician\", \"technician\", \"admin.\", \"technician\", \"admin.\", \"technician\", \"housemaid\", \"entrepreneur\", \"technician\", \"technician\", \"technician\", \"admin.\", \"technician\", \"admin.\", \"management\", \"technician\", \"technician\", \"technician\", \"technician\", \"technician\", \"technician\", \"admin.\", \"services\", \"technician\", \"blue-collar\", \"technician\", \"admin.\", \"technician\", \"management\", \"technician\", \"technician\", \"admin.\", \"blue-collar\", \"admin.\", \"technician\", \"admin.\", \"technician\", \"admin.\", \"admin.\", \"technician\", \"admin.\", \"admin.\", \"technician\", \"retired\", \"services\", \"admin.\", \"management\", \"admin.\", \"management\", \"management\", \"technician\", \"technician\", \"self-employed\", \"technician\", \"admin.\", \"admin.\", \"services\", \"self-employed\", \"housemaid\", \"admin.\", \"self-employed\", \"self-employed\", \"admin.\", \"admin.\", \"services\", \"technician\", \"technician\", \"technician\", \"services\", \"technician\", \"blue-collar\", \"admin.\", \"admin.\", \"admin.\", \"admin.\", \"technician\", \"retired\", \"admin.\", \"technician\", \"services\", \"management\", \"blue-collar\", \"admin.\", \"technician\", \"admin.\", \"housemaid\", \"admin.\", \"admin.\", \"unemployed\", \"admin.\", \"admin.\", \"admin.\", \"technician\", \"blue-collar\", \"retired\", \"services\", \"admin.\", \"management\", \"blue-collar\", \"technician\", \"services\", \"admin.\", \"admin.\", \"self-employed\", \"admin.\", \"blue-collar\", \"technician\", \"technician\", \"technician\", \"admin.\", \"admin.\", \"technician\", \"admin.\", \"technician\", \"services\", \"self-employed\", \"blue-collar\", \"admin.\", \"self-employed\", \"management\", \"blue-collar\", \"blue-collar\", \"management\", \"self-employed\", \"management\", \"admin.\", \"technician\", \"admin.\", \"technician\", \"technician\", \"technician\", \"technician\", \"management\", \"admin.\", \"technician\", \"admin.\", \"retired\", \"retired\", \"services\", \"services\", \"retired\", \"technician\", \"admin.\", \"technician\", \"admin.\", \"technician\", \"technician\", \"technician\", \"admin.\", \"technician\", \"housemaid\", \"technician\", \"admin.\", \"technician\", \"technician\", \"technician\", \"admin.\", \"admin.\", \"housemaid\", \"admin.\", \"admin.\", \"admin.\", \"blue-collar\", \"entrepreneur\", \"self-employed\", \"admin.\", \"admin.\", \"technician\", \"admin.\", \"admin.\", \"housemaid\", \"admin.\", \"services\", \"student\", \"technician\", \"technician\", \"self-employed\", \"admin.\", \"admin.\", \"services\", \"technician\", \"blue-collar\", \"admin.\", \"admin.\", \"technician\", \"admin.\", \"admin.\", \"admin.\", \"technician\", \"blue-collar\", \"admin.\", \"admin.\", \"entrepreneur\", \"technician\", \"admin.\", \"blue-collar\", \"self-employed\", \"technician\", \"technician\", \"blue-collar\", \"entrepreneur\", \"management\", \"technician\", \"blue-collar\", \"entrepreneur\", \"management\", \"management\", \"self-employed\", \"admin.\", \"technician\", \"blue-collar\", \"admin.\", \"retired\", \"unemployed\", \"services\", \"admin.\", \"management\", \"admin.\", \"admin.\", \"technician\", \"management\", \"blue-collar\", \"blue-collar\", \"blue-collar\", \"admin.\", \"admin.\", \"admin.\", \"entrepreneur\", \"blue-collar\", \"technician\", \"admin.\", \"blue-collar\", \"blue-collar\", \"management\", \"entrepreneur\", \"blue-collar\", \"retired\", \"entrepreneur\", \"services\", \"entrepreneur\", \"admin.\", \"technician\", \"management\", \"entrepreneur\", \"technician\", \"unemployed\", \"admin.\", \"management\", \"management\", \"entrepreneur\", \"technician\", \"self-employed\", \"housemaid\", \"blue-collar\", \"admin.\", \"entrepreneur\", \"technician\", \"technician\", \"admin.\", \"management\", \"technician\", \"admin.\", \"technician\", \"admin.\", \"admin.\", \"housemaid\", \"housemaid\", \"blue-collar\", \"management\", \"services\", \"entrepreneur\", \"services\", \"self-employed\", \"technician\", \"admin.\", \"admin.\", \"management\", \"entrepreneur\", \"entrepreneur\", \"management\", \"blue-collar\", \"services\", \"blue-collar\", \"admin.\", \"technician\", \"admin.\", \"admin.\", \"admin.\", \"admin.\", \"blue-collar\", \"services\", \"management\", \"admin.\", \"management\", \"entrepreneur\", \"technician\", \"entrepreneur\", \"technician\", \"management\", \"retired\", \"blue-collar\", \"student\", \"technician\", \"technician\", \"blue-collar\", \"management\", \"entrepreneur\", \"blue-collar\", \"technician\", \"unemployed\", \"management\", \"management\", \"admin.\", \"services\", \"blue-collar\", \"admin.\", \"technician\", \"entrepreneur\", \"blue-collar\", \"admin.\", \"admin.\", \"blue-collar\", \"retired\", \"management\", \"blue-collar\", \"self-employed\", \"unemployed\", \"admin.\", \"technician\", \"admin.\", \"admin.\", \"management\", \"management\", \"management\", \"self-employed\", \"blue-collar\", \"blue-collar\", \"housemaid\", \"services\", \"admin.\", \"management\", \"admin.\", \"management\", \"admin.\", \"admin.\", \"services\", \"blue-collar\", \"self-employed\", \"management\", \"admin.\", \"self-employed\", \"admin.\", \"technician\", \"services\", \"technician\", \"admin.\", \"admin.\", \"technician\", \"management\", \"technician\", \"technician\", \"services\", \"management\", \"blue-collar\", \"technician\", \"technician\", \"admin.\", \"technician\", \"admin.\", \"housemaid\", \"admin.\", \"admin.\", \"self-employed\", \"management\", \"retired\", \"admin.\", \"management\", \"technician\", \"admin.\", \"admin.\", \"management\", \"admin.\", \"blue-collar\", \"student\", \"admin.\", \"admin.\", \"management\", \"admin.\", \"blue-collar\", \"admin.\", \"technician\", \"student\", \"retired\", \"admin.\", \"student\", \"admin.\", \"technician\", \"management\", \"admin.\", \"student\", \"student\", \"admin.\", \"blue-collar\", \"student\", \"services\", \"services\", \"technician\", \"management\", \"technician\", \"technician\", \"technician\", \"technician\", \"technician\", \"technician\", \"technician\", \"technician\", \"technician\", \"technician\", \"technician\", \"technician\", \"technician\", \"management\", \"technician\", \"technician\", \"management\", \"blue-collar\", \"management\", \"technician\", \"admin.\", \"technician\", \"admin.\", \"management\", \"retired\", \"self-employed\", \"retired\", \"self-employed\", \"retired\", \"retired\", \"retired\", \"retired\", \"retired\", \"retired\", \"student\", \"management\", \"retired\", \"technician\", \"management\", \"student\", \"student\", \"self-employed\", \"self-employed\", \"technician\", \"admin.\", \"student\", \"unemployed\", \"admin.\", \"technician\", \"admin.\", \"blue-collar\", \"management\", \"admin.\", \"retired\", \"blue-collar\", \"management\", \"admin.\", \"admin.\", \"admin.\", \"admin.\", \"admin.\", \"student\", \"technician\", \"technician\", \"admin.\", \"admin.\", \"management\", \"admin.\", \"admin.\", \"admin.\", \"admin.\", \"admin.\", \"management\", \"student\", \"student\", \"retired\", \"admin.\", \"admin.\", \"admin.\", \"blue-collar\", \"technician\", \"admin.\", \"retired\", \"technician\", \"housemaid\", \"admin.\", \"admin.\", \"admin.\", \"admin.\", \"technician\", \"admin.\", \"admin.\", \"admin.\", \"admin.\", \"blue-collar\", \"management\", \"blue-collar\", \"blue-collar\", \"admin.\", \"management\", \"blue-collar\", \"retired\", \"admin.\", \"admin.\", \"admin.\", \"blue-collar\", \"blue-collar\", \"blue-collar\", \"blue-collar\", \"entrepreneur\", \"blue-collar\", \"admin.\", \"management\", \"blue-collar\", \"retired\", \"housemaid\", \"blue-collar\", \"technician\", \"blue-collar\", \"retired\", \"blue-collar\", \"admin.\", \"admin.\", \"technician\", \"student\", \"blue-collar\", \"services\", \"student\", \"student\", \"admin.\", \"blue-collar\", \"technician\", \"blue-collar\", \"admin.\", \"admin.\", \"services\", \"admin.\", \"admin.\", \"technician\", \"services\", \"admin.\", \"unemployed\", \"admin.\", \"admin.\", \"self-employed\", \"admin.\", \"technician\", \"technician\", \"self-employed\", \"self-employed\", \"self-employed\", \"blue-collar\", \"self-employed\", \"self-employed\", \"self-employed\", \"admin.\", \"blue-collar\", \"blue-collar\", \"technician\", \"retired\", \"admin.\", \"admin.\", \"admin.\", \"unemployed\", \"services\", \"retired\", \"services\", \"services\", \"admin.\", \"self-employed\", \"unemployed\", \"unemployed\", \"technician\", \"admin.\", \"admin.\", \"admin.\", \"blue-collar\", \"self-employed\", \"technician\", \"admin.\", \"retired\", \"retired\", \"unemployed\", \"admin.\", \"retired\", \"unemployed\", \"retired\", \"management\", \"student\", \"admin.\", \"retired\", \"management\", \"unemployed\", \"blue-collar\", \"technician\", \"admin.\", \"retired\", \"retired\", \"admin.\", \"admin.\", \"admin.\", \"admin.\", \"retired\", \"admin.\", \"student\", \"admin.\", \"retired\", \"services\", \"management\", \"entrepreneur\", \"blue-collar\", \"admin.\", \"blue-collar\", \"blue-collar\", \"technician\", \"admin.\", \"blue-collar\", \"services\", \"admin.\", \"admin.\", \"admin.\", \"self-employed\", \"technician\", \"technician\", \"admin.\", \"admin.\", \"blue-collar\", \"admin.\", \"blue-collar\", \"services\", \"student\", \"admin.\", \"management\", \"technician\", \"technician\", \"retired\", \"admin.\", \"blue-collar\", \"blue-collar\", \"admin.\", \"admin.\", \"admin.\", \"admin.\", \"technician\", \"technician\", \"blue-collar\", \"entrepreneur\", \"blue-collar\", \"unemployed\", \"admin.\", \"admin.\", \"admin.\", \"admin.\", \"technician\", \"entrepreneur\", \"technician\", \"management\", \"admin.\", \"admin.\", \"technician\", \"management\", \"admin.\", \"retired\", \"housemaid\", \"services\", \"services\", \"services\", \"self-employed\", \"self-employed\", \"blue-collar\", \"admin.\", \"admin.\", \"admin.\", \"admin.\", \"student\", \"management\", \"retired\", \"admin.\", \"entrepreneur\", \"blue-collar\", \"services\", \"blue-collar\", \"technician\", \"retired\", \"housemaid\", \"retired\", \"entrepreneur\", \"housemaid\", \"admin.\", \"technician\", \"self-employed\", \"self-employed\", \"self-employed\", \"management\", \"blue-collar\", \"admin.\", \"technician\", \"management\", \"admin.\", \"services\", \"admin.\", \"admin.\", \"retired\", \"admin.\", \"blue-collar\", \"admin.\", \"retired\", \"technician\", \"self-employed\", \"retired\", \"retired\", \"technician\", \"retired\", \"housemaid\", \"management\", \"management\", \"admin.\", \"retired\", \"admin.\", \"technician\", \"housemaid\", \"retired\", \"retired\", \"retired\", \"services\", \"admin.\", \"unemployed\", \"admin.\", \"admin.\", \"blue-collar\", \"admin.\", \"admin.\", \"retired\", \"admin.\", \"admin.\", \"services\", \"admin.\", \"admin.\", \"technician\", \"retired\", \"retired\", \"technician\", \"blue-collar\", \"retired\", \"blue-collar\", \"student\", \"admin.\", \"admin.\", \"blue-collar\", \"admin.\", \"technician\", \"admin.\", \"technician\", \"admin.\", \"student\", \"admin.\", \"management\", \"student\", \"technician\", \"unemployed\", \"admin.\", \"management\", \"admin.\", \"management\", \"admin.\", \"admin.\", \"services\", \"admin.\", \"admin.\", \"retired\", \"admin.\", \"retired\", \"retired\", \"technician\", \"technician\", \"admin.\", \"admin.\", \"admin.\", \"admin.\", \"admin.\", \"services\", \"admin.\", \"services\", \"admin.\", \"entrepreneur\", \"management\", \"technician\", \"entrepreneur\", \"management\", \"student\", \"admin.\", \"blue-collar\", \"management\", \"admin.\", \"technician\", \"admin.\", \"admin.\", \"technician\", \"admin.\", \"management\", \"entrepreneur\", \"self-employed\", \"admin.\", \"admin.\", \"admin.\", \"housemaid\", \"technician\", \"self-employed\", \"services\", \"admin.\", \"retired\", \"entrepreneur\", \"management\", \"self-employed\", \"blue-collar\", \"technician\", \"technician\", \"technician\", \"technician\", \"technician\", \"technician\", \"services\", \"technician\", \"technician\", \"technician\", \"services\", \"technician\", \"admin.\", \"admin.\", \"admin.\", \"technician\", \"blue-collar\", \"technician\", \"student\", \"entrepreneur\", \"unemployed\", \"services\", \"admin.\", \"blue-collar\", \"admin.\", \"blue-collar\", \"retired\", \"admin.\", \"technician\", \"admin.\", \"technician\", \"admin.\", \"admin.\", \"unemployed\", \"retired\", \"admin.\", \"technician\", \"blue-collar\", \"admin.\", \"blue-collar\", \"admin.\", \"student\", \"technician\", \"admin.\", \"technician\", \"management\", \"student\", \"admin.\", \"self-employed\", \"technician\", \"blue-collar\", \"technician\", \"admin.\", \"retired\", \"technician\", \"technician\", \"management\", \"technician\", \"management\", \"entrepreneur\", \"admin.\", \"unemployed\", \"blue-collar\", \"admin.\", \"admin.\", \"admin.\", \"technician\", \"admin.\", \"admin.\", \"admin.\", \"admin.\", \"retired\", \"student\", \"unemployed\", \"blue-collar\", \"services\", \"admin.\", \"entrepreneur\", \"admin.\", \"self-employed\", \"student\", \"services\", \"entrepreneur\", \"blue-collar\", \"housemaid\", \"entrepreneur\", \"admin.\", \"services\", \"blue-collar\", \"management\", \"admin.\", \"services\", \"management\", \"admin.\", \"admin.\", \"unemployed\", \"admin.\", \"management\", \"admin.\", \"unemployed\", \"blue-collar\", \"services\", \"admin.\", \"admin.\", \"technician\", \"admin.\", \"admin.\", \"unemployed\", \"retired\", \"admin.\", \"services\", \"technician\", \"technician\", \"admin.\", \"self-employed\", \"blue-collar\", \"admin.\", \"self-employed\", \"admin.\", \"student\", \"technician\", \"student\", \"admin.\", \"retired\", \"technician\", \"blue-collar\", \"blue-collar\", \"technician\", \"admin.\", \"management\", \"entrepreneur\", \"entrepreneur\", \"self-employed\", \"technician\", \"services\", \"self-employed\", \"admin.\", \"retired\", \"admin.\", \"blue-collar\", \"blue-collar\", \"blue-collar\", \"admin.\", \"blue-collar\", \"self-employed\", \"blue-collar\", \"blue-collar\", \"admin.\", \"blue-collar\", \"admin.\", \"entrepreneur\", \"technician\", \"services\", \"blue-collar\", \"blue-collar\", \"technician\", \"blue-collar\", \"admin.\", \"blue-collar\", \"blue-collar\", \"blue-collar\", \"management\", \"admin.\", \"technician\", \"blue-collar\", \"entrepreneur\", \"blue-collar\", \"blue-collar\", \"admin.\", \"technician\", \"blue-collar\", \"technician\", \"services\", \"services\", \"management\", \"blue-collar\", \"blue-collar\", \"services\", \"technician\", \"technician\", \"blue-collar\", \"technician\", \"blue-collar\", \"technician\", \"self-employed\", \"entrepreneur\", \"services\", \"technician\", \"blue-collar\", \"entrepreneur\", \"blue-collar\", \"blue-collar\", \"technician\", \"admin.\", \"blue-collar\", \"admin.\", \"admin.\", \"technician\", \"blue-collar\", \"technician\", \"management\", \"blue-collar\", \"admin.\", \"admin.\", \"services\", \"blue-collar\", \"admin.\", \"blue-collar\", \"blue-collar\", \"services\", \"technician\", \"admin.\", \"technician\", \"admin.\", \"admin.\", \"blue-collar\", \"admin.\", \"blue-collar\", \"blue-collar\", \"blue-collar\", \"technician\", \"self-employed\", \"blue-collar\", \"management\", \"management\", \"services\", \"technician\", \"technician\", \"blue-collar\", \"self-employed\", \"blue-collar\", \"services\", \"management\", \"blue-collar\", \"admin.\", \"admin.\", \"admin.\", \"blue-collar\", \"admin.\", \"blue-collar\", \"blue-collar\", \"blue-collar\", \"management\", \"admin.\", \"admin.\", \"blue-collar\", \"admin.\", \"blue-collar\", \"blue-collar\", \"admin.\", \"technician\", \"student\", \"technician\", \"technician\", \"technician\", \"blue-collar\", \"technician\", \"blue-collar\", \"blue-collar\", \"admin.\", \"blue-collar\", \"blue-collar\", \"services\", \"housemaid\", \"admin.\", \"blue-collar\", \"management\", \"blue-collar\", \"blue-collar\", \"blue-collar\", \"admin.\", \"services\", \"blue-collar\", \"management\", \"technician\", \"services\", \"technician\", \"blue-collar\", \"blue-collar\", \"services\", \"entrepreneur\", \"blue-collar\", \"blue-collar\", \"admin.\", \"admin.\", \"blue-collar\", \"admin.\", \"blue-collar\", \"blue-collar\", \"management\", \"blue-collar\", \"admin.\", \"technician\", \"management\", \"admin.\", \"technician\", \"technician\", \"blue-collar\", \"blue-collar\", \"blue-collar\", \"blue-collar\", \"management\", \"admin.\", \"blue-collar\", \"services\", \"services\", \"services\", \"student\", \"services\", \"services\", \"blue-collar\", \"blue-collar\", \"self-employed\", \"admin.\", \"technician\", \"admin.\", \"retired\", \"blue-collar\", \"unemployed\", \"blue-collar\", \"entrepreneur\", \"blue-collar\", \"blue-collar\", \"student\", \"housemaid\", \"blue-collar\", \"admin.\", \"technician\", \"services\", \"blue-collar\", \"blue-collar\", \"services\", \"services\", \"admin.\", \"blue-collar\", \"services\", \"blue-collar\", \"blue-collar\", \"technician\", \"blue-collar\", \"admin.\", \"blue-collar\", \"services\", \"blue-collar\", \"blue-collar\", \"unemployed\", \"unemployed\", \"blue-collar\", \"self-employed\", \"admin.\", \"services\", \"admin.\", \"admin.\", \"blue-collar\", \"services\", \"technician\", \"blue-collar\", \"housemaid\", \"blue-collar\", \"housemaid\", \"admin.\", \"self-employed\", \"admin.\", \"blue-collar\", \"services\", \"blue-collar\", \"services\", \"blue-collar\", \"management\", \"management\", \"self-employed\", \"technician\", \"services\", \"services\", \"blue-collar\", \"services\", \"blue-collar\", \"management\", \"services\", \"entrepreneur\", \"blue-collar\", \"blue-collar\", \"blue-collar\", \"blue-collar\", \"services\", \"admin.\", \"admin.\", \"admin.\", \"services\", \"technician\", \"technician\", \"blue-collar\", \"blue-collar\", \"blue-collar\", \"blue-collar\", \"blue-collar\", \"technician\", \"admin.\", \"blue-collar\", \"technician\", \"admin.\", \"admin.\", \"admin.\", \"student\", \"blue-collar\", \"admin.\", \"blue-collar\", \"admin.\", \"blue-collar\", \"student\", \"blue-collar\", \"technician\", \"blue-collar\", \"admin.\", \"admin.\", \"services\", \"blue-collar\", \"technician\", \"entrepreneur\", \"blue-collar\", \"technician\", \"admin.\", \"admin.\", \"admin.\", \"self-employed\", \"entrepreneur\", \"management\", \"blue-collar\", \"blue-collar\", \"blue-collar\", \"admin.\", \"services\", \"blue-collar\", \"technician\", \"technician\", \"management\", \"technician\", \"services\", \"admin.\", \"technician\", \"self-employed\", \"management\", \"blue-collar\", \"services\", \"unemployed\", \"blue-collar\", \"admin.\", \"blue-collar\", \"blue-collar\", \"services\", \"blue-collar\", \"student\", \"self-employed\", \"blue-collar\", \"blue-collar\", \"admin.\", \"admin.\", \"admin.\", \"blue-collar\", \"blue-collar\", \"blue-collar\", \"admin.\", \"blue-collar\", \"entrepreneur\", \"technician\", \"admin.\", \"admin.\", \"technician\", \"admin.\", \"blue-collar\", \"admin.\", \"services\", \"admin.\", \"services\", \"admin.\", \"technician\", \"admin.\", \"blue-collar\", \"management\", \"admin.\", \"admin.\", \"admin.\", \"technician\", \"services\", \"management\", \"services\", \"unemployed\", \"technician\", \"technician\", \"admin.\", \"technician\", \"admin.\", \"blue-collar\", \"blue-collar\", \"admin.\", \"entrepreneur\", \"services\", \"technician\", \"management\", \"admin.\", \"services\", \"services\", \"admin.\", \"technician\", \"services\", \"admin.\", \"technician\", \"technician\", \"entrepreneur\", \"student\", \"admin.\", \"student\", \"entrepreneur\", \"admin.\", \"technician\", \"student\", \"technician\", \"services\", \"technician\", \"admin.\", \"admin.\", \"housemaid\", \"services\", \"technician\", \"admin.\", \"management\", \"unemployed\", \"admin.\", \"admin.\", \"admin.\", \"admin.\", \"blue-collar\", \"technician\", \"admin.\", \"admin.\", \"admin.\", \"technician\", \"admin.\", \"services\", \"self-employed\", \"self-employed\", \"technician\", \"retired\", \"admin.\", \"management\", \"blue-collar\", \"student\", \"admin.\", \"technician\", \"admin.\", \"admin.\", \"admin.\", \"student\", \"blue-collar\", \"services\", \"technician\", \"admin.\", \"student\", \"services\", \"blue-collar\", \"blue-collar\", \"technician\", \"technician\", \"admin.\", \"unemployed\", \"admin.\", \"blue-collar\", \"admin.\", \"technician\", \"management\", \"self-employed\", \"admin.\", \"blue-collar\", \"self-employed\", \"admin.\", \"management\", \"retired\", \"student\", \"services\", \"management\", \"management\", \"technician\", \"admin.\", \"admin.\", \"blue-collar\", \"admin.\", \"admin.\", \"entrepreneur\", \"unemployed\", \"technician\", \"admin.\", \"technician\", \"retired\", \"admin.\", \"admin.\", \"services\", \"services\", \"retired\", \"technician\", \"admin.\", \"admin.\", \"blue-collar\", \"retired\", \"management\", \"student\", \"admin.\", \"admin.\", \"management\", \"unemployed\", \"self-employed\", \"admin.\", \"student\", \"technician\", \"admin.\", \"admin.\", \"admin.\", \"technician\", \"blue-collar\", \"admin.\", \"student\", \"retired\", \"admin.\", \"admin.\", \"unemployed\", \"admin.\", \"admin.\", \"admin.\", \"technician\", \"entrepreneur\", \"technician\", \"blue-collar\", \"technician\", \"admin.\", \"technician\", \"technician\", \"unemployed\", \"admin.\", \"admin.\", \"admin.\", \"admin.\", \"admin.\", \"unemployed\", \"student\", \"admin.\", \"admin.\", \"technician\", \"admin.\", \"management\", \"admin.\", \"unemployed\", \"blue-collar\", \"management\", \"technician\", \"admin.\", \"technician\", \"admin.\", \"admin.\", \"blue-collar\", \"blue-collar\", \"admin.\", \"services\", \"retired\", \"admin.\", \"technician\", \"admin.\", \"blue-collar\", \"management\", \"blue-collar\", \"self-employed\", \"student\", \"technician\", \"admin.\", \"technician\", \"technician\", \"blue-collar\", \"services\", \"services\", \"admin.\", \"admin.\", \"admin.\", \"technician\", \"admin.\", \"admin.\", \"management\", \"admin.\", \"self-employed\", \"student\", \"services\", \"entrepreneur\", \"services\", \"entrepreneur\", \"admin.\", \"entrepreneur\", \"admin.\", \"admin.\", \"management\", \"admin.\", \"blue-collar\", \"unemployed\", \"unemployed\", \"admin.\", \"admin.\", \"admin.\", \"student\", \"services\", \"admin.\", \"admin.\", \"services\", \"admin.\", \"technician\", \"services\", \"management\", \"management\", \"admin.\", \"student\", \"admin.\", \"self-employed\", \"admin.\", \"admin.\", \"housemaid\", \"admin.\", \"admin.\", \"technician\", \"management\", \"services\", \"blue-collar\", \"blue-collar\", \"student\", \"blue-collar\", \"technician\", \"housemaid\", \"admin.\", \"admin.\", \"admin.\", \"admin.\", \"admin.\", \"admin.\", \"technician\", \"technician\", \"student\", \"admin.\", \"self-employed\", \"student\", \"technician\", \"technician\", \"technician\", \"admin.\", \"technician\", \"admin.\", \"student\", \"technician\", \"technician\", \"student\", \"technician\", \"admin.\", \"admin.\", \"technician\", \"technician\", \"management\", \"technician\", \"management\", \"blue-collar\", \"retired\", \"admin.\", \"blue-collar\", \"admin.\", \"management\", \"blue-collar\", \"self-employed\", \"services\", \"admin.\", \"technician\", \"unemployed\", \"entrepreneur\", \"blue-collar\", \"blue-collar\", \"retired\", \"self-employed\", \"technician\", \"admin.\", \"unemployed\", \"admin.\", \"technician\", \"admin.\", \"entrepreneur\", \"admin.\", \"admin.\", \"self-employed\", \"admin.\", \"blue-collar\", \"retired\", \"services\", \"unemployed\", \"unemployed\", \"admin.\", \"self-employed\", \"admin.\", \"admin.\", \"technician\", \"management\", \"housemaid\", \"housemaid\", \"unemployed\", \"management\", \"retired\", \"technician\", \"unemployed\", \"student\", \"admin.\", \"admin.\", \"admin.\", \"student\", \"technician\", \"management\", \"blue-collar\", \"admin.\", \"admin.\", \"services\", \"technician\", \"entrepreneur\", \"management\", \"housemaid\", \"admin.\", \"management\", \"admin.\", \"admin.\", \"admin.\", \"admin.\", \"admin.\", \"blue-collar\", \"blue-collar\", \"technician\", \"admin.\", \"entrepreneur\", \"self-employed\", \"self-employed\", \"admin.\", \"housemaid\", \"technician\", \"admin.\", \"retired\", \"unemployed\", \"admin.\", \"blue-collar\", \"technician\", \"admin.\", \"admin.\", \"admin.\", \"retired\", \"admin.\", \"student\", \"admin.\", \"services\", \"admin.\", \"management\", \"services\", \"student\", \"services\", \"student\", \"admin.\", \"admin.\", \"admin.\", \"technician\", \"admin.\", \"technician\", \"student\", \"admin.\", \"admin.\", \"admin.\", \"student\", \"blue-collar\", \"technician\", \"management\", \"entrepreneur\", \"admin.\", \"student\", \"admin.\", \"admin.\", \"management\", \"admin.\", \"admin.\", \"retired\", \"student\", \"admin.\", \"management\", \"management\", \"technician\", \"admin.\", \"technician\", \"technician\", \"technician\", \"admin.\", \"student\", \"services\", \"admin.\", \"blue-collar\", \"admin.\", \"technician\", \"retired\", \"technician\", \"retired\", \"student\", \"admin.\", \"retired\", \"technician\", \"admin.\", \"technician\", \"admin.\", \"retired\", \"retired\", \"housemaid\", \"blue-collar\", \"admin.\", \"retired\", \"admin.\", \"technician\", \"retired\", \"student\", \"services\", \"services\", \"admin.\", \"retired\", \"entrepreneur\", \"admin.\", \"services\", \"services\", \"admin.\", \"retired\", \"admin.\", \"admin.\", \"admin.\", \"management\", \"technician\", \"admin.\", \"admin.\", \"admin.\", \"technician\", \"retired\", \"admin.\", \"housemaid\", \"admin.\", \"technician\", \"admin.\", \"blue-collar\", \"technician\", \"admin.\", \"technician\", \"admin.\", \"student\", \"entrepreneur\", \"management\", \"management\", \"retired\", \"admin.\", \"admin.\", \"admin.\", \"retired\", \"admin.\", \"management\", \"technician\", \"admin.\", \"admin.\", \"admin.\", \"admin.\", \"admin.\", \"student\", \"admin.\", \"student\", \"student\", \"admin.\", \"retired\", \"technician\", \"retired\", \"admin.\", \"admin.\", \"technician\", \"entrepreneur\", \"student\", \"student\", \"services\", \"admin.\", \"admin.\", \"admin.\", \"admin.\", \"student\", \"unemployed\", \"student\", \"admin.\", \"blue-collar\", \"services\", \"admin.\", \"blue-collar\", \"admin.\", \"unemployed\", \"technician\", \"student\", \"services\", \"admin.\", \"retired\", \"services\", \"blue-collar\", \"admin.\", \"management\", \"unemployed\", \"student\", \"technician\", \"technician\", \"management\", \"management\", \"admin.\", \"blue-collar\", \"retired\", \"retired\", \"retired\", \"unemployed\", \"technician\", \"technician\", \"admin.\", \"self-employed\", \"unemployed\", \"admin.\", \"blue-collar\", \"entrepreneur\", \"management\", \"retired\", \"retired\", \"retired\", \"retired\", \"admin.\", \"admin.\", \"technician\", \"admin.\", \"technician\", \"admin.\", \"technician\", \"admin.\", \"admin.\", \"retired\", \"student\", \"retired\", \"admin.\", \"retired\", \"admin.\", \"admin.\", \"admin.\", \"admin.\", \"admin.\", \"technician\", \"management\", \"blue-collar\", \"student\", \"retired\", \"technician\", \"retired\", \"technician\", \"admin.\", \"admin.\", \"technician\", \"admin.\", \"retired\", \"retired\", \"admin.\", \"admin.\", \"admin.\", \"retired\", \"technician\", \"admin.\", \"blue-collar\", \"management\", \"retired\", \"admin.\", \"student\", \"technician\", \"technician\", \"management\", \"retired\", \"retired\", \"retired\", \"admin.\", \"student\", \"unemployed\", \"admin.\", \"admin.\", \"housemaid\", \"blue-collar\", \"admin.\", \"admin.\", \"retired\", \"housemaid\", \"unemployed\", \"retired\", \"housemaid\", \"admin.\", \"retired\", \"housemaid\", \"retired\", \"retired\", \"retired\", \"services\", \"admin.\", \"admin.\", \"retired\", \"technician\", \"retired\", \"admin.\", \"admin.\", \"admin.\", \"admin.\", \"retired\", \"admin.\", \"admin.\", \"entrepreneur\", \"student\", \"retired\", \"student\", \"student\", \"student\", \"admin.\", \"admin.\", \"management\", \"entrepreneur\", \"admin.\", \"retired\", \"entrepreneur\", \"admin.\", \"technician\", \"technician\", \"admin.\", \"admin.\", \"retired\", \"admin.\", \"management\", \"technician\", \"technician\", \"blue-collar\", \"retired\", \"student\", \"admin.\", \"housemaid\", \"retired\", \"housemaid\", \"technician\", \"admin.\", \"admin.\", \"admin.\", \"admin.\", \"self-employed\", \"technician\", \"admin.\", \"retired\", \"management\", \"self-employed\", \"self-employed\", \"self-employed\", \"technician\", \"self-employed\", \"technician\", \"admin.\", \"retired\", \"services\", \"admin.\", \"admin.\", \"admin.\", \"retired\", \"admin.\", \"management\", \"admin.\", \"management\", \"retired\", \"admin.\", \"admin.\", \"admin.\", \"admin.\", \"unemployed\", \"admin.\", \"admin.\", \"admin.\", \"management\", \"entrepreneur\", \"entrepreneur\", \"retired\", \"retired\", \"admin.\", \"admin.\", \"admin.\", \"technician\", \"admin.\", \"admin.\", \"admin.\", \"technician\", \"admin.\", \"self-employed\", \"unemployed\", \"unemployed\", \"admin.\", \"self-employed\", \"unemployed\", \"admin.\", \"technician\", \"services\", \"self-employed\", \"technician\", \"services\", \"services\", \"housemaid\", \"retired\", \"retired\", \"admin.\", \"services\", \"management\", \"retired\", \"admin.\", \"management\", \"admin.\", \"admin.\", \"unemployed\", \"retired\", \"retired\", \"retired\", \"retired\", \"retired\", \"retired\", \"housemaid\", \"admin.\", \"self-employed\", \"management\", \"management\", \"retired\", \"management\", \"technician\", \"management\", \"management\", \"management\", \"technician\", \"management\", \"admin.\", \"management\", \"retired\", \"admin.\", \"management\", \"student\", \"management\", \"retired\", \"admin.\", \"student\", \"unemployed\", \"blue-collar\", \"student\", \"technician\", \"admin.\", \"technician\", \"management\", \"admin.\", \"services\", \"retired\", \"blue-collar\", \"admin.\", \"management\", \"admin.\", \"services\", \"services\", \"student\", \"technician\", \"technician\", \"admin.\", \"admin.\", \"admin.\", \"admin.\", \"technician\", \"management\", \"retired\", \"admin.\", \"admin.\", \"retired\", \"retired\", \"services\", \"student\", \"management\", \"admin.\", \"services\", \"admin.\", \"technician\", \"housemaid\", \"technician\", \"management\", \"admin.\", \"admin.\", \"admin.\", \"admin.\", \"admin.\", \"admin.\", \"retired\", \"admin.\", \"admin.\", \"blue-collar\", \"blue-collar\", \"blue-collar\", \"unemployed\", \"technician\", \"unemployed\", \"unemployed\", \"technician\", \"services\", \"management\", \"retired\", \"technician\", \"admin.\", \"technician\", \"services\", \"admin.\", \"unemployed\", \"management\", \"student\", \"admin.\", \"technician\", \"student\", \"retired\", \"admin.\", \"retired\", \"student\", \"student\", \"admin.\", \"admin.\", \"admin.\", \"admin.\", \"admin.\", \"management\", \"unemployed\", \"admin.\", \"retired\", \"technician\", \"housemaid\", \"retired\", \"services\", \"services\", \"management\", \"technician\", \"management\", \"retired\", \"retired\", \"student\", \"technician\", \"retired\", \"unemployed\", \"admin.\", \"admin.\", \"retired\", \"retired\", \"student\", \"retired\", \"admin.\", \"retired\", \"admin.\", \"admin.\", \"technician\", \"retired\", \"retired\", \"admin.\", \"admin.\", \"technician\", \"technician\", \"technician\", \"technician\", \"retired\", \"technician\", \"admin.\", \"blue-collar\", \"retired\", \"retired\", \"retired\", \"student\", \"technician\", \"technician\", \"technician\", \"self-employed\", \"technician\", \"student\", \"retired\", \"student\", \"admin.\", \"admin.\", \"admin.\", \"self-employed\", \"technician\", \"blue-collar\", \"management\", \"retired\", \"admin.\", \"admin.\", \"retired\", \"housemaid\", \"unemployed\", \"blue-collar\", \"admin.\", \"admin.\", \"technician\", \"self-employed\", \"admin.\", \"technician\", \"retired\", \"technician\", \"retired\", \"retired\", \"unemployed\", \"admin.\", \"admin.\", \"management\", \"technician\", \"retired\", \"admin.\", \"student\", \"admin.\", \"admin.\", \"unemployed\", \"housemaid\", \"student\", \"management\", \"retired\", \"admin.\", \"blue-collar\", \"housemaid\", \"admin.\", \"technician\", \"management\", \"management\", \"admin.\", \"admin.\", \"admin.\", \"admin.\", \"admin.\", \"admin.\", \"admin.\", \"retired\", \"admin.\", \"technician\", \"retired\", \"admin.\", \"management\", \"services\", \"retired\", \"student\", \"management\", \"retired\", \"student\", \"student\", \"management\", \"retired\", \"admin.\", \"student\", \"admin.\", \"housemaid\", \"admin.\", \"services\", \"student\", \"student\", \"retired\", \"management\", \"retired\", \"admin.\", \"admin.\", \"retired\", \"self-employed\", \"unemployed\", \"admin.\", \"admin.\", \"admin.\", \"blue-collar\", \"self-employed\", \"retired\", \"technician\", \"self-employed\", \"unemployed\", \"admin.\", \"admin.\", \"admin.\", \"student\", \"blue-collar\", \"admin.\", \"admin.\", \"admin.\", \"admin.\", \"retired\", \"technician\", \"technician\", \"technician\", \"management\", \"services\", \"blue-collar\", \"retired\", \"student\", \"technician\", \"admin.\", \"retired\", \"retired\", \"retired\", \"admin.\", \"admin.\", \"blue-collar\", \"retired\", \"retired\", \"retired\", \"technician\", \"technician\", \"retired\", \"self-employed\", \"management\", \"management\", \"retired\", \"management\", \"admin.\", \"admin.\", \"housemaid\", \"admin.\", \"admin.\", \"retired\", \"retired\", \"management\", \"retired\", \"technician\", \"admin.\", \"retired\", \"retired\", \"retired\", \"management\", \"housemaid\", \"technician\", \"technician\", \"technician\", \"technician\", \"retired\", \"retired\", \"admin.\", \"technician\", \"unemployed\", \"technician\", \"technician\", \"technician\", \"retired\", \"retired\", \"admin.\", \"admin.\", \"retired\", \"technician\", \"blue-collar\", \"admin.\", \"housemaid\", \"technician\", \"technician\", \"admin.\", \"services\", \"self-employed\", \"admin.\", \"retired\", \"admin.\", \"housemaid\", \"retired\", \"admin.\", \"unemployed\", \"housemaid\", \"housemaid\", \"retired\", \"housemaid\", \"retired\", \"retired\", \"retired\", \"retired\", \"admin.\", \"blue-collar\", \"services\", \"retired\", \"retired\", \"student\", \"retired\", \"student\", \"retired\", \"unemployed\", \"student\", \"technician\", \"entrepreneur\", \"technician\", \"admin.\", \"technician\", \"student\", \"student\", \"admin.\", \"technician\", \"retired\", \"admin.\", \"admin.\", \"admin.\", \"admin.\", \"technician\", \"technician\", \"admin.\", \"unemployed\", \"unemployed\", \"admin.\", \"self-employed\", \"management\", \"self-employed\", \"retired\", \"blue-collar\", \"technician\", \"technician\", \"admin.\", \"admin.\", \"retired\", \"blue-collar\", \"admin.\", \"blue-collar\", \"retired\", \"retired\", \"retired\", \"blue-collar\", \"technician\", \"retired\", \"technician\", \"student\", \"admin.\", \"blue-collar\", \"services\", \"technician\", \"admin.\", \"student\", \"blue-collar\", \"blue-collar\", \"admin.\", \"blue-collar\", \"admin.\", \"student\", \"management\", \"technician\", \"technician\", \"services\", \"technician\", \"management\", \"admin.\", \"blue-collar\", \"admin.\", \"blue-collar\", \"admin.\", \"unemployed\", \"retired\", \"entrepreneur\", \"technician\", \"student\", \"technician\", \"admin.\", \"technician\", \"admin.\", \"admin.\", \"self-employed\", \"blue-collar\", \"services\", \"blue-collar\", \"blue-collar\", \"self-employed\", \"admin.\", \"blue-collar\", \"retired\", \"admin.\", \"blue-collar\", \"admin.\", \"blue-collar\", \"admin.\", \"admin.\", \"admin.\", \"admin.\", \"unemployed\", \"admin.\", \"admin.\", \"retired\", \"admin.\", \"admin.\", \"blue-collar\", \"blue-collar\", \"unemployed\", \"self-employed\", \"admin.\", \"admin.\", \"admin.\", \"services\", \"self-employed\", \"student\", \"housemaid\", \"student\", \"services\", \"services\", \"retired\", \"admin.\", \"admin.\", \"retired\", \"admin.\", \"self-employed\", \"technician\", \"admin.\", \"unemployed\", \"self-employed\", \"unemployed\", \"technician\", \"unemployed\", \"admin.\", \"admin.\", \"student\", \"technician\", \"admin.\", \"admin.\", \"admin.\", \"admin.\", \"technician\", \"admin.\", \"retired\", \"unemployed\", \"admin.\", \"technician\", \"technician\", \"admin.\", \"admin.\", \"retired\", \"technician\", \"housemaid\", \"housemaid\", \"self-employed\", \"services\", \"management\", \"blue-collar\", \"retired\", \"admin.\", \"admin.\", \"self-employed\", \"admin.\", \"technician\", \"retired\", \"unemployed\", \"unemployed\", \"admin.\", \"admin.\", \"admin.\", \"housemaid\", \"admin.\", \"admin.\", \"admin.\", \"admin.\", \"admin.\", \"admin.\", \"technician\", \"admin.\", \"admin.\", \"retired\", \"management\", \"housemaid\", \"unemployed\", \"retired\", \"technician\", \"admin.\", \"admin.\", \"blue-collar\", \"admin.\", \"technician\", \"admin.\", \"housemaid\", \"admin.\", \"student\", \"student\", \"entrepreneur\", \"admin.\", \"admin.\", \"retired\", \"admin.\", \"admin.\", \"admin.\", \"admin.\", \"services\", \"admin.\", \"retired\", \"technician\", \"retired\", \"retired\", \"retired\", \"retired\", \"housemaid\", \"housemaid\", \"retired\", \"housemaid\", \"retired\", \"housemaid\", \"retired\", \"retired\", \"retired\", \"housemaid\", \"unemployed\", \"housemaid\", \"retired\", \"retired\", \"retired\", \"admin.\", \"admin.\", \"admin.\", \"retired\", \"student\", \"admin.\", \"management\", \"technician\", \"technician\", \"student\", \"retired\", \"management\", \"admin.\", \"admin.\", \"services\", \"technician\", \"admin.\", \"admin.\", \"admin.\", \"self-employed\", \"technician\", \"admin.\", \"admin.\", \"admin.\", \"admin.\", \"admin.\", \"student\", \"student\", \"admin.\", \"blue-collar\", \"technician\", \"admin.\", \"student\", \"technician\", \"services\", \"student\", \"student\", \"admin.\", \"admin.\", \"retired\", \"technician\", \"services\", \"admin.\", \"admin.\", \"admin.\", \"technician\", \"management\", \"technician\", \"student\", \"student\", \"admin.\", \"entrepreneur\", \"technician\", \"admin.\", \"admin.\", \"admin.\", \"retired\", \"management\", \"unemployed\", \"unemployed\", \"technician\", \"unemployed\", \"retired\", \"blue-collar\", \"management\", \"admin.\", \"unemployed\", \"admin.\", \"admin.\", \"services\", \"retired\", \"admin.\", \"admin.\", \"admin.\", \"management\", \"admin.\", \"retired\", \"technician\", \"retired\", \"admin.\", \"management\", \"admin.\", \"admin.\", \"student\", \"admin.\", \"blue-collar\", \"retired\", \"technician\", \"retired\", \"services\", \"unemployed\", \"self-employed\", \"student\", \"retired\", \"admin.\", \"admin.\", \"management\", \"admin.\", \"services\", \"blue-collar\", \"admin.\", \"self-employed\", \"unemployed\", \"retired\", \"unemployed\", \"retired\", \"technician\", \"admin.\", \"admin.\", \"retired\", \"student\", \"blue-collar\", \"retired\", \"technician\", \"admin.\", \"admin.\", \"retired\", \"services\", \"retired\", \"technician\", \"admin.\", \"student\", \"technician\", \"admin.\", \"student\", \"student\", \"services\", \"technician\", \"admin.\", \"unemployed\", \"student\", \"admin.\", \"housemaid\", \"admin.\", \"housemaid\", \"technician\", \"technician\", \"admin.\", \"admin.\", \"technician\", \"admin.\", \"unemployed\", \"admin.\", \"technician\", \"technician\", \"admin.\", \"admin.\", \"admin.\", \"technician\", \"technician\", \"services\", \"admin.\", \"management\", \"management\", \"student\", \"technician\", \"retired\", \"self-employed\", \"student\", \"self-employed\", \"self-employed\", \"technician\", \"unemployed\", \"admin.\", \"student\", \"self-employed\", \"student\", \"technician\", \"admin.\", \"management\", \"housemaid\", \"technician\", \"technician\", \"admin.\", \"admin.\", \"student\", \"management\", \"management\", \"blue-collar\", \"management\", \"student\", \"blue-collar\", \"admin.\", \"management\", \"management\", \"admin.\", \"admin.\", \"blue-collar\", \"admin.\", \"blue-collar\", \"admin.\", \"technician\", \"self-employed\", \"retired\", \"technician\", \"student\", \"retired\", \"admin.\", \"unemployed\", \"admin.\", \"admin.\", \"management\", \"blue-collar\", \"admin.\", \"blue-collar\", \"self-employed\", \"unemployed\", \"blue-collar\", \"technician\", \"management\", \"unemployed\", \"retired\", \"retired\", \"retired\", \"retired\", \"admin.\", \"student\", \"entrepreneur\", \"admin.\", \"unemployed\", \"admin.\", \"technician\", \"services\", \"retired\", \"retired\", \"student\", \"admin.\", \"retired\", \"admin.\", \"management\", \"admin.\", \"admin.\", \"services\", \"admin.\", \"admin.\", \"admin.\", \"blue-collar\", \"admin.\", \"technician\", \"admin.\", \"admin.\", \"student\", \"admin.\", \"admin.\", \"admin.\", \"admin.\", \"self-employed\", \"housemaid\", \"admin.\", \"admin.\", \"admin.\", \"services\", \"admin.\", \"retired\", \"admin.\", \"services\", \"admin.\", \"admin.\", \"self-employed\", \"admin.\", \"retired\", \"unemployed\", \"admin.\", \"retired\", \"admin.\", \"retired\", \"admin.\", \"technician\", \"admin.\", \"admin.\", \"student\", \"retired\", \"student\", \"retired\", \"admin.\", \"services\", \"retired\", \"retired\", \"retired\", \"retired\", \"unemployed\", \"technician\", \"technician\", \"services\", \"technician\", \"admin.\", \"blue-collar\", \"student\", \"technician\", \"blue-collar\", \"management\", \"technician\", \"admin.\", \"services\", \"blue-collar\", \"admin.\", \"blue-collar\", \"technician\", \"management\", \"services\", \"services\", \"admin.\", \"student\", \"retired\", \"retired\", \"admin.\", \"blue-collar\", \"self-employed\", \"admin.\", \"admin.\", \"admin.\", \"admin.\", \"admin.\", \"technician\", \"technician\", \"admin.\", \"technician\", \"technician\", \"retired\", \"retired\", \"retired\", \"technician\", \"unemployed\", \"retired\", \"retired\", \"admin.\", \"technician\", \"technician\", \"retired\", \"housemaid\", \"housemaid\", \"retired\", \"unemployed\", \"technician\", \"admin.\", \"services\", \"technician\", \"admin.\", \"management\", \"management\", \"admin.\", \"admin.\", \"services\", \"student\", \"management\", \"student\", \"technician\", \"admin.\", \"admin.\", \"admin.\", \"blue-collar\", \"technician\", \"management\", \"retired\", \"retired\", \"technician\", \"retired\", \"admin.\", \"admin.\", \"admin.\", \"housemaid\", \"retired\", \"student\", \"blue-collar\", \"student\", \"retired\", \"housemaid\", \"housemaid\", \"technician\", \"retired\", \"admin.\", \"housemaid\", \"entrepreneur\", \"technician\", \"admin.\", \"technician\", \"blue-collar\", \"retired\", \"technician\", \"admin.\", \"services\", \"management\", \"admin.\", \"retired\", \"management\", \"admin.\", \"management\", \"services\", \"retired\", \"retired\", \"admin.\", \"retired\", \"technician\", \"admin.\", \"unemployed\", \"student\", \"admin.\", \"student\", \"student\", \"blue-collar\", \"admin.\", \"technician\", \"technician\", \"student\", \"student\", \"retired\", \"student\", \"student\", \"blue-collar\", \"admin.\", \"admin.\", \"admin.\", \"admin.\", \"services\", \"blue-collar\", \"admin.\", \"unemployed\", \"unemployed\", \"admin.\", \"admin.\", \"admin.\", \"retired\", \"entrepreneur\", \"entrepreneur\", \"management\", \"technician\", \"admin.\", \"admin.\", \"retired\", \"admin.\", \"admin.\", \"retired\", \"admin.\", \"admin.\", \"technician\", \"admin.\", \"admin.\", \"unemployed\", \"services\", \"technician\", \"admin.\", \"admin.\", \"management\", \"admin.\", \"management\", \"blue-collar\", \"admin.\", \"retired\", \"admin.\", \"retired\", \"admin.\", \"admin.\", \"technician\", \"admin.\", \"student\", \"blue-collar\", \"retired\", \"admin.\", \"admin.\", \"admin.\", \"technician\", \"housemaid\", \"management\", \"admin.\", \"technician\", \"retired\", \"admin.\", \"admin.\", \"management\", \"blue-collar\", \"student\", \"self-employed\", \"entrepreneur\", \"services\", \"services\", \"admin.\", \"technician\", \"admin.\", \"admin.\", \"technician\", \"retired\", \"student\", \"self-employed\", \"admin.\", \"blue-collar\", \"retired\", \"retired\", \"retired\", \"admin.\", \"retired\", \"retired\", \"technician\", \"admin.\", \"admin.\", \"admin.\", \"blue-collar\", \"admin.\", \"student\", \"management\", \"retired\", \"management\", \"management\", \"retired\", \"management\", \"retired\", \"services\", \"admin.\", \"unemployed\", \"management\", \"admin.\", \"admin.\", \"technician\", \"admin.\", \"admin.\", \"entrepreneur\", \"admin.\", \"admin.\", \"retired\", \"retired\", \"admin.\", \"management\", \"management\", \"admin.\", \"retired\", \"admin.\", \"management\", \"services\", \"blue-collar\", \"management\", \"blue-collar\", \"unemployed\", \"technician\", \"admin.\", \"admin.\", \"unemployed\", \"unemployed\", \"technician\", \"technician\", \"technician\", \"admin.\", \"admin.\", \"technician\", \"admin.\", \"admin.\", \"technician\", \"retired\", \"technician\", \"retired\", \"services\", \"student\", \"technician\", \"retired\", \"admin.\", \"management\", \"housemaid\", \"technician\", \"admin.\", \"admin.\", \"admin.\", \"management\", \"student\", \"admin.\", \"retired\", \"student\", \"student\", \"retired\", \"admin.\", \"entrepreneur\", \"technician\", \"student\", \"student\", \"admin.\", \"unemployed\", \"retired\", \"student\", \"admin.\", \"technician\", \"admin.\", \"admin.\", \"admin.\", \"retired\", \"student\", \"student\", \"technician\", \"technician\", \"technician\", \"technician\", \"management\", \"technician\", \"technician\", \"technician\", \"services\", \"student\", \"blue-collar\", \"unemployed\", \"admin.\", \"admin.\", \"technician\", \"technician\", \"technician\", \"unemployed\", \"admin.\", \"admin.\", \"admin.\", \"student\", \"technician\", \"technician\", \"admin.\", \"admin.\", \"technician\", \"admin.\", \"technician\", \"technician\", \"admin.\", \"services\", \"admin.\", \"unemployed\", \"student\", \"admin.\", \"management\", \"admin.\", \"admin.\", \"technician\", \"technician\", \"technician\", \"blue-collar\", \"technician\", \"technician\", \"technician\", \"self-employed\", \"admin.\", \"admin.\", \"retired\", \"technician\", \"admin.\", \"technician\", \"retired\", \"unemployed\", \"technician\", \"technician\", \"admin.\", \"services\", \"retired\", \"services\", \"technician\", \"student\", \"blue-collar\", \"retired\", \"blue-collar\", \"admin.\", \"retired\", \"admin.\", \"admin.\", \"retired\", \"admin.\", \"technician\", \"blue-collar\", \"admin.\", \"admin.\", \"retired\", \"admin.\", \"retired\", \"technician\", \"technician\", \"technician\", \"admin.\", \"admin.\", \"retired\", \"admin.\", \"technician\", \"entrepreneur\", \"services\", \"retired\", \"services\", \"management\", \"retired\", \"housemaid\", \"housemaid\", \"blue-collar\", \"admin.\", \"housemaid\", \"admin.\", \"management\", \"admin.\", \"unemployed\", \"student\", \"student\", \"student\", \"student\", \"retired\", \"services\", \"admin.\", \"unemployed\", \"admin.\", \"services\", \"technician\", \"student\", \"admin.\", \"technician\", \"student\", \"admin.\", \"admin.\", \"admin.\", \"student\", \"management\", \"retired\", \"student\", \"technician\", \"management\", \"retired\", \"management\", \"admin.\", \"technician\", \"blue-collar\", \"blue-collar\", \"admin.\", \"technician\", \"admin.\", \"student\", \"blue-collar\", \"admin.\", \"student\", \"admin.\", \"admin.\", \"retired\", \"blue-collar\", \"technician\", \"blue-collar\", \"blue-collar\", \"technician\", \"technician\", \"admin.\", \"admin.\", \"admin.\", \"admin.\", \"unemployed\", \"student\", \"unemployed\", \"management\", \"admin.\", \"admin.\", \"admin.\", \"admin.\", \"technician\", \"admin.\", \"technician\", \"housemaid\", \"technician\", \"technician\", \"technician\", \"admin.\", \"technician\", \"admin.\", \"housemaid\", \"admin.\", \"student\", \"admin.\", \"retired\", \"retired\", \"retired\", \"admin.\", \"retired\", \"technician\"], \"xaxis\": \"x\", \"yaxis\": \"y\"}],\n",
       "                        {\"barmode\": \"relative\", \"legend\": {\"tracegroupgap\": 0}, \"margin\": {\"t\": 60}, \"template\": {\"data\": {\"bar\": [{\"error_x\": {\"color\": \"#2a3f5f\"}, \"error_y\": {\"color\": \"#2a3f5f\"}, \"marker\": {\"line\": {\"color\": \"#E5ECF6\", \"width\": 0.5}}, \"type\": \"bar\"}], \"barpolar\": [{\"marker\": {\"line\": {\"color\": \"#E5ECF6\", \"width\": 0.5}}, \"type\": \"barpolar\"}], \"carpet\": [{\"aaxis\": {\"endlinecolor\": \"#2a3f5f\", \"gridcolor\": \"white\", \"linecolor\": \"white\", \"minorgridcolor\": \"white\", \"startlinecolor\": \"#2a3f5f\"}, \"baxis\": {\"endlinecolor\": \"#2a3f5f\", \"gridcolor\": \"white\", \"linecolor\": \"white\", \"minorgridcolor\": \"white\", \"startlinecolor\": \"#2a3f5f\"}, \"type\": \"carpet\"}], \"choropleth\": [{\"colorbar\": {\"outlinewidth\": 0, \"ticks\": \"\"}, \"type\": \"choropleth\"}], \"contour\": [{\"colorbar\": {\"outlinewidth\": 0, \"ticks\": \"\"}, \"colorscale\": [[0.0, \"#0d0887\"], [0.1111111111111111, \"#46039f\"], [0.2222222222222222, \"#7201a8\"], [0.3333333333333333, \"#9c179e\"], [0.4444444444444444, \"#bd3786\"], [0.5555555555555556, \"#d8576b\"], [0.6666666666666666, \"#ed7953\"], [0.7777777777777778, \"#fb9f3a\"], [0.8888888888888888, \"#fdca26\"], [1.0, \"#f0f921\"]], \"type\": \"contour\"}], \"contourcarpet\": [{\"colorbar\": {\"outlinewidth\": 0, \"ticks\": \"\"}, \"type\": \"contourcarpet\"}], \"heatmap\": [{\"colorbar\": {\"outlinewidth\": 0, \"ticks\": \"\"}, \"colorscale\": [[0.0, \"#0d0887\"], [0.1111111111111111, \"#46039f\"], [0.2222222222222222, \"#7201a8\"], [0.3333333333333333, \"#9c179e\"], [0.4444444444444444, \"#bd3786\"], [0.5555555555555556, \"#d8576b\"], [0.6666666666666666, \"#ed7953\"], [0.7777777777777778, \"#fb9f3a\"], [0.8888888888888888, \"#fdca26\"], [1.0, \"#f0f921\"]], \"type\": \"heatmap\"}], \"heatmapgl\": [{\"colorbar\": {\"outlinewidth\": 0, \"ticks\": \"\"}, \"colorscale\": [[0.0, \"#0d0887\"], [0.1111111111111111, \"#46039f\"], [0.2222222222222222, \"#7201a8\"], [0.3333333333333333, \"#9c179e\"], [0.4444444444444444, \"#bd3786\"], [0.5555555555555556, \"#d8576b\"], [0.6666666666666666, \"#ed7953\"], [0.7777777777777778, \"#fb9f3a\"], [0.8888888888888888, \"#fdca26\"], [1.0, \"#f0f921\"]], \"type\": \"heatmapgl\"}], \"histogram\": [{\"marker\": {\"colorbar\": {\"outlinewidth\": 0, \"ticks\": \"\"}}, \"type\": \"histogram\"}], \"histogram2d\": [{\"colorbar\": {\"outlinewidth\": 0, \"ticks\": \"\"}, \"colorscale\": [[0.0, \"#0d0887\"], [0.1111111111111111, \"#46039f\"], [0.2222222222222222, \"#7201a8\"], [0.3333333333333333, \"#9c179e\"], [0.4444444444444444, \"#bd3786\"], [0.5555555555555556, \"#d8576b\"], [0.6666666666666666, \"#ed7953\"], [0.7777777777777778, \"#fb9f3a\"], [0.8888888888888888, \"#fdca26\"], [1.0, \"#f0f921\"]], \"type\": \"histogram2d\"}], \"histogram2dcontour\": [{\"colorbar\": {\"outlinewidth\": 0, \"ticks\": \"\"}, \"colorscale\": [[0.0, \"#0d0887\"], [0.1111111111111111, \"#46039f\"], [0.2222222222222222, \"#7201a8\"], [0.3333333333333333, \"#9c179e\"], [0.4444444444444444, \"#bd3786\"], [0.5555555555555556, \"#d8576b\"], [0.6666666666666666, \"#ed7953\"], [0.7777777777777778, \"#fb9f3a\"], [0.8888888888888888, \"#fdca26\"], [1.0, \"#f0f921\"]], \"type\": \"histogram2dcontour\"}], \"mesh3d\": [{\"colorbar\": {\"outlinewidth\": 0, \"ticks\": \"\"}, \"type\": \"mesh3d\"}], \"parcoords\": [{\"line\": {\"colorbar\": {\"outlinewidth\": 0, \"ticks\": \"\"}}, \"type\": \"parcoords\"}], \"pie\": [{\"automargin\": true, \"type\": \"pie\"}], \"scatter\": [{\"marker\": {\"colorbar\": {\"outlinewidth\": 0, \"ticks\": \"\"}}, \"type\": \"scatter\"}], \"scatter3d\": [{\"line\": {\"colorbar\": {\"outlinewidth\": 0, \"ticks\": \"\"}}, \"marker\": {\"colorbar\": {\"outlinewidth\": 0, \"ticks\": \"\"}}, \"type\": \"scatter3d\"}], \"scattercarpet\": [{\"marker\": {\"colorbar\": {\"outlinewidth\": 0, \"ticks\": \"\"}}, \"type\": \"scattercarpet\"}], \"scattergeo\": [{\"marker\": {\"colorbar\": {\"outlinewidth\": 0, \"ticks\": \"\"}}, \"type\": \"scattergeo\"}], \"scattergl\": [{\"marker\": {\"colorbar\": {\"outlinewidth\": 0, \"ticks\": \"\"}}, \"type\": \"scattergl\"}], \"scattermapbox\": [{\"marker\": {\"colorbar\": {\"outlinewidth\": 0, \"ticks\": \"\"}}, \"type\": \"scattermapbox\"}], \"scatterpolar\": [{\"marker\": {\"colorbar\": {\"outlinewidth\": 0, \"ticks\": \"\"}}, \"type\": \"scatterpolar\"}], \"scatterpolargl\": [{\"marker\": {\"colorbar\": {\"outlinewidth\": 0, \"ticks\": \"\"}}, \"type\": \"scatterpolargl\"}], \"scatterternary\": [{\"marker\": {\"colorbar\": {\"outlinewidth\": 0, \"ticks\": \"\"}}, \"type\": \"scatterternary\"}], \"surface\": [{\"colorbar\": {\"outlinewidth\": 0, \"ticks\": \"\"}, \"colorscale\": [[0.0, \"#0d0887\"], [0.1111111111111111, \"#46039f\"], [0.2222222222222222, \"#7201a8\"], [0.3333333333333333, \"#9c179e\"], [0.4444444444444444, \"#bd3786\"], [0.5555555555555556, \"#d8576b\"], [0.6666666666666666, \"#ed7953\"], [0.7777777777777778, \"#fb9f3a\"], [0.8888888888888888, \"#fdca26\"], [1.0, \"#f0f921\"]], \"type\": \"surface\"}], \"table\": [{\"cells\": {\"fill\": {\"color\": \"#EBF0F8\"}, \"line\": {\"color\": \"white\"}}, \"header\": {\"fill\": {\"color\": \"#C8D4E3\"}, \"line\": {\"color\": \"white\"}}, \"type\": \"table\"}]}, \"layout\": {\"annotationdefaults\": {\"arrowcolor\": \"#2a3f5f\", \"arrowhead\": 0, \"arrowwidth\": 1}, \"coloraxis\": {\"colorbar\": {\"outlinewidth\": 0, \"ticks\": \"\"}}, \"colorscale\": {\"diverging\": [[0, \"#8e0152\"], [0.1, \"#c51b7d\"], [0.2, \"#de77ae\"], [0.3, \"#f1b6da\"], [0.4, \"#fde0ef\"], [0.5, \"#f7f7f7\"], [0.6, \"#e6f5d0\"], [0.7, \"#b8e186\"], [0.8, \"#7fbc41\"], [0.9, \"#4d9221\"], [1, \"#276419\"]], \"sequential\": [[0.0, \"#0d0887\"], [0.1111111111111111, \"#46039f\"], [0.2222222222222222, \"#7201a8\"], [0.3333333333333333, \"#9c179e\"], [0.4444444444444444, \"#bd3786\"], [0.5555555555555556, \"#d8576b\"], [0.6666666666666666, \"#ed7953\"], [0.7777777777777778, \"#fb9f3a\"], [0.8888888888888888, \"#fdca26\"], [1.0, \"#f0f921\"]], \"sequentialminus\": [[0.0, \"#0d0887\"], [0.1111111111111111, \"#46039f\"], [0.2222222222222222, \"#7201a8\"], [0.3333333333333333, \"#9c179e\"], [0.4444444444444444, \"#bd3786\"], [0.5555555555555556, \"#d8576b\"], [0.6666666666666666, \"#ed7953\"], [0.7777777777777778, \"#fb9f3a\"], [0.8888888888888888, \"#fdca26\"], [1.0, \"#f0f921\"]]}, \"colorway\": [\"#636efa\", \"#EF553B\", \"#00cc96\", \"#ab63fa\", \"#FFA15A\", \"#19d3f3\", \"#FF6692\", \"#B6E880\", \"#FF97FF\", \"#FECB52\"], \"font\": {\"color\": \"#2a3f5f\"}, \"geo\": {\"bgcolor\": \"white\", \"lakecolor\": \"white\", \"landcolor\": \"#E5ECF6\", \"showlakes\": true, \"showland\": true, \"subunitcolor\": \"white\"}, \"hoverlabel\": {\"align\": \"left\"}, \"hovermode\": \"closest\", \"mapbox\": {\"style\": \"light\"}, \"paper_bgcolor\": \"white\", \"plot_bgcolor\": \"#E5ECF6\", \"polar\": {\"angularaxis\": {\"gridcolor\": \"white\", \"linecolor\": \"white\", \"ticks\": \"\"}, \"bgcolor\": \"#E5ECF6\", \"radialaxis\": {\"gridcolor\": \"white\", \"linecolor\": \"white\", \"ticks\": \"\"}}, \"scene\": {\"xaxis\": {\"backgroundcolor\": \"#E5ECF6\", \"gridcolor\": \"white\", \"gridwidth\": 2, \"linecolor\": \"white\", \"showbackground\": true, \"ticks\": \"\", \"zerolinecolor\": \"white\"}, \"yaxis\": {\"backgroundcolor\": \"#E5ECF6\", \"gridcolor\": \"white\", \"gridwidth\": 2, \"linecolor\": \"white\", \"showbackground\": true, \"ticks\": \"\", \"zerolinecolor\": \"white\"}, \"zaxis\": {\"backgroundcolor\": \"#E5ECF6\", \"gridcolor\": \"white\", \"gridwidth\": 2, \"linecolor\": \"white\", \"showbackground\": true, \"ticks\": \"\", \"zerolinecolor\": \"white\"}}, \"shapedefaults\": {\"line\": {\"color\": \"#2a3f5f\"}}, \"ternary\": {\"aaxis\": {\"gridcolor\": \"white\", \"linecolor\": \"white\", \"ticks\": \"\"}, \"baxis\": {\"gridcolor\": \"white\", \"linecolor\": \"white\", \"ticks\": \"\"}, \"bgcolor\": \"#E5ECF6\", \"caxis\": {\"gridcolor\": \"white\", \"linecolor\": \"white\", \"ticks\": \"\"}}, \"title\": {\"x\": 0.05}, \"xaxis\": {\"automargin\": true, \"gridcolor\": \"white\", \"linecolor\": \"white\", \"ticks\": \"\", \"title\": {\"standoff\": 15}, \"zerolinecolor\": \"white\", \"zerolinewidth\": 2}, \"yaxis\": {\"automargin\": true, \"gridcolor\": \"white\", \"linecolor\": \"white\", \"ticks\": \"\", \"title\": {\"standoff\": 15}, \"zerolinecolor\": \"white\", \"zerolinewidth\": 2}}}, \"xaxis\": {\"anchor\": \"y\", \"domain\": [0.0, 1.0], \"title\": {\"text\": \"job\"}}, \"yaxis\": {\"anchor\": \"x\", \"domain\": [0.0, 1.0], \"title\": {\"text\": \"count\"}}},\n",
       "                        {\"responsive\": true}\n",
       "                    ).then(function(){\n",
       "                            \n",
       "var gd = document.getElementById('934f5a47-0ef7-4d15-ad9c-d7bdb1ec3a92');\n",
       "var x = new MutationObserver(function (mutations, observer) {{\n",
       "        var display = window.getComputedStyle(gd).display;\n",
       "        if (!display || display === 'none') {{\n",
       "            console.log([gd, 'removed!']);\n",
       "            Plotly.purge(gd);\n",
       "            observer.disconnect();\n",
       "        }}\n",
       "}});\n",
       "\n",
       "// Listen for the removal of the full notebook cells\n",
       "var notebookContainer = gd.closest('#notebook-container');\n",
       "if (notebookContainer) {{\n",
       "    x.observe(notebookContainer, {childList: true});\n",
       "}}\n",
       "\n",
       "// Listen for the clearing of the current output cell\n",
       "var outputEl = gd.closest('.output');\n",
       "if (outputEl) {{\n",
       "    x.observe(outputEl, {childList: true});\n",
       "}}\n",
       "\n",
       "                        })\n",
       "                };\n",
       "                });\n",
       "            </script>\n",
       "        </div>"
      ]
     },
     "metadata": {},
     "output_type": "display_data"
    }
   ],
   "source": [
    "fig = px.histogram(df_yes, x='job')\n",
    "fig.show()"
   ]
  },
  {
   "cell_type": "markdown",
   "metadata": {},
   "source": [
    "## Does this mean that \"admins\" are more likely to deposit or are they simply being called more than others on purpose?"
   ]
  },
  {
   "cell_type": "code",
   "execution_count": 132,
   "metadata": {},
   "outputs": [
    {
     "data": {
      "text/html": [
       "<div>\n",
       "<style scoped>\n",
       "    .dataframe tbody tr th:only-of-type {\n",
       "        vertical-align: middle;\n",
       "    }\n",
       "\n",
       "    .dataframe tbody tr th {\n",
       "        vertical-align: top;\n",
       "    }\n",
       "\n",
       "    .dataframe thead th {\n",
       "        text-align: right;\n",
       "    }\n",
       "</style>\n",
       "<table border=\"1\" class=\"dataframe\">\n",
       "  <thead>\n",
       "    <tr style=\"text-align: right;\">\n",
       "      <th></th>\n",
       "      <th></th>\n",
       "      <th>y_count</th>\n",
       "    </tr>\n",
       "    <tr>\n",
       "      <th>job</th>\n",
       "      <th>y</th>\n",
       "      <th></th>\n",
       "    </tr>\n",
       "  </thead>\n",
       "  <tbody>\n",
       "    <tr>\n",
       "      <th rowspan=\"2\" valign=\"top\">admin.</th>\n",
       "      <th>no</th>\n",
       "      <td>8652</td>\n",
       "    </tr>\n",
       "    <tr>\n",
       "      <th>yes</th>\n",
       "      <td>1282</td>\n",
       "    </tr>\n",
       "    <tr>\n",
       "      <th rowspan=\"2\" valign=\"top\">blue-collar</th>\n",
       "      <th>no</th>\n",
       "      <td>7964</td>\n",
       "    </tr>\n",
       "    <tr>\n",
       "      <th>yes</th>\n",
       "      <td>595</td>\n",
       "    </tr>\n",
       "    <tr>\n",
       "      <th rowspan=\"2\" valign=\"top\">entrepreneur</th>\n",
       "      <th>no</th>\n",
       "      <td>1244</td>\n",
       "    </tr>\n",
       "    <tr>\n",
       "      <th>yes</th>\n",
       "      <td>116</td>\n",
       "    </tr>\n",
       "    <tr>\n",
       "      <th rowspan=\"2\" valign=\"top\">housemaid</th>\n",
       "      <th>no</th>\n",
       "      <td>889</td>\n",
       "    </tr>\n",
       "    <tr>\n",
       "      <th>yes</th>\n",
       "      <td>98</td>\n",
       "    </tr>\n",
       "    <tr>\n",
       "      <th rowspan=\"2\" valign=\"top\">management</th>\n",
       "      <th>no</th>\n",
       "      <td>2424</td>\n",
       "    </tr>\n",
       "    <tr>\n",
       "      <th>yes</th>\n",
       "      <td>304</td>\n",
       "    </tr>\n",
       "    <tr>\n",
       "      <th rowspan=\"2\" valign=\"top\">retired</th>\n",
       "      <th>no</th>\n",
       "      <td>1186</td>\n",
       "    </tr>\n",
       "    <tr>\n",
       "      <th>yes</th>\n",
       "      <td>390</td>\n",
       "    </tr>\n",
       "    <tr>\n",
       "      <th rowspan=\"2\" valign=\"top\">self-employed</th>\n",
       "      <th>no</th>\n",
       "      <td>1203</td>\n",
       "    </tr>\n",
       "    <tr>\n",
       "      <th>yes</th>\n",
       "      <td>146</td>\n",
       "    </tr>\n",
       "    <tr>\n",
       "      <th rowspan=\"2\" valign=\"top\">services</th>\n",
       "      <th>no</th>\n",
       "      <td>3417</td>\n",
       "    </tr>\n",
       "    <tr>\n",
       "      <th>yes</th>\n",
       "      <td>297</td>\n",
       "    </tr>\n",
       "    <tr>\n",
       "      <th rowspan=\"2\" valign=\"top\">student</th>\n",
       "      <th>no</th>\n",
       "      <td>480</td>\n",
       "    </tr>\n",
       "    <tr>\n",
       "      <th>yes</th>\n",
       "      <td>208</td>\n",
       "    </tr>\n",
       "    <tr>\n",
       "      <th rowspan=\"2\" valign=\"top\">technician</th>\n",
       "      <th>no</th>\n",
       "      <td>5693</td>\n",
       "    </tr>\n",
       "    <tr>\n",
       "      <th>yes</th>\n",
       "      <td>683</td>\n",
       "    </tr>\n",
       "    <tr>\n",
       "      <th rowspan=\"2\" valign=\"top\">unemployed</th>\n",
       "      <th>no</th>\n",
       "      <td>825</td>\n",
       "    </tr>\n",
       "    <tr>\n",
       "      <th>yes</th>\n",
       "      <td>138</td>\n",
       "    </tr>\n",
       "  </tbody>\n",
       "</table>\n",
       "</div>"
      ],
      "text/plain": [
       "                   y_count\n",
       "job           y           \n",
       "admin.        no      8652\n",
       "              yes     1282\n",
       "blue-collar   no      7964\n",
       "              yes      595\n",
       "entrepreneur  no      1244\n",
       "              yes      116\n",
       "housemaid     no       889\n",
       "              yes       98\n",
       "management    no      2424\n",
       "              yes      304\n",
       "retired       no      1186\n",
       "              yes      390\n",
       "self-employed no      1203\n",
       "              yes      146\n",
       "services      no      3417\n",
       "              yes      297\n",
       "student       no       480\n",
       "              yes      208\n",
       "technician    no      5693\n",
       "              yes      683\n",
       "unemployed    no       825\n",
       "              yes      138"
      ]
     },
     "execution_count": 132,
     "metadata": {},
     "output_type": "execute_result"
    }
   ],
   "source": [
    "job_count = df.groupby(['job', 'y']).agg({'y_count': 'count'})\n",
    "job_count"
   ]
  },
  {
   "cell_type": "code",
   "execution_count": 133,
   "metadata": {},
   "outputs": [
    {
     "data": {
      "text/html": [
       "<div>\n",
       "<style scoped>\n",
       "    .dataframe tbody tr th:only-of-type {\n",
       "        vertical-align: middle;\n",
       "    }\n",
       "\n",
       "    .dataframe tbody tr th {\n",
       "        vertical-align: top;\n",
       "    }\n",
       "\n",
       "    .dataframe thead th {\n",
       "        text-align: right;\n",
       "    }\n",
       "</style>\n",
       "<table border=\"1\" class=\"dataframe\">\n",
       "  <thead>\n",
       "    <tr style=\"text-align: right;\">\n",
       "      <th></th>\n",
       "      <th>job</th>\n",
       "      <th>y</th>\n",
       "      <th>y_count</th>\n",
       "    </tr>\n",
       "  </thead>\n",
       "  <tbody>\n",
       "    <tr>\n",
       "      <th>0</th>\n",
       "      <td>admin.</td>\n",
       "      <td>no</td>\n",
       "      <td>87.094826</td>\n",
       "    </tr>\n",
       "    <tr>\n",
       "      <th>1</th>\n",
       "      <td>admin.</td>\n",
       "      <td>yes</td>\n",
       "      <td>12.905174</td>\n",
       "    </tr>\n",
       "    <tr>\n",
       "      <th>2</th>\n",
       "      <td>blue-collar</td>\n",
       "      <td>no</td>\n",
       "      <td>93.048253</td>\n",
       "    </tr>\n",
       "    <tr>\n",
       "      <th>3</th>\n",
       "      <td>blue-collar</td>\n",
       "      <td>yes</td>\n",
       "      <td>6.951747</td>\n",
       "    </tr>\n",
       "    <tr>\n",
       "      <th>4</th>\n",
       "      <td>entrepreneur</td>\n",
       "      <td>no</td>\n",
       "      <td>91.470588</td>\n",
       "    </tr>\n",
       "    <tr>\n",
       "      <th>5</th>\n",
       "      <td>entrepreneur</td>\n",
       "      <td>yes</td>\n",
       "      <td>8.529412</td>\n",
       "    </tr>\n",
       "    <tr>\n",
       "      <th>6</th>\n",
       "      <td>housemaid</td>\n",
       "      <td>no</td>\n",
       "      <td>90.070922</td>\n",
       "    </tr>\n",
       "    <tr>\n",
       "      <th>7</th>\n",
       "      <td>housemaid</td>\n",
       "      <td>yes</td>\n",
       "      <td>9.929078</td>\n",
       "    </tr>\n",
       "    <tr>\n",
       "      <th>8</th>\n",
       "      <td>management</td>\n",
       "      <td>no</td>\n",
       "      <td>88.856305</td>\n",
       "    </tr>\n",
       "    <tr>\n",
       "      <th>9</th>\n",
       "      <td>management</td>\n",
       "      <td>yes</td>\n",
       "      <td>11.143695</td>\n",
       "    </tr>\n",
       "    <tr>\n",
       "      <th>10</th>\n",
       "      <td>retired</td>\n",
       "      <td>no</td>\n",
       "      <td>75.253807</td>\n",
       "    </tr>\n",
       "    <tr>\n",
       "      <th>11</th>\n",
       "      <td>retired</td>\n",
       "      <td>yes</td>\n",
       "      <td>24.746193</td>\n",
       "    </tr>\n",
       "    <tr>\n",
       "      <th>12</th>\n",
       "      <td>self-employed</td>\n",
       "      <td>no</td>\n",
       "      <td>89.177168</td>\n",
       "    </tr>\n",
       "    <tr>\n",
       "      <th>13</th>\n",
       "      <td>self-employed</td>\n",
       "      <td>yes</td>\n",
       "      <td>10.822832</td>\n",
       "    </tr>\n",
       "    <tr>\n",
       "      <th>14</th>\n",
       "      <td>services</td>\n",
       "      <td>no</td>\n",
       "      <td>92.003231</td>\n",
       "    </tr>\n",
       "    <tr>\n",
       "      <th>15</th>\n",
       "      <td>services</td>\n",
       "      <td>yes</td>\n",
       "      <td>7.996769</td>\n",
       "    </tr>\n",
       "    <tr>\n",
       "      <th>16</th>\n",
       "      <td>student</td>\n",
       "      <td>no</td>\n",
       "      <td>69.767442</td>\n",
       "    </tr>\n",
       "    <tr>\n",
       "      <th>17</th>\n",
       "      <td>student</td>\n",
       "      <td>yes</td>\n",
       "      <td>30.232558</td>\n",
       "    </tr>\n",
       "    <tr>\n",
       "      <th>18</th>\n",
       "      <td>technician</td>\n",
       "      <td>no</td>\n",
       "      <td>89.287955</td>\n",
       "    </tr>\n",
       "    <tr>\n",
       "      <th>19</th>\n",
       "      <td>technician</td>\n",
       "      <td>yes</td>\n",
       "      <td>10.712045</td>\n",
       "    </tr>\n",
       "    <tr>\n",
       "      <th>20</th>\n",
       "      <td>unemployed</td>\n",
       "      <td>no</td>\n",
       "      <td>85.669782</td>\n",
       "    </tr>\n",
       "    <tr>\n",
       "      <th>21</th>\n",
       "      <td>unemployed</td>\n",
       "      <td>yes</td>\n",
       "      <td>14.330218</td>\n",
       "    </tr>\n",
       "  </tbody>\n",
       "</table>\n",
       "</div>"
      ],
      "text/plain": [
       "              job    y    y_count\n",
       "0          admin.   no  87.094826\n",
       "1          admin.  yes  12.905174\n",
       "2     blue-collar   no  93.048253\n",
       "3     blue-collar  yes   6.951747\n",
       "4    entrepreneur   no  91.470588\n",
       "5    entrepreneur  yes   8.529412\n",
       "6       housemaid   no  90.070922\n",
       "7       housemaid  yes   9.929078\n",
       "8      management   no  88.856305\n",
       "9      management  yes  11.143695\n",
       "10        retired   no  75.253807\n",
       "11        retired  yes  24.746193\n",
       "12  self-employed   no  89.177168\n",
       "13  self-employed  yes  10.822832\n",
       "14       services   no  92.003231\n",
       "15       services  yes   7.996769\n",
       "16        student   no  69.767442\n",
       "17        student  yes  30.232558\n",
       "18     technician   no  89.287955\n",
       "19     technician  yes  10.712045\n",
       "20     unemployed   no  85.669782\n",
       "21     unemployed  yes  14.330218"
      ]
     },
     "execution_count": 133,
     "metadata": {},
     "output_type": "execute_result"
    }
   ],
   "source": [
    "stats_job = job_count.groupby(level=0).apply(lambda x:100 * x / float(x.sum())).reset_index()\n",
    "stats_job"
   ]
  },
  {
   "cell_type": "code",
   "execution_count": 134,
   "metadata": {},
   "outputs": [],
   "source": [
    "stats_job = stats_job.rename(columns={\"y_count\": \"y_percentage\"})"
   ]
  },
  {
   "cell_type": "code",
   "execution_count": 135,
   "metadata": {},
   "outputs": [
    {
     "data": {
      "application/vnd.plotly.v1+json": {
       "config": {
        "plotlyServerURL": "https://plot.ly"
       },
       "data": [
        {
         "alignmentgroup": "True",
         "hovertemplate": "y=yes<br>y_percentage=%{x}<br>job=%{y}<extra></extra>",
         "legendgroup": "yes",
         "marker": {
          "color": "#636efa"
         },
         "name": "yes",
         "offsetgroup": "yes",
         "orientation": "h",
         "showlegend": true,
         "textposition": "auto",
         "type": "bar",
         "x": [
          6.951746699380768,
          7.996768982229402,
          8.529411764705882,
          9.929078014184396,
          10.712045169385194,
          10.822831727205337,
          11.143695014662757,
          12.905174149385948,
          14.330218068535826,
          24.746192893401016,
          30.232558139534884
         ],
         "xaxis": "x",
         "y": [
          "blue-collar",
          "services",
          "entrepreneur",
          "housemaid",
          "technician",
          "self-employed",
          "management",
          "admin.",
          "unemployed",
          "retired",
          "student"
         ],
         "yaxis": "y"
        },
        {
         "alignmentgroup": "True",
         "hovertemplate": "y=no<br>y_percentage=%{x}<br>job=%{y}<extra></extra>",
         "legendgroup": "no",
         "marker": {
          "color": "#EF553B"
         },
         "name": "no",
         "offsetgroup": "no",
         "orientation": "h",
         "showlegend": true,
         "textposition": "auto",
         "type": "bar",
         "x": [
          69.76744186046511,
          75.25380710659898,
          85.66978193146417,
          87.09482585061406,
          88.85630498533725,
          89.17716827279466,
          89.28795483061481,
          90.0709219858156,
          91.47058823529412,
          92.0032310177706,
          93.04825330061924
         ],
         "xaxis": "x",
         "y": [
          "student",
          "retired",
          "unemployed",
          "admin.",
          "management",
          "self-employed",
          "technician",
          "housemaid",
          "entrepreneur",
          "services",
          "blue-collar"
         ],
         "yaxis": "y"
        }
       ],
       "layout": {
        "autosize": true,
        "barmode": "relative",
        "legend": {
         "title": {
          "text": "y"
         },
         "tracegroupgap": 0
        },
        "margin": {
         "t": 60
        },
        "template": {
         "data": {
          "bar": [
           {
            "error_x": {
             "color": "#2a3f5f"
            },
            "error_y": {
             "color": "#2a3f5f"
            },
            "marker": {
             "line": {
              "color": "#E5ECF6",
              "width": 0.5
             }
            },
            "type": "bar"
           }
          ],
          "barpolar": [
           {
            "marker": {
             "line": {
              "color": "#E5ECF6",
              "width": 0.5
             }
            },
            "type": "barpolar"
           }
          ],
          "carpet": [
           {
            "aaxis": {
             "endlinecolor": "#2a3f5f",
             "gridcolor": "white",
             "linecolor": "white",
             "minorgridcolor": "white",
             "startlinecolor": "#2a3f5f"
            },
            "baxis": {
             "endlinecolor": "#2a3f5f",
             "gridcolor": "white",
             "linecolor": "white",
             "minorgridcolor": "white",
             "startlinecolor": "#2a3f5f"
            },
            "type": "carpet"
           }
          ],
          "choropleth": [
           {
            "colorbar": {
             "outlinewidth": 0,
             "ticks": ""
            },
            "type": "choropleth"
           }
          ],
          "contour": [
           {
            "colorbar": {
             "outlinewidth": 0,
             "ticks": ""
            },
            "colorscale": [
             [
              0,
              "#0d0887"
             ],
             [
              0.1111111111111111,
              "#46039f"
             ],
             [
              0.2222222222222222,
              "#7201a8"
             ],
             [
              0.3333333333333333,
              "#9c179e"
             ],
             [
              0.4444444444444444,
              "#bd3786"
             ],
             [
              0.5555555555555556,
              "#d8576b"
             ],
             [
              0.6666666666666666,
              "#ed7953"
             ],
             [
              0.7777777777777778,
              "#fb9f3a"
             ],
             [
              0.8888888888888888,
              "#fdca26"
             ],
             [
              1,
              "#f0f921"
             ]
            ],
            "type": "contour"
           }
          ],
          "contourcarpet": [
           {
            "colorbar": {
             "outlinewidth": 0,
             "ticks": ""
            },
            "type": "contourcarpet"
           }
          ],
          "heatmap": [
           {
            "colorbar": {
             "outlinewidth": 0,
             "ticks": ""
            },
            "colorscale": [
             [
              0,
              "#0d0887"
             ],
             [
              0.1111111111111111,
              "#46039f"
             ],
             [
              0.2222222222222222,
              "#7201a8"
             ],
             [
              0.3333333333333333,
              "#9c179e"
             ],
             [
              0.4444444444444444,
              "#bd3786"
             ],
             [
              0.5555555555555556,
              "#d8576b"
             ],
             [
              0.6666666666666666,
              "#ed7953"
             ],
             [
              0.7777777777777778,
              "#fb9f3a"
             ],
             [
              0.8888888888888888,
              "#fdca26"
             ],
             [
              1,
              "#f0f921"
             ]
            ],
            "type": "heatmap"
           }
          ],
          "heatmapgl": [
           {
            "colorbar": {
             "outlinewidth": 0,
             "ticks": ""
            },
            "colorscale": [
             [
              0,
              "#0d0887"
             ],
             [
              0.1111111111111111,
              "#46039f"
             ],
             [
              0.2222222222222222,
              "#7201a8"
             ],
             [
              0.3333333333333333,
              "#9c179e"
             ],
             [
              0.4444444444444444,
              "#bd3786"
             ],
             [
              0.5555555555555556,
              "#d8576b"
             ],
             [
              0.6666666666666666,
              "#ed7953"
             ],
             [
              0.7777777777777778,
              "#fb9f3a"
             ],
             [
              0.8888888888888888,
              "#fdca26"
             ],
             [
              1,
              "#f0f921"
             ]
            ],
            "type": "heatmapgl"
           }
          ],
          "histogram": [
           {
            "marker": {
             "colorbar": {
              "outlinewidth": 0,
              "ticks": ""
             }
            },
            "type": "histogram"
           }
          ],
          "histogram2d": [
           {
            "colorbar": {
             "outlinewidth": 0,
             "ticks": ""
            },
            "colorscale": [
             [
              0,
              "#0d0887"
             ],
             [
              0.1111111111111111,
              "#46039f"
             ],
             [
              0.2222222222222222,
              "#7201a8"
             ],
             [
              0.3333333333333333,
              "#9c179e"
             ],
             [
              0.4444444444444444,
              "#bd3786"
             ],
             [
              0.5555555555555556,
              "#d8576b"
             ],
             [
              0.6666666666666666,
              "#ed7953"
             ],
             [
              0.7777777777777778,
              "#fb9f3a"
             ],
             [
              0.8888888888888888,
              "#fdca26"
             ],
             [
              1,
              "#f0f921"
             ]
            ],
            "type": "histogram2d"
           }
          ],
          "histogram2dcontour": [
           {
            "colorbar": {
             "outlinewidth": 0,
             "ticks": ""
            },
            "colorscale": [
             [
              0,
              "#0d0887"
             ],
             [
              0.1111111111111111,
              "#46039f"
             ],
             [
              0.2222222222222222,
              "#7201a8"
             ],
             [
              0.3333333333333333,
              "#9c179e"
             ],
             [
              0.4444444444444444,
              "#bd3786"
             ],
             [
              0.5555555555555556,
              "#d8576b"
             ],
             [
              0.6666666666666666,
              "#ed7953"
             ],
             [
              0.7777777777777778,
              "#fb9f3a"
             ],
             [
              0.8888888888888888,
              "#fdca26"
             ],
             [
              1,
              "#f0f921"
             ]
            ],
            "type": "histogram2dcontour"
           }
          ],
          "mesh3d": [
           {
            "colorbar": {
             "outlinewidth": 0,
             "ticks": ""
            },
            "type": "mesh3d"
           }
          ],
          "parcoords": [
           {
            "line": {
             "colorbar": {
              "outlinewidth": 0,
              "ticks": ""
             }
            },
            "type": "parcoords"
           }
          ],
          "pie": [
           {
            "automargin": true,
            "type": "pie"
           }
          ],
          "scatter": [
           {
            "marker": {
             "colorbar": {
              "outlinewidth": 0,
              "ticks": ""
             }
            },
            "type": "scatter"
           }
          ],
          "scatter3d": [
           {
            "line": {
             "colorbar": {
              "outlinewidth": 0,
              "ticks": ""
             }
            },
            "marker": {
             "colorbar": {
              "outlinewidth": 0,
              "ticks": ""
             }
            },
            "type": "scatter3d"
           }
          ],
          "scattercarpet": [
           {
            "marker": {
             "colorbar": {
              "outlinewidth": 0,
              "ticks": ""
             }
            },
            "type": "scattercarpet"
           }
          ],
          "scattergeo": [
           {
            "marker": {
             "colorbar": {
              "outlinewidth": 0,
              "ticks": ""
             }
            },
            "type": "scattergeo"
           }
          ],
          "scattergl": [
           {
            "marker": {
             "colorbar": {
              "outlinewidth": 0,
              "ticks": ""
             }
            },
            "type": "scattergl"
           }
          ],
          "scattermapbox": [
           {
            "marker": {
             "colorbar": {
              "outlinewidth": 0,
              "ticks": ""
             }
            },
            "type": "scattermapbox"
           }
          ],
          "scatterpolar": [
           {
            "marker": {
             "colorbar": {
              "outlinewidth": 0,
              "ticks": ""
             }
            },
            "type": "scatterpolar"
           }
          ],
          "scatterpolargl": [
           {
            "marker": {
             "colorbar": {
              "outlinewidth": 0,
              "ticks": ""
             }
            },
            "type": "scatterpolargl"
           }
          ],
          "scatterternary": [
           {
            "marker": {
             "colorbar": {
              "outlinewidth": 0,
              "ticks": ""
             }
            },
            "type": "scatterternary"
           }
          ],
          "surface": [
           {
            "colorbar": {
             "outlinewidth": 0,
             "ticks": ""
            },
            "colorscale": [
             [
              0,
              "#0d0887"
             ],
             [
              0.1111111111111111,
              "#46039f"
             ],
             [
              0.2222222222222222,
              "#7201a8"
             ],
             [
              0.3333333333333333,
              "#9c179e"
             ],
             [
              0.4444444444444444,
              "#bd3786"
             ],
             [
              0.5555555555555556,
              "#d8576b"
             ],
             [
              0.6666666666666666,
              "#ed7953"
             ],
             [
              0.7777777777777778,
              "#fb9f3a"
             ],
             [
              0.8888888888888888,
              "#fdca26"
             ],
             [
              1,
              "#f0f921"
             ]
            ],
            "type": "surface"
           }
          ],
          "table": [
           {
            "cells": {
             "fill": {
              "color": "#EBF0F8"
             },
             "line": {
              "color": "white"
             }
            },
            "header": {
             "fill": {
              "color": "#C8D4E3"
             },
             "line": {
              "color": "white"
             }
            },
            "type": "table"
           }
          ]
         },
         "layout": {
          "annotationdefaults": {
           "arrowcolor": "#2a3f5f",
           "arrowhead": 0,
           "arrowwidth": 1
          },
          "coloraxis": {
           "colorbar": {
            "outlinewidth": 0,
            "ticks": ""
           }
          },
          "colorscale": {
           "diverging": [
            [
             0,
             "#8e0152"
            ],
            [
             0.1,
             "#c51b7d"
            ],
            [
             0.2,
             "#de77ae"
            ],
            [
             0.3,
             "#f1b6da"
            ],
            [
             0.4,
             "#fde0ef"
            ],
            [
             0.5,
             "#f7f7f7"
            ],
            [
             0.6,
             "#e6f5d0"
            ],
            [
             0.7,
             "#b8e186"
            ],
            [
             0.8,
             "#7fbc41"
            ],
            [
             0.9,
             "#4d9221"
            ],
            [
             1,
             "#276419"
            ]
           ],
           "sequential": [
            [
             0,
             "#0d0887"
            ],
            [
             0.1111111111111111,
             "#46039f"
            ],
            [
             0.2222222222222222,
             "#7201a8"
            ],
            [
             0.3333333333333333,
             "#9c179e"
            ],
            [
             0.4444444444444444,
             "#bd3786"
            ],
            [
             0.5555555555555556,
             "#d8576b"
            ],
            [
             0.6666666666666666,
             "#ed7953"
            ],
            [
             0.7777777777777778,
             "#fb9f3a"
            ],
            [
             0.8888888888888888,
             "#fdca26"
            ],
            [
             1,
             "#f0f921"
            ]
           ],
           "sequentialminus": [
            [
             0,
             "#0d0887"
            ],
            [
             0.1111111111111111,
             "#46039f"
            ],
            [
             0.2222222222222222,
             "#7201a8"
            ],
            [
             0.3333333333333333,
             "#9c179e"
            ],
            [
             0.4444444444444444,
             "#bd3786"
            ],
            [
             0.5555555555555556,
             "#d8576b"
            ],
            [
             0.6666666666666666,
             "#ed7953"
            ],
            [
             0.7777777777777778,
             "#fb9f3a"
            ],
            [
             0.8888888888888888,
             "#fdca26"
            ],
            [
             1,
             "#f0f921"
            ]
           ]
          },
          "colorway": [
           "#636efa",
           "#EF553B",
           "#00cc96",
           "#ab63fa",
           "#FFA15A",
           "#19d3f3",
           "#FF6692",
           "#B6E880",
           "#FF97FF",
           "#FECB52"
          ],
          "font": {
           "color": "#2a3f5f"
          },
          "geo": {
           "bgcolor": "white",
           "lakecolor": "white",
           "landcolor": "#E5ECF6",
           "showlakes": true,
           "showland": true,
           "subunitcolor": "white"
          },
          "hoverlabel": {
           "align": "left"
          },
          "hovermode": "closest",
          "mapbox": {
           "style": "light"
          },
          "paper_bgcolor": "white",
          "plot_bgcolor": "#E5ECF6",
          "polar": {
           "angularaxis": {
            "gridcolor": "white",
            "linecolor": "white",
            "ticks": ""
           },
           "bgcolor": "#E5ECF6",
           "radialaxis": {
            "gridcolor": "white",
            "linecolor": "white",
            "ticks": ""
           }
          },
          "scene": {
           "xaxis": {
            "backgroundcolor": "#E5ECF6",
            "gridcolor": "white",
            "gridwidth": 2,
            "linecolor": "white",
            "showbackground": true,
            "ticks": "",
            "zerolinecolor": "white"
           },
           "yaxis": {
            "backgroundcolor": "#E5ECF6",
            "gridcolor": "white",
            "gridwidth": 2,
            "linecolor": "white",
            "showbackground": true,
            "ticks": "",
            "zerolinecolor": "white"
           },
           "zaxis": {
            "backgroundcolor": "#E5ECF6",
            "gridcolor": "white",
            "gridwidth": 2,
            "linecolor": "white",
            "showbackground": true,
            "ticks": "",
            "zerolinecolor": "white"
           }
          },
          "shapedefaults": {
           "line": {
            "color": "#2a3f5f"
           }
          },
          "ternary": {
           "aaxis": {
            "gridcolor": "white",
            "linecolor": "white",
            "ticks": ""
           },
           "baxis": {
            "gridcolor": "white",
            "linecolor": "white",
            "ticks": ""
           },
           "bgcolor": "#E5ECF6",
           "caxis": {
            "gridcolor": "white",
            "linecolor": "white",
            "ticks": ""
           }
          },
          "title": {
           "x": 0.05
          },
          "xaxis": {
           "automargin": true,
           "gridcolor": "white",
           "linecolor": "white",
           "ticks": "",
           "title": {
            "standoff": 15
           },
           "zerolinecolor": "white",
           "zerolinewidth": 2
          },
          "yaxis": {
           "automargin": true,
           "gridcolor": "white",
           "linecolor": "white",
           "ticks": "",
           "title": {
            "standoff": 15
           },
           "zerolinecolor": "white",
           "zerolinewidth": 2
          }
         }
        },
        "xaxis": {
         "anchor": "y",
         "autorange": true,
         "domain": [
          0,
          1
         ],
         "range": [
          0,
          105.26315789473685
         ],
         "title": {
          "text": "y_percentage"
         },
         "type": "linear"
        },
        "yaxis": {
         "anchor": "x",
         "autorange": true,
         "domain": [
          0,
          1
         ],
         "range": [
          -0.5,
          10.5
         ],
         "title": {
          "text": "job"
         },
         "type": "category"
        }
       }
      },
      "image/png": "[encoded data removed]",
      "text/html": [
       "<div>\n",
       "        \n",
       "        \n",
       "            <div id=\"d9aa7b08-4c92-4754-8ad2-242429bed9d6\" class=\"plotly-graph-div\" style=\"height:525px; width:100%;\"></div>\n",
       "            <script type=\"text/javascript\">\n",
       "                require([\"plotly\"], function(Plotly) {\n",
       "                    window.PLOTLYENV=window.PLOTLYENV || {};\n",
       "                    \n",
       "                if (document.getElementById(\"d9aa7b08-4c92-4754-8ad2-242429bed9d6\")) {\n",
       "                    Plotly.newPlot(\n",
       "                        'd9aa7b08-4c92-4754-8ad2-242429bed9d6',\n",
       "                        [{\"alignmentgroup\": \"True\", \"hovertemplate\": \"y=yes<br>y_percentage=%{x}<br>job=%{y}<extra></extra>\", \"legendgroup\": \"yes\", \"marker\": {\"color\": \"#636efa\"}, \"name\": \"yes\", \"offsetgroup\": \"yes\", \"orientation\": \"h\", \"showlegend\": true, \"textposition\": \"auto\", \"type\": \"bar\", \"x\": [6.951746699380768, 7.996768982229402, 8.529411764705882, 9.929078014184396, 10.712045169385194, 10.822831727205337, 11.143695014662757, 12.905174149385948, 14.330218068535826, 24.746192893401016, 30.232558139534884], \"xaxis\": \"x\", \"y\": [\"blue-collar\", \"services\", \"entrepreneur\", \"housemaid\", \"technician\", \"self-employed\", \"management\", \"admin.\", \"unemployed\", \"retired\", \"student\"], \"yaxis\": \"y\"}, {\"alignmentgroup\": \"True\", \"hovertemplate\": \"y=no<br>y_percentage=%{x}<br>job=%{y}<extra></extra>\", \"legendgroup\": \"no\", \"marker\": {\"color\": \"#EF553B\"}, \"name\": \"no\", \"offsetgroup\": \"no\", \"orientation\": \"h\", \"showlegend\": true, \"textposition\": \"auto\", \"type\": \"bar\", \"x\": [69.76744186046511, 75.25380710659898, 85.66978193146417, 87.09482585061406, 88.85630498533725, 89.17716827279466, 89.28795483061481, 90.0709219858156, 91.47058823529412, 92.0032310177706, 93.04825330061924], \"xaxis\": \"x\", \"y\": [\"student\", \"retired\", \"unemployed\", \"admin.\", \"management\", \"self-employed\", \"technician\", \"housemaid\", \"entrepreneur\", \"services\", \"blue-collar\"], \"yaxis\": \"y\"}],\n",
       "                        {\"barmode\": \"relative\", \"legend\": {\"title\": {\"text\": \"y\"}, \"tracegroupgap\": 0}, \"margin\": {\"t\": 60}, \"template\": {\"data\": {\"bar\": [{\"error_x\": {\"color\": \"#2a3f5f\"}, \"error_y\": {\"color\": \"#2a3f5f\"}, \"marker\": {\"line\": {\"color\": \"#E5ECF6\", \"width\": 0.5}}, \"type\": \"bar\"}], \"barpolar\": [{\"marker\": {\"line\": {\"color\": \"#E5ECF6\", \"width\": 0.5}}, \"type\": \"barpolar\"}], \"carpet\": [{\"aaxis\": {\"endlinecolor\": \"#2a3f5f\", \"gridcolor\": \"white\", \"linecolor\": \"white\", \"minorgridcolor\": \"white\", \"startlinecolor\": \"#2a3f5f\"}, \"baxis\": {\"endlinecolor\": \"#2a3f5f\", \"gridcolor\": \"white\", \"linecolor\": \"white\", \"minorgridcolor\": \"white\", \"startlinecolor\": \"#2a3f5f\"}, \"type\": \"carpet\"}], \"choropleth\": [{\"colorbar\": {\"outlinewidth\": 0, \"ticks\": \"\"}, \"type\": \"choropleth\"}], \"contour\": [{\"colorbar\": {\"outlinewidth\": 0, \"ticks\": \"\"}, \"colorscale\": [[0.0, \"#0d0887\"], [0.1111111111111111, \"#46039f\"], [0.2222222222222222, \"#7201a8\"], [0.3333333333333333, \"#9c179e\"], [0.4444444444444444, \"#bd3786\"], [0.5555555555555556, \"#d8576b\"], [0.6666666666666666, \"#ed7953\"], [0.7777777777777778, \"#fb9f3a\"], [0.8888888888888888, \"#fdca26\"], [1.0, \"#f0f921\"]], \"type\": \"contour\"}], \"contourcarpet\": [{\"colorbar\": {\"outlinewidth\": 0, \"ticks\": \"\"}, \"type\": \"contourcarpet\"}], \"heatmap\": [{\"colorbar\": {\"outlinewidth\": 0, \"ticks\": \"\"}, \"colorscale\": [[0.0, \"#0d0887\"], [0.1111111111111111, \"#46039f\"], [0.2222222222222222, \"#7201a8\"], [0.3333333333333333, \"#9c179e\"], [0.4444444444444444, \"#bd3786\"], [0.5555555555555556, \"#d8576b\"], [0.6666666666666666, \"#ed7953\"], [0.7777777777777778, \"#fb9f3a\"], [0.8888888888888888, \"#fdca26\"], [1.0, \"#f0f921\"]], \"type\": \"heatmap\"}], \"heatmapgl\": [{\"colorbar\": {\"outlinewidth\": 0, \"ticks\": \"\"}, \"colorscale\": [[0.0, \"#0d0887\"], [0.1111111111111111, \"#46039f\"], [0.2222222222222222, \"#7201a8\"], [0.3333333333333333, \"#9c179e\"], [0.4444444444444444, \"#bd3786\"], [0.5555555555555556, \"#d8576b\"], [0.6666666666666666, \"#ed7953\"], [0.7777777777777778, \"#fb9f3a\"], [0.8888888888888888, \"#fdca26\"], [1.0, \"#f0f921\"]], \"type\": \"heatmapgl\"}], \"histogram\": [{\"marker\": {\"colorbar\": {\"outlinewidth\": 0, \"ticks\": \"\"}}, \"type\": \"histogram\"}], \"histogram2d\": [{\"colorbar\": {\"outlinewidth\": 0, \"ticks\": \"\"}, \"colorscale\": [[0.0, \"#0d0887\"], [0.1111111111111111, \"#46039f\"], [0.2222222222222222, \"#7201a8\"], [0.3333333333333333, \"#9c179e\"], [0.4444444444444444, \"#bd3786\"], [0.5555555555555556, \"#d8576b\"], [0.6666666666666666, \"#ed7953\"], [0.7777777777777778, \"#fb9f3a\"], [0.8888888888888888, \"#fdca26\"], [1.0, \"#f0f921\"]], \"type\": \"histogram2d\"}], \"histogram2dcontour\": [{\"colorbar\": {\"outlinewidth\": 0, \"ticks\": \"\"}, \"colorscale\": [[0.0, \"#0d0887\"], [0.1111111111111111, \"#46039f\"], [0.2222222222222222, \"#7201a8\"], [0.3333333333333333, \"#9c179e\"], [0.4444444444444444, \"#bd3786\"], [0.5555555555555556, \"#d8576b\"], [0.6666666666666666, \"#ed7953\"], [0.7777777777777778, \"#fb9f3a\"], [0.8888888888888888, \"#fdca26\"], [1.0, \"#f0f921\"]], \"type\": \"histogram2dcontour\"}], \"mesh3d\": [{\"colorbar\": {\"outlinewidth\": 0, \"ticks\": \"\"}, \"type\": \"mesh3d\"}], \"parcoords\": [{\"line\": {\"colorbar\": {\"outlinewidth\": 0, \"ticks\": \"\"}}, \"type\": \"parcoords\"}], \"pie\": [{\"automargin\": true, \"type\": \"pie\"}], \"scatter\": [{\"marker\": {\"colorbar\": {\"outlinewidth\": 0, \"ticks\": \"\"}}, \"type\": \"scatter\"}], \"scatter3d\": [{\"line\": {\"colorbar\": {\"outlinewidth\": 0, \"ticks\": \"\"}}, \"marker\": {\"colorbar\": {\"outlinewidth\": 0, \"ticks\": \"\"}}, \"type\": \"scatter3d\"}], \"scattercarpet\": [{\"marker\": {\"colorbar\": {\"outlinewidth\": 0, \"ticks\": \"\"}}, \"type\": \"scattercarpet\"}], \"scattergeo\": [{\"marker\": {\"colorbar\": {\"outlinewidth\": 0, \"ticks\": \"\"}}, \"type\": \"scattergeo\"}], \"scattergl\": [{\"marker\": {\"colorbar\": {\"outlinewidth\": 0, \"ticks\": \"\"}}, \"type\": \"scattergl\"}], \"scattermapbox\": [{\"marker\": {\"colorbar\": {\"outlinewidth\": 0, \"ticks\": \"\"}}, \"type\": \"scattermapbox\"}], \"scatterpolar\": [{\"marker\": {\"colorbar\": {\"outlinewidth\": 0, \"ticks\": \"\"}}, \"type\": \"scatterpolar\"}], \"scatterpolargl\": [{\"marker\": {\"colorbar\": {\"outlinewidth\": 0, \"ticks\": \"\"}}, \"type\": \"scatterpolargl\"}], \"scatterternary\": [{\"marker\": {\"colorbar\": {\"outlinewidth\": 0, \"ticks\": \"\"}}, \"type\": \"scatterternary\"}], \"surface\": [{\"colorbar\": {\"outlinewidth\": 0, \"ticks\": \"\"}, \"colorscale\": [[0.0, \"#0d0887\"], [0.1111111111111111, \"#46039f\"], [0.2222222222222222, \"#7201a8\"], [0.3333333333333333, \"#9c179e\"], [0.4444444444444444, \"#bd3786\"], [0.5555555555555556, \"#d8576b\"], [0.6666666666666666, \"#ed7953\"], [0.7777777777777778, \"#fb9f3a\"], [0.8888888888888888, \"#fdca26\"], [1.0, \"#f0f921\"]], \"type\": \"surface\"}], \"table\": [{\"cells\": {\"fill\": {\"color\": \"#EBF0F8\"}, \"line\": {\"color\": \"white\"}}, \"header\": {\"fill\": {\"color\": \"#C8D4E3\"}, \"line\": {\"color\": \"white\"}}, \"type\": \"table\"}]}, \"layout\": {\"annotationdefaults\": {\"arrowcolor\": \"#2a3f5f\", \"arrowhead\": 0, \"arrowwidth\": 1}, \"coloraxis\": {\"colorbar\": {\"outlinewidth\": 0, \"ticks\": \"\"}}, \"colorscale\": {\"diverging\": [[0, \"#8e0152\"], [0.1, \"#c51b7d\"], [0.2, \"#de77ae\"], [0.3, \"#f1b6da\"], [0.4, \"#fde0ef\"], [0.5, \"#f7f7f7\"], [0.6, \"#e6f5d0\"], [0.7, \"#b8e186\"], [0.8, \"#7fbc41\"], [0.9, \"#4d9221\"], [1, \"#276419\"]], \"sequential\": [[0.0, \"#0d0887\"], [0.1111111111111111, \"#46039f\"], [0.2222222222222222, \"#7201a8\"], [0.3333333333333333, \"#9c179e\"], [0.4444444444444444, \"#bd3786\"], [0.5555555555555556, \"#d8576b\"], [0.6666666666666666, \"#ed7953\"], [0.7777777777777778, \"#fb9f3a\"], [0.8888888888888888, \"#fdca26\"], [1.0, \"#f0f921\"]], \"sequentialminus\": [[0.0, \"#0d0887\"], [0.1111111111111111, \"#46039f\"], [0.2222222222222222, \"#7201a8\"], [0.3333333333333333, \"#9c179e\"], [0.4444444444444444, \"#bd3786\"], [0.5555555555555556, \"#d8576b\"], [0.6666666666666666, \"#ed7953\"], [0.7777777777777778, \"#fb9f3a\"], [0.8888888888888888, \"#fdca26\"], [1.0, \"#f0f921\"]]}, \"colorway\": [\"#636efa\", \"#EF553B\", \"#00cc96\", \"#ab63fa\", \"#FFA15A\", \"#19d3f3\", \"#FF6692\", \"#B6E880\", \"#FF97FF\", \"#FECB52\"], \"font\": {\"color\": \"#2a3f5f\"}, \"geo\": {\"bgcolor\": \"white\", \"lakecolor\": \"white\", \"landcolor\": \"#E5ECF6\", \"showlakes\": true, \"showland\": true, \"subunitcolor\": \"white\"}, \"hoverlabel\": {\"align\": \"left\"}, \"hovermode\": \"closest\", \"mapbox\": {\"style\": \"light\"}, \"paper_bgcolor\": \"white\", \"plot_bgcolor\": \"#E5ECF6\", \"polar\": {\"angularaxis\": {\"gridcolor\": \"white\", \"linecolor\": \"white\", \"ticks\": \"\"}, \"bgcolor\": \"#E5ECF6\", \"radialaxis\": {\"gridcolor\": \"white\", \"linecolor\": \"white\", \"ticks\": \"\"}}, \"scene\": {\"xaxis\": {\"backgroundcolor\": \"#E5ECF6\", \"gridcolor\": \"white\", \"gridwidth\": 2, \"linecolor\": \"white\", \"showbackground\": true, \"ticks\": \"\", \"zerolinecolor\": \"white\"}, \"yaxis\": {\"backgroundcolor\": \"#E5ECF6\", \"gridcolor\": \"white\", \"gridwidth\": 2, \"linecolor\": \"white\", \"showbackground\": true, \"ticks\": \"\", \"zerolinecolor\": \"white\"}, \"zaxis\": {\"backgroundcolor\": \"#E5ECF6\", \"gridcolor\": \"white\", \"gridwidth\": 2, \"linecolor\": \"white\", \"showbackground\": true, \"ticks\": \"\", \"zerolinecolor\": \"white\"}}, \"shapedefaults\": {\"line\": {\"color\": \"#2a3f5f\"}}, \"ternary\": {\"aaxis\": {\"gridcolor\": \"white\", \"linecolor\": \"white\", \"ticks\": \"\"}, \"baxis\": {\"gridcolor\": \"white\", \"linecolor\": \"white\", \"ticks\": \"\"}, \"bgcolor\": \"#E5ECF6\", \"caxis\": {\"gridcolor\": \"white\", \"linecolor\": \"white\", \"ticks\": \"\"}}, \"title\": {\"x\": 0.05}, \"xaxis\": {\"automargin\": true, \"gridcolor\": \"white\", \"linecolor\": \"white\", \"ticks\": \"\", \"title\": {\"standoff\": 15}, \"zerolinecolor\": \"white\", \"zerolinewidth\": 2}, \"yaxis\": {\"automargin\": true, \"gridcolor\": \"white\", \"linecolor\": \"white\", \"ticks\": \"\", \"title\": {\"standoff\": 15}, \"zerolinecolor\": \"white\", \"zerolinewidth\": 2}}}, \"xaxis\": {\"anchor\": \"y\", \"domain\": [0.0, 1.0], \"title\": {\"text\": \"y_percentage\"}}, \"yaxis\": {\"anchor\": \"x\", \"domain\": [0.0, 1.0], \"title\": {\"text\": \"job\"}}},\n",
       "                        {\"responsive\": true}\n",
       "                    ).then(function(){\n",
       "                            \n",
       "var gd = document.getElementById('d9aa7b08-4c92-4754-8ad2-242429bed9d6');\n",
       "var x = new MutationObserver(function (mutations, observer) {{\n",
       "        var display = window.getComputedStyle(gd).display;\n",
       "        if (!display || display === 'none') {{\n",
       "            console.log([gd, 'removed!']);\n",
       "            Plotly.purge(gd);\n",
       "            observer.disconnect();\n",
       "        }}\n",
       "}});\n",
       "\n",
       "// Listen for the removal of the full notebook cells\n",
       "var notebookContainer = gd.closest('#notebook-container');\n",
       "if (notebookContainer) {{\n",
       "    x.observe(notebookContainer, {childList: true});\n",
       "}}\n",
       "\n",
       "// Listen for the clearing of the current output cell\n",
       "var outputEl = gd.closest('.output');\n",
       "if (outputEl) {{\n",
       "    x.observe(outputEl, {childList: true});\n",
       "}}\n",
       "\n",
       "                        })\n",
       "                };\n",
       "                });\n",
       "            </script>\n",
       "        </div>"
      ]
     },
     "metadata": {},
     "output_type": "display_data"
    }
   ],
   "source": [
    "stats_job.sort_values(by=['y_percentage'],ascending=True, inplace=True)\n",
    "fig = px.bar(stats_job, x='y_percentage', y=\"job\", color=\"y\", orientation='h', )\n",
    "fig.show()"
   ]
  },
  {
   "cell_type": "markdown",
   "metadata": {},
   "source": [
    "## Deposit outcome considering marital status in percentage"
   ]
  },
  {
   "cell_type": "code",
   "execution_count": 136,
   "metadata": {},
   "outputs": [
    {
     "data": {
      "text/html": [
       "<div>\n",
       "<style scoped>\n",
       "    .dataframe tbody tr th:only-of-type {\n",
       "        vertical-align: middle;\n",
       "    }\n",
       "\n",
       "    .dataframe tbody tr th {\n",
       "        vertical-align: top;\n",
       "    }\n",
       "\n",
       "    .dataframe thead th {\n",
       "        text-align: right;\n",
       "    }\n",
       "</style>\n",
       "<table border=\"1\" class=\"dataframe\">\n",
       "  <thead>\n",
       "    <tr style=\"text-align: right;\">\n",
       "      <th></th>\n",
       "      <th></th>\n",
       "      <th>y_count</th>\n",
       "    </tr>\n",
       "    <tr>\n",
       "      <th>marital</th>\n",
       "      <th>y</th>\n",
       "      <th></th>\n",
       "    </tr>\n",
       "  </thead>\n",
       "  <tbody>\n",
       "    <tr>\n",
       "      <th rowspan=\"2\" valign=\"top\">divorced</th>\n",
       "      <th>no</th>\n",
       "      <td>3853</td>\n",
       "    </tr>\n",
       "    <tr>\n",
       "      <th>yes</th>\n",
       "      <td>448</td>\n",
       "    </tr>\n",
       "    <tr>\n",
       "      <th rowspan=\"2\" valign=\"top\">married</th>\n",
       "      <th>no</th>\n",
       "      <td>20837</td>\n",
       "    </tr>\n",
       "    <tr>\n",
       "      <th>yes</th>\n",
       "      <td>2340</td>\n",
       "    </tr>\n",
       "    <tr>\n",
       "      <th rowspan=\"2\" valign=\"top\">single</th>\n",
       "      <th>no</th>\n",
       "      <td>9287</td>\n",
       "    </tr>\n",
       "    <tr>\n",
       "      <th>yes</th>\n",
       "      <td>1469</td>\n",
       "    </tr>\n",
       "  </tbody>\n",
       "</table>\n",
       "</div>"
      ],
      "text/plain": [
       "              y_count\n",
       "marital  y           \n",
       "divorced no      3853\n",
       "         yes      448\n",
       "married  no     20837\n",
       "         yes     2340\n",
       "single   no      9287\n",
       "         yes     1469"
      ]
     },
     "execution_count": 136,
     "metadata": {},
     "output_type": "execute_result"
    }
   ],
   "source": [
    "marital_count = df.groupby(['marital', 'y']).agg({'y_count': 'count'})\n",
    "marital_count"
   ]
  },
  {
   "cell_type": "code",
   "execution_count": 137,
   "metadata": {},
   "outputs": [
    {
     "data": {
      "text/html": [
       "<div>\n",
       "<style scoped>\n",
       "    .dataframe tbody tr th:only-of-type {\n",
       "        vertical-align: middle;\n",
       "    }\n",
       "\n",
       "    .dataframe tbody tr th {\n",
       "        vertical-align: top;\n",
       "    }\n",
       "\n",
       "    .dataframe thead th {\n",
       "        text-align: right;\n",
       "    }\n",
       "</style>\n",
       "<table border=\"1\" class=\"dataframe\">\n",
       "  <thead>\n",
       "    <tr style=\"text-align: right;\">\n",
       "      <th></th>\n",
       "      <th>marital</th>\n",
       "      <th>y</th>\n",
       "      <th>y_count</th>\n",
       "    </tr>\n",
       "  </thead>\n",
       "  <tbody>\n",
       "    <tr>\n",
       "      <th>0</th>\n",
       "      <td>divorced</td>\n",
       "      <td>no</td>\n",
       "      <td>89.583818</td>\n",
       "    </tr>\n",
       "    <tr>\n",
       "      <th>1</th>\n",
       "      <td>divorced</td>\n",
       "      <td>yes</td>\n",
       "      <td>10.416182</td>\n",
       "    </tr>\n",
       "    <tr>\n",
       "      <th>2</th>\n",
       "      <td>married</td>\n",
       "      <td>no</td>\n",
       "      <td>89.903784</td>\n",
       "    </tr>\n",
       "    <tr>\n",
       "      <th>3</th>\n",
       "      <td>married</td>\n",
       "      <td>yes</td>\n",
       "      <td>10.096216</td>\n",
       "    </tr>\n",
       "    <tr>\n",
       "      <th>4</th>\n",
       "      <td>single</td>\n",
       "      <td>no</td>\n",
       "      <td>86.342507</td>\n",
       "    </tr>\n",
       "    <tr>\n",
       "      <th>5</th>\n",
       "      <td>single</td>\n",
       "      <td>yes</td>\n",
       "      <td>13.657493</td>\n",
       "    </tr>\n",
       "  </tbody>\n",
       "</table>\n",
       "</div>"
      ],
      "text/plain": [
       "    marital    y    y_count\n",
       "0  divorced   no  89.583818\n",
       "1  divorced  yes  10.416182\n",
       "2   married   no  89.903784\n",
       "3   married  yes  10.096216\n",
       "4    single   no  86.342507\n",
       "5    single  yes  13.657493"
      ]
     },
     "execution_count": 137,
     "metadata": {},
     "output_type": "execute_result"
    }
   ],
   "source": [
    "stats_marital = marital_count.groupby(level=0).apply(lambda x:100 * x / float(x.sum())).reset_index()\n",
    "stats_marital"
   ]
  },
  {
   "cell_type": "code",
   "execution_count": 138,
   "metadata": {},
   "outputs": [],
   "source": [
    "stats_marital = stats_marital.rename(columns={\"y_count\": \"y_percentage\"})"
   ]
  },
  {
   "cell_type": "code",
   "execution_count": 139,
   "metadata": {},
   "outputs": [
    {
     "data": {
      "application/vnd.plotly.v1+json": {
       "config": {
        "plotlyServerURL": "https://plot.ly"
       },
       "data": [
        {
         "alignmentgroup": "True",
         "hovertemplate": "y=no<br>y_percentage=%{x}<br>marital=%{y}<extra></extra>",
         "legendgroup": "no",
         "marker": {
          "color": "#636efa"
         },
         "name": "no",
         "offsetgroup": "no",
         "orientation": "h",
         "showlegend": true,
         "textposition": "auto",
         "type": "bar",
         "x": [
          89.58381771681005,
          89.90378392371748,
          86.34250650799554
         ],
         "xaxis": "x",
         "y": [
          "divorced",
          "married",
          "single"
         ],
         "yaxis": "y"
        },
        {
         "alignmentgroup": "True",
         "hovertemplate": "y=yes<br>y_percentage=%{x}<br>marital=%{y}<extra></extra>",
         "legendgroup": "yes",
         "marker": {
          "color": "#EF553B"
         },
         "name": "yes",
         "offsetgroup": "yes",
         "orientation": "h",
         "showlegend": true,
         "textposition": "auto",
         "type": "bar",
         "x": [
          10.416182283189956,
          10.096216076282522,
          13.657493492004463
         ],
         "xaxis": "x",
         "y": [
          "divorced",
          "married",
          "single"
         ],
         "yaxis": "y"
        }
       ],
       "layout": {
        "autosize": true,
        "barmode": "relative",
        "legend": {
         "title": {
          "text": "y"
         },
         "tracegroupgap": 0
        },
        "margin": {
         "t": 60
        },
        "template": {
         "data": {
          "bar": [
           {
            "error_x": {
             "color": "#2a3f5f"
            },
            "error_y": {
             "color": "#2a3f5f"
            },
            "marker": {
             "line": {
              "color": "#E5ECF6",
              "width": 0.5
             }
            },
            "type": "bar"
           }
          ],
          "barpolar": [
           {
            "marker": {
             "line": {
              "color": "#E5ECF6",
              "width": 0.5
             }
            },
            "type": "barpolar"
           }
          ],
          "carpet": [
           {
            "aaxis": {
             "endlinecolor": "#2a3f5f",
             "gridcolor": "white",
             "linecolor": "white",
             "minorgridcolor": "white",
             "startlinecolor": "#2a3f5f"
            },
            "baxis": {
             "endlinecolor": "#2a3f5f",
             "gridcolor": "white",
             "linecolor": "white",
             "minorgridcolor": "white",
             "startlinecolor": "#2a3f5f"
            },
            "type": "carpet"
           }
          ],
          "choropleth": [
           {
            "colorbar": {
             "outlinewidth": 0,
             "ticks": ""
            },
            "type": "choropleth"
           }
          ],
          "contour": [
           {
            "colorbar": {
             "outlinewidth": 0,
             "ticks": ""
            },
            "colorscale": [
             [
              0,
              "#0d0887"
             ],
             [
              0.1111111111111111,
              "#46039f"
             ],
             [
              0.2222222222222222,
              "#7201a8"
             ],
             [
              0.3333333333333333,
              "#9c179e"
             ],
             [
              0.4444444444444444,
              "#bd3786"
             ],
             [
              0.5555555555555556,
              "#d8576b"
             ],
             [
              0.6666666666666666,
              "#ed7953"
             ],
             [
              0.7777777777777778,
              "#fb9f3a"
             ],
             [
              0.8888888888888888,
              "#fdca26"
             ],
             [
              1,
              "#f0f921"
             ]
            ],
            "type": "contour"
           }
          ],
          "contourcarpet": [
           {
            "colorbar": {
             "outlinewidth": 0,
             "ticks": ""
            },
            "type": "contourcarpet"
           }
          ],
          "heatmap": [
           {
            "colorbar": {
             "outlinewidth": 0,
             "ticks": ""
            },
            "colorscale": [
             [
              0,
              "#0d0887"
             ],
             [
              0.1111111111111111,
              "#46039f"
             ],
             [
              0.2222222222222222,
              "#7201a8"
             ],
             [
              0.3333333333333333,
              "#9c179e"
             ],
             [
              0.4444444444444444,
              "#bd3786"
             ],
             [
              0.5555555555555556,
              "#d8576b"
             ],
             [
              0.6666666666666666,
              "#ed7953"
             ],
             [
              0.7777777777777778,
              "#fb9f3a"
             ],
             [
              0.8888888888888888,
              "#fdca26"
             ],
             [
              1,
              "#f0f921"
             ]
            ],
            "type": "heatmap"
           }
          ],
          "heatmapgl": [
           {
            "colorbar": {
             "outlinewidth": 0,
             "ticks": ""
            },
            "colorscale": [
             [
              0,
              "#0d0887"
             ],
             [
              0.1111111111111111,
              "#46039f"
             ],
             [
              0.2222222222222222,
              "#7201a8"
             ],
             [
              0.3333333333333333,
              "#9c179e"
             ],
             [
              0.4444444444444444,
              "#bd3786"
             ],
             [
              0.5555555555555556,
              "#d8576b"
             ],
             [
              0.6666666666666666,
              "#ed7953"
             ],
             [
              0.7777777777777778,
              "#fb9f3a"
             ],
             [
              0.8888888888888888,
              "#fdca26"
             ],
             [
              1,
              "#f0f921"
             ]
            ],
            "type": "heatmapgl"
           }
          ],
          "histogram": [
           {
            "marker": {
             "colorbar": {
              "outlinewidth": 0,
              "ticks": ""
             }
            },
            "type": "histogram"
           }
          ],
          "histogram2d": [
           {
            "colorbar": {
             "outlinewidth": 0,
             "ticks": ""
            },
            "colorscale": [
             [
              0,
              "#0d0887"
             ],
             [
              0.1111111111111111,
              "#46039f"
             ],
             [
              0.2222222222222222,
              "#7201a8"
             ],
             [
              0.3333333333333333,
              "#9c179e"
             ],
             [
              0.4444444444444444,
              "#bd3786"
             ],
             [
              0.5555555555555556,
              "#d8576b"
             ],
             [
              0.6666666666666666,
              "#ed7953"
             ],
             [
              0.7777777777777778,
              "#fb9f3a"
             ],
             [
              0.8888888888888888,
              "#fdca26"
             ],
             [
              1,
              "#f0f921"
             ]
            ],
            "type": "histogram2d"
           }
          ],
          "histogram2dcontour": [
           {
            "colorbar": {
             "outlinewidth": 0,
             "ticks": ""
            },
            "colorscale": [
             [
              0,
              "#0d0887"
             ],
             [
              0.1111111111111111,
              "#46039f"
             ],
             [
              0.2222222222222222,
              "#7201a8"
             ],
             [
              0.3333333333333333,
              "#9c179e"
             ],
             [
              0.4444444444444444,
              "#bd3786"
             ],
             [
              0.5555555555555556,
              "#d8576b"
             ],
             [
              0.6666666666666666,
              "#ed7953"
             ],
             [
              0.7777777777777778,
              "#fb9f3a"
             ],
             [
              0.8888888888888888,
              "#fdca26"
             ],
             [
              1,
              "#f0f921"
             ]
            ],
            "type": "histogram2dcontour"
           }
          ],
          "mesh3d": [
           {
            "colorbar": {
             "outlinewidth": 0,
             "ticks": ""
            },
            "type": "mesh3d"
           }
          ],
          "parcoords": [
           {
            "line": {
             "colorbar": {
              "outlinewidth": 0,
              "ticks": ""
             }
            },
            "type": "parcoords"
           }
          ],
          "pie": [
           {
            "automargin": true,
            "type": "pie"
           }
          ],
          "scatter": [
           {
            "marker": {
             "colorbar": {
              "outlinewidth": 0,
              "ticks": ""
             }
            },
            "type": "scatter"
           }
          ],
          "scatter3d": [
           {
            "line": {
             "colorbar": {
              "outlinewidth": 0,
              "ticks": ""
             }
            },
            "marker": {
             "colorbar": {
              "outlinewidth": 0,
              "ticks": ""
             }
            },
            "type": "scatter3d"
           }
          ],
          "scattercarpet": [
           {
            "marker": {
             "colorbar": {
              "outlinewidth": 0,
              "ticks": ""
             }
            },
            "type": "scattercarpet"
           }
          ],
          "scattergeo": [
           {
            "marker": {
             "colorbar": {
              "outlinewidth": 0,
              "ticks": ""
             }
            },
            "type": "scattergeo"
           }
          ],
          "scattergl": [
           {
            "marker": {
             "colorbar": {
              "outlinewidth": 0,
              "ticks": ""
             }
            },
            "type": "scattergl"
           }
          ],
          "scattermapbox": [
           {
            "marker": {
             "colorbar": {
              "outlinewidth": 0,
              "ticks": ""
             }
            },
            "type": "scattermapbox"
           }
          ],
          "scatterpolar": [
           {
            "marker": {
             "colorbar": {
              "outlinewidth": 0,
              "ticks": ""
             }
            },
            "type": "scatterpolar"
           }
          ],
          "scatterpolargl": [
           {
            "marker": {
             "colorbar": {
              "outlinewidth": 0,
              "ticks": ""
             }
            },
            "type": "scatterpolargl"
           }
          ],
          "scatterternary": [
           {
            "marker": {
             "colorbar": {
              "outlinewidth": 0,
              "ticks": ""
             }
            },
            "type": "scatterternary"
           }
          ],
          "surface": [
           {
            "colorbar": {
             "outlinewidth": 0,
             "ticks": ""
            },
            "colorscale": [
             [
              0,
              "#0d0887"
             ],
             [
              0.1111111111111111,
              "#46039f"
             ],
             [
              0.2222222222222222,
              "#7201a8"
             ],
             [
              0.3333333333333333,
              "#9c179e"
             ],
             [
              0.4444444444444444,
              "#bd3786"
             ],
             [
              0.5555555555555556,
              "#d8576b"
             ],
             [
              0.6666666666666666,
              "#ed7953"
             ],
             [
              0.7777777777777778,
              "#fb9f3a"
             ],
             [
              0.8888888888888888,
              "#fdca26"
             ],
             [
              1,
              "#f0f921"
             ]
            ],
            "type": "surface"
           }
          ],
          "table": [
           {
            "cells": {
             "fill": {
              "color": "#EBF0F8"
             },
             "line": {
              "color": "white"
             }
            },
            "header": {
             "fill": {
              "color": "#C8D4E3"
             },
             "line": {
              "color": "white"
             }
            },
            "type": "table"
           }
          ]
         },
         "layout": {
          "annotationdefaults": {
           "arrowcolor": "#2a3f5f",
           "arrowhead": 0,
           "arrowwidth": 1
          },
          "coloraxis": {
           "colorbar": {
            "outlinewidth": 0,
            "ticks": ""
           }
          },
          "colorscale": {
           "diverging": [
            [
             0,
             "#8e0152"
            ],
            [
             0.1,
             "#c51b7d"
            ],
            [
             0.2,
             "#de77ae"
            ],
            [
             0.3,
             "#f1b6da"
            ],
            [
             0.4,
             "#fde0ef"
            ],
            [
             0.5,
             "#f7f7f7"
            ],
            [
             0.6,
             "#e6f5d0"
            ],
            [
             0.7,
             "#b8e186"
            ],
            [
             0.8,
             "#7fbc41"
            ],
            [
             0.9,
             "#4d9221"
            ],
            [
             1,
             "#276419"
            ]
           ],
           "sequential": [
            [
             0,
             "#0d0887"
            ],
            [
             0.1111111111111111,
             "#46039f"
            ],
            [
             0.2222222222222222,
             "#7201a8"
            ],
            [
             0.3333333333333333,
             "#9c179e"
            ],
            [
             0.4444444444444444,
             "#bd3786"
            ],
            [
             0.5555555555555556,
             "#d8576b"
            ],
            [
             0.6666666666666666,
             "#ed7953"
            ],
            [
             0.7777777777777778,
             "#fb9f3a"
            ],
            [
             0.8888888888888888,
             "#fdca26"
            ],
            [
             1,
             "#f0f921"
            ]
           ],
           "sequentialminus": [
            [
             0,
             "#0d0887"
            ],
            [
             0.1111111111111111,
             "#46039f"
            ],
            [
             0.2222222222222222,
             "#7201a8"
            ],
            [
             0.3333333333333333,
             "#9c179e"
            ],
            [
             0.4444444444444444,
             "#bd3786"
            ],
            [
             0.5555555555555556,
             "#d8576b"
            ],
            [
             0.6666666666666666,
             "#ed7953"
            ],
            [
             0.7777777777777778,
             "#fb9f3a"
            ],
            [
             0.8888888888888888,
             "#fdca26"
            ],
            [
             1,
             "#f0f921"
            ]
           ]
          },
          "colorway": [
           "#636efa",
           "#EF553B",
           "#00cc96",
           "#ab63fa",
           "#FFA15A",
           "#19d3f3",
           "#FF6692",
           "#B6E880",
           "#FF97FF",
           "#FECB52"
          ],
          "font": {
           "color": "#2a3f5f"
          },
          "geo": {
           "bgcolor": "white",
           "lakecolor": "white",
           "landcolor": "#E5ECF6",
           "showlakes": true,
           "showland": true,
           "subunitcolor": "white"
          },
          "hoverlabel": {
           "align": "left"
          },
          "hovermode": "closest",
          "mapbox": {
           "style": "light"
          },
          "paper_bgcolor": "white",
          "plot_bgcolor": "#E5ECF6",
          "polar": {
           "angularaxis": {
            "gridcolor": "white",
            "linecolor": "white",
            "ticks": ""
           },
           "bgcolor": "#E5ECF6",
           "radialaxis": {
            "gridcolor": "white",
            "linecolor": "white",
            "ticks": ""
           }
          },
          "scene": {
           "xaxis": {
            "backgroundcolor": "#E5ECF6",
            "gridcolor": "white",
            "gridwidth": 2,
            "linecolor": "white",
            "showbackground": true,
            "ticks": "",
            "zerolinecolor": "white"
           },
           "yaxis": {
            "backgroundcolor": "#E5ECF6",
            "gridcolor": "white",
            "gridwidth": 2,
            "linecolor": "white",
            "showbackground": true,
            "ticks": "",
            "zerolinecolor": "white"
           },
           "zaxis": {
            "backgroundcolor": "#E5ECF6",
            "gridcolor": "white",
            "gridwidth": 2,
            "linecolor": "white",
            "showbackground": true,
            "ticks": "",
            "zerolinecolor": "white"
           }
          },
          "shapedefaults": {
           "line": {
            "color": "#2a3f5f"
           }
          },
          "ternary": {
           "aaxis": {
            "gridcolor": "white",
            "linecolor": "white",
            "ticks": ""
           },
           "baxis": {
            "gridcolor": "white",
            "linecolor": "white",
            "ticks": ""
           },
           "bgcolor": "#E5ECF6",
           "caxis": {
            "gridcolor": "white",
            "linecolor": "white",
            "ticks": ""
           }
          },
          "title": {
           "x": 0.05
          },
          "xaxis": {
           "automargin": true,
           "gridcolor": "white",
           "linecolor": "white",
           "ticks": "",
           "title": {
            "standoff": 15
           },
           "zerolinecolor": "white",
           "zerolinewidth": 2
          },
          "yaxis": {
           "automargin": true,
           "gridcolor": "white",
           "linecolor": "white",
           "ticks": "",
           "title": {
            "standoff": 15
           },
           "zerolinecolor": "white",
           "zerolinewidth": 2
          }
         }
        },
        "xaxis": {
         "anchor": "y",
         "autorange": true,
         "domain": [
          0,
          1
         ],
         "range": [
          0,
          105.26315789473685
         ],
         "title": {
          "text": "y_percentage"
         },
         "type": "linear"
        },
        "yaxis": {
         "anchor": "x",
         "autorange": true,
         "domain": [
          0,
          1
         ],
         "range": [
          -0.5,
          2.5
         ],
         "title": {
          "text": "marital"
         },
         "type": "category"
        }
       }
      },
      "image/png": "[encoded data removed]",
      "text/html": [
       "<div>\n",
       "        \n",
       "        \n",
       "            <div id=\"96f5d30b-2df4-43f4-ba70-2c1d308343e8\" class=\"plotly-graph-div\" style=\"height:525px; width:100%;\"></div>\n",
       "            <script type=\"text/javascript\">\n",
       "                require([\"plotly\"], function(Plotly) {\n",
       "                    window.PLOTLYENV=window.PLOTLYENV || {};\n",
       "                    \n",
       "                if (document.getElementById(\"96f5d30b-2df4-43f4-ba70-2c1d308343e8\")) {\n",
       "                    Plotly.newPlot(\n",
       "                        '96f5d30b-2df4-43f4-ba70-2c1d308343e8',\n",
       "                        [{\"alignmentgroup\": \"True\", \"hovertemplate\": \"y=no<br>y_percentage=%{x}<br>marital=%{y}<extra></extra>\", \"legendgroup\": \"no\", \"marker\": {\"color\": \"#636efa\"}, \"name\": \"no\", \"offsetgroup\": \"no\", \"orientation\": \"h\", \"showlegend\": true, \"textposition\": \"auto\", \"type\": \"bar\", \"x\": [89.58381771681005, 89.90378392371748, 86.34250650799554], \"xaxis\": \"x\", \"y\": [\"divorced\", \"married\", \"single\"], \"yaxis\": \"y\"}, {\"alignmentgroup\": \"True\", \"hovertemplate\": \"y=yes<br>y_percentage=%{x}<br>marital=%{y}<extra></extra>\", \"legendgroup\": \"yes\", \"marker\": {\"color\": \"#EF553B\"}, \"name\": \"yes\", \"offsetgroup\": \"yes\", \"orientation\": \"h\", \"showlegend\": true, \"textposition\": \"auto\", \"type\": \"bar\", \"x\": [10.416182283189956, 10.096216076282522, 13.657493492004463], \"xaxis\": \"x\", \"y\": [\"divorced\", \"married\", \"single\"], \"yaxis\": \"y\"}],\n",
       "                        {\"barmode\": \"relative\", \"legend\": {\"title\": {\"text\": \"y\"}, \"tracegroupgap\": 0}, \"margin\": {\"t\": 60}, \"template\": {\"data\": {\"bar\": [{\"error_x\": {\"color\": \"#2a3f5f\"}, \"error_y\": {\"color\": \"#2a3f5f\"}, \"marker\": {\"line\": {\"color\": \"#E5ECF6\", \"width\": 0.5}}, \"type\": \"bar\"}], \"barpolar\": [{\"marker\": {\"line\": {\"color\": \"#E5ECF6\", \"width\": 0.5}}, \"type\": \"barpolar\"}], \"carpet\": [{\"aaxis\": {\"endlinecolor\": \"#2a3f5f\", \"gridcolor\": \"white\", \"linecolor\": \"white\", \"minorgridcolor\": \"white\", \"startlinecolor\": \"#2a3f5f\"}, \"baxis\": {\"endlinecolor\": \"#2a3f5f\", \"gridcolor\": \"white\", \"linecolor\": \"white\", \"minorgridcolor\": \"white\", \"startlinecolor\": \"#2a3f5f\"}, \"type\": \"carpet\"}], \"choropleth\": [{\"colorbar\": {\"outlinewidth\": 0, \"ticks\": \"\"}, \"type\": \"choropleth\"}], \"contour\": [{\"colorbar\": {\"outlinewidth\": 0, \"ticks\": \"\"}, \"colorscale\": [[0.0, \"#0d0887\"], [0.1111111111111111, \"#46039f\"], [0.2222222222222222, \"#7201a8\"], [0.3333333333333333, \"#9c179e\"], [0.4444444444444444, \"#bd3786\"], [0.5555555555555556, \"#d8576b\"], [0.6666666666666666, \"#ed7953\"], [0.7777777777777778, \"#fb9f3a\"], [0.8888888888888888, \"#fdca26\"], [1.0, \"#f0f921\"]], \"type\": \"contour\"}], \"contourcarpet\": [{\"colorbar\": {\"outlinewidth\": 0, \"ticks\": \"\"}, \"type\": \"contourcarpet\"}], \"heatmap\": [{\"colorbar\": {\"outlinewidth\": 0, \"ticks\": \"\"}, \"colorscale\": [[0.0, \"#0d0887\"], [0.1111111111111111, \"#46039f\"], [0.2222222222222222, \"#7201a8\"], [0.3333333333333333, \"#9c179e\"], [0.4444444444444444, \"#bd3786\"], [0.5555555555555556, \"#d8576b\"], [0.6666666666666666, \"#ed7953\"], [0.7777777777777778, \"#fb9f3a\"], [0.8888888888888888, \"#fdca26\"], [1.0, \"#f0f921\"]], \"type\": \"heatmap\"}], \"heatmapgl\": [{\"colorbar\": {\"outlinewidth\": 0, \"ticks\": \"\"}, \"colorscale\": [[0.0, \"#0d0887\"], [0.1111111111111111, \"#46039f\"], [0.2222222222222222, \"#7201a8\"], [0.3333333333333333, \"#9c179e\"], [0.4444444444444444, \"#bd3786\"], [0.5555555555555556, \"#d8576b\"], [0.6666666666666666, \"#ed7953\"], [0.7777777777777778, \"#fb9f3a\"], [0.8888888888888888, \"#fdca26\"], [1.0, \"#f0f921\"]], \"type\": \"heatmapgl\"}], \"histogram\": [{\"marker\": {\"colorbar\": {\"outlinewidth\": 0, \"ticks\": \"\"}}, \"type\": \"histogram\"}], \"histogram2d\": [{\"colorbar\": {\"outlinewidth\": 0, \"ticks\": \"\"}, \"colorscale\": [[0.0, \"#0d0887\"], [0.1111111111111111, \"#46039f\"], [0.2222222222222222, \"#7201a8\"], [0.3333333333333333, \"#9c179e\"], [0.4444444444444444, \"#bd3786\"], [0.5555555555555556, \"#d8576b\"], [0.6666666666666666, \"#ed7953\"], [0.7777777777777778, \"#fb9f3a\"], [0.8888888888888888, \"#fdca26\"], [1.0, \"#f0f921\"]], \"type\": \"histogram2d\"}], \"histogram2dcontour\": [{\"colorbar\": {\"outlinewidth\": 0, \"ticks\": \"\"}, \"colorscale\": [[0.0, \"#0d0887\"], [0.1111111111111111, \"#46039f\"], [0.2222222222222222, \"#7201a8\"], [0.3333333333333333, \"#9c179e\"], [0.4444444444444444, \"#bd3786\"], [0.5555555555555556, \"#d8576b\"], [0.6666666666666666, \"#ed7953\"], [0.7777777777777778, \"#fb9f3a\"], [0.8888888888888888, \"#fdca26\"], [1.0, \"#f0f921\"]], \"type\": \"histogram2dcontour\"}], \"mesh3d\": [{\"colorbar\": {\"outlinewidth\": 0, \"ticks\": \"\"}, \"type\": \"mesh3d\"}], \"parcoords\": [{\"line\": {\"colorbar\": {\"outlinewidth\": 0, \"ticks\": \"\"}}, \"type\": \"parcoords\"}], \"pie\": [{\"automargin\": true, \"type\": \"pie\"}], \"scatter\": [{\"marker\": {\"colorbar\": {\"outlinewidth\": 0, \"ticks\": \"\"}}, \"type\": \"scatter\"}], \"scatter3d\": [{\"line\": {\"colorbar\": {\"outlinewidth\": 0, \"ticks\": \"\"}}, \"marker\": {\"colorbar\": {\"outlinewidth\": 0, \"ticks\": \"\"}}, \"type\": \"scatter3d\"}], \"scattercarpet\": [{\"marker\": {\"colorbar\": {\"outlinewidth\": 0, \"ticks\": \"\"}}, \"type\": \"scattercarpet\"}], \"scattergeo\": [{\"marker\": {\"colorbar\": {\"outlinewidth\": 0, \"ticks\": \"\"}}, \"type\": \"scattergeo\"}], \"scattergl\": [{\"marker\": {\"colorbar\": {\"outlinewidth\": 0, \"ticks\": \"\"}}, \"type\": \"scattergl\"}], \"scattermapbox\": [{\"marker\": {\"colorbar\": {\"outlinewidth\": 0, \"ticks\": \"\"}}, \"type\": \"scattermapbox\"}], \"scatterpolar\": [{\"marker\": {\"colorbar\": {\"outlinewidth\": 0, \"ticks\": \"\"}}, \"type\": \"scatterpolar\"}], \"scatterpolargl\": [{\"marker\": {\"colorbar\": {\"outlinewidth\": 0, \"ticks\": \"\"}}, \"type\": \"scatterpolargl\"}], \"scatterternary\": [{\"marker\": {\"colorbar\": {\"outlinewidth\": 0, \"ticks\": \"\"}}, \"type\": \"scatterternary\"}], \"surface\": [{\"colorbar\": {\"outlinewidth\": 0, \"ticks\": \"\"}, \"colorscale\": [[0.0, \"#0d0887\"], [0.1111111111111111, \"#46039f\"], [0.2222222222222222, \"#7201a8\"], [0.3333333333333333, \"#9c179e\"], [0.4444444444444444, \"#bd3786\"], [0.5555555555555556, \"#d8576b\"], [0.6666666666666666, \"#ed7953\"], [0.7777777777777778, \"#fb9f3a\"], [0.8888888888888888, \"#fdca26\"], [1.0, \"#f0f921\"]], \"type\": \"surface\"}], \"table\": [{\"cells\": {\"fill\": {\"color\": \"#EBF0F8\"}, \"line\": {\"color\": \"white\"}}, \"header\": {\"fill\": {\"color\": \"#C8D4E3\"}, \"line\": {\"color\": \"white\"}}, \"type\": \"table\"}]}, \"layout\": {\"annotationdefaults\": {\"arrowcolor\": \"#2a3f5f\", \"arrowhead\": 0, \"arrowwidth\": 1}, \"coloraxis\": {\"colorbar\": {\"outlinewidth\": 0, \"ticks\": \"\"}}, \"colorscale\": {\"diverging\": [[0, \"#8e0152\"], [0.1, \"#c51b7d\"], [0.2, \"#de77ae\"], [0.3, \"#f1b6da\"], [0.4, \"#fde0ef\"], [0.5, \"#f7f7f7\"], [0.6, \"#e6f5d0\"], [0.7, \"#b8e186\"], [0.8, \"#7fbc41\"], [0.9, \"#4d9221\"], [1, \"#276419\"]], \"sequential\": [[0.0, \"#0d0887\"], [0.1111111111111111, \"#46039f\"], [0.2222222222222222, \"#7201a8\"], [0.3333333333333333, \"#9c179e\"], [0.4444444444444444, \"#bd3786\"], [0.5555555555555556, \"#d8576b\"], [0.6666666666666666, \"#ed7953\"], [0.7777777777777778, \"#fb9f3a\"], [0.8888888888888888, \"#fdca26\"], [1.0, \"#f0f921\"]], \"sequentialminus\": [[0.0, \"#0d0887\"], [0.1111111111111111, \"#46039f\"], [0.2222222222222222, \"#7201a8\"], [0.3333333333333333, \"#9c179e\"], [0.4444444444444444, \"#bd3786\"], [0.5555555555555556, \"#d8576b\"], [0.6666666666666666, \"#ed7953\"], [0.7777777777777778, \"#fb9f3a\"], [0.8888888888888888, \"#fdca26\"], [1.0, \"#f0f921\"]]}, \"colorway\": [\"#636efa\", \"#EF553B\", \"#00cc96\", \"#ab63fa\", \"#FFA15A\", \"#19d3f3\", \"#FF6692\", \"#B6E880\", \"#FF97FF\", \"#FECB52\"], \"font\": {\"color\": \"#2a3f5f\"}, \"geo\": {\"bgcolor\": \"white\", \"lakecolor\": \"white\", \"landcolor\": \"#E5ECF6\", \"showlakes\": true, \"showland\": true, \"subunitcolor\": \"white\"}, \"hoverlabel\": {\"align\": \"left\"}, \"hovermode\": \"closest\", \"mapbox\": {\"style\": \"light\"}, \"paper_bgcolor\": \"white\", \"plot_bgcolor\": \"#E5ECF6\", \"polar\": {\"angularaxis\": {\"gridcolor\": \"white\", \"linecolor\": \"white\", \"ticks\": \"\"}, \"bgcolor\": \"#E5ECF6\", \"radialaxis\": {\"gridcolor\": \"white\", \"linecolor\": \"white\", \"ticks\": \"\"}}, \"scene\": {\"xaxis\": {\"backgroundcolor\": \"#E5ECF6\", \"gridcolor\": \"white\", \"gridwidth\": 2, \"linecolor\": \"white\", \"showbackground\": true, \"ticks\": \"\", \"zerolinecolor\": \"white\"}, \"yaxis\": {\"backgroundcolor\": \"#E5ECF6\", \"gridcolor\": \"white\", \"gridwidth\": 2, \"linecolor\": \"white\", \"showbackground\": true, \"ticks\": \"\", \"zerolinecolor\": \"white\"}, \"zaxis\": {\"backgroundcolor\": \"#E5ECF6\", \"gridcolor\": \"white\", \"gridwidth\": 2, \"linecolor\": \"white\", \"showbackground\": true, \"ticks\": \"\", \"zerolinecolor\": \"white\"}}, \"shapedefaults\": {\"line\": {\"color\": \"#2a3f5f\"}}, \"ternary\": {\"aaxis\": {\"gridcolor\": \"white\", \"linecolor\": \"white\", \"ticks\": \"\"}, \"baxis\": {\"gridcolor\": \"white\", \"linecolor\": \"white\", \"ticks\": \"\"}, \"bgcolor\": \"#E5ECF6\", \"caxis\": {\"gridcolor\": \"white\", \"linecolor\": \"white\", \"ticks\": \"\"}}, \"title\": {\"x\": 0.05}, \"xaxis\": {\"automargin\": true, \"gridcolor\": \"white\", \"linecolor\": \"white\", \"ticks\": \"\", \"title\": {\"standoff\": 15}, \"zerolinecolor\": \"white\", \"zerolinewidth\": 2}, \"yaxis\": {\"automargin\": true, \"gridcolor\": \"white\", \"linecolor\": \"white\", \"ticks\": \"\", \"title\": {\"standoff\": 15}, \"zerolinecolor\": \"white\", \"zerolinewidth\": 2}}}, \"xaxis\": {\"anchor\": \"y\", \"domain\": [0.0, 1.0], \"title\": {\"text\": \"y_percentage\"}}, \"yaxis\": {\"anchor\": \"x\", \"domain\": [0.0, 1.0], \"title\": {\"text\": \"marital\"}}},\n",
       "                        {\"responsive\": true}\n",
       "                    ).then(function(){\n",
       "                            \n",
       "var gd = document.getElementById('96f5d30b-2df4-43f4-ba70-2c1d308343e8');\n",
       "var x = new MutationObserver(function (mutations, observer) {{\n",
       "        var display = window.getComputedStyle(gd).display;\n",
       "        if (!display || display === 'none') {{\n",
       "            console.log([gd, 'removed!']);\n",
       "            Plotly.purge(gd);\n",
       "            observer.disconnect();\n",
       "        }}\n",
       "}});\n",
       "\n",
       "// Listen for the removal of the full notebook cells\n",
       "var notebookContainer = gd.closest('#notebook-container');\n",
       "if (notebookContainer) {{\n",
       "    x.observe(notebookContainer, {childList: true});\n",
       "}}\n",
       "\n",
       "// Listen for the clearing of the current output cell\n",
       "var outputEl = gd.closest('.output');\n",
       "if (outputEl) {{\n",
       "    x.observe(outputEl, {childList: true});\n",
       "}}\n",
       "\n",
       "                        })\n",
       "                };\n",
       "                });\n",
       "            </script>\n",
       "        </div>"
      ]
     },
     "metadata": {},
     "output_type": "display_data"
    }
   ],
   "source": [
    "fig = px.bar(stats_marital, x='y_percentage', y=\"marital\", color=\"y\", orientation='h')\n",
    "fig.show()"
   ]
  }
 ],
 "metadata": {
  "kernelspec": {
   "display_name": "Python 3",
   "language": "python",
   "name": "python3"
  },
  "language_info": {
   "codemirror_mode": {
    "name": "ipython",
    "version": 3
   },
   "file_extension": ".py",
   "mimetype": "text/x-python",
   "name": "python",
   "nbconvert_exporter": "python",
   "pygments_lexer": "ipython3",
   "version": "3.7.6"
  }
 },
 "nbformat": 4,
 "nbformat_minor": 4
}
